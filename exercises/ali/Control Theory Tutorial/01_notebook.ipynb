{
 "cells": [
  {
   "cell_type": "markdown",
   "metadata": {},
   "source": [
    "# Control Theory Tutorial  (DRAFT, NOT APPROVED YET)\n",
    "## The Cart-Pole System - Python for System Analysis"
   ]
  },
  {
   "cell_type": "markdown",
   "metadata": {},
   "source": [
    "## 1. Introduction\n",
    "The goal of this tutorial is to teach the usage of the programming language Python as a\n",
    "tool for developing and simulating control systems. The following topics are covered:\n",
    "\n",
    "- Derivation of the equations of motion through Lagrangian mechanics and scientific computing\n",
    "- Linearization of the resulting nonlinear system equations to obtain a linear system in state space form\n",
    "- Investigation of the control theoretic properties of the system (equilibria, observability, etc.)\n",
    "\n",
    "Please refer to the [Python List-Dictionary-Tuple tutorial](http://cs231n.github.io/python-numpy-tutorial/#python-containers) and the [NumPy Array tutorial](http://cs231n.github.io/python-numpy-tutorial/#numpy)\n",
    "if you are not familiar with the handling of containers and arrays in Python. If you are\n",
    "completely new to Python consult the very basic introduction on [tutorialspoint](https://www.tutorialspoint.com/python/index.htm). If you don't have any experience with Jupyter Notebook to get started it is recommended to watch the following tutorial:"
   ]
  },
  {
   "cell_type": "code",
   "execution_count": 1,
   "metadata": {},
   "outputs": [
    {
     "data": {
      "text/html": [
       "\n",
       "        <iframe\n",
       "            width=\"400\"\n",
       "            height=\"300\"\n",
       "            src=\"https://www.youtube.com/embed/HW29067qVWk\"\n",
       "            frameborder=\"0\"\n",
       "            allowfullscreen\n",
       "        ></iframe>\n",
       "        "
      ],
      "text/plain": [
       "<IPython.lib.display.YouTubeVideo at 0x1064b8b38>"
      ]
     },
     "execution_count": 1,
     "metadata": {},
     "output_type": "execute_result"
    }
   ],
   "source": [
    "from IPython.lib.display import YouTubeVideo\n",
    "YouTubeVideo('HW29067qVWk')"
   ]
  },
  {
   "cell_type": "markdown",
   "metadata": {},
   "source": [
    "# 2. The Cart-Pole System\n",
    "The cart-pole system, as shown in the figure is a common control theory benchmark system, and has different attributes, that make it particular interesting for teaching control theoretic principles and methods. \n",
    "\n",
    "The pole is attached to a cart at its end. By applying a force $F$ to the cart through a moment $M$, the cart can be moved in the $x$-direction. The objective is to control the cart, such that the pole, starting in the upright position, doesn't fall over. Another objective is the swing-up manover, where the pole starts from the downright position and has to be brought in the upright position and kept there. The second objective involves nonlinear control theory and is much harder to accomplish than the first."
   ]
  },
  {
   "cell_type": "markdown",
   "metadata": {},
   "source": [
    "![Cart-Pole System](img/cart-pole.png)"
   ]
  },
  {
   "cell_type": "markdown",
   "metadata": {},
   "source": [
    "## 2.1 Derivation of the equations of motion\n",
    "To derive the equations of motion, Lagrangian mechanics are used. At first the position vectors $\\mathbf{p}_i$ of all $i$ rigid bodies' center of mass have to be defined (in this case $i=0,1$). Then the velocities $\\dot{\\mathbf{p}}_i$ are derived by differentiation. After that the kinetic energy $T$ and potential energy $V$ are described to form the Lagrangian $L$. In the last step the equations of motions are derived by Lagrange's equations of the second kind."
   ]
  },
  {
   "cell_type": "markdown",
   "metadata": {},
   "source": [
    "At first the necessary Python libraries are imported."
   ]
  },
  {
   "cell_type": "code",
   "execution_count": 2,
   "metadata": {},
   "outputs": [],
   "source": [
    "import numpy as np\n",
    "import sympy as sp\n",
    "from sympy import sin, cos, pi, Function\n",
    "from sympy.interactive import printing\n",
    "printing.init_printing()"
   ]
  },
  {
   "cell_type": "markdown",
   "metadata": {},
   "source": [
    "Then symbolic expressions for all system parameters, time and force are defined."
   ]
  },
  {
   "cell_type": "code",
   "execution_count": 3,
   "metadata": {},
   "outputs": [],
   "source": [
    "t = sp.Symbol('t') # time\n",
    "params = sp.symbols('m0, m1, J1, l1, a1, g, d0, d1') # system parameters\n",
    "m0, m1, J1, l1, a1, g, d0, d1 = params\n",
    "params_values = [(m0, 3.34), (m1, 0.3583), (J1, 0.0379999),\n",
    "                 (l1, 0.5), (a1, 0.43), (g, 9.81), (d0, 0.1), (d1, 0.006588)]\n",
    "# force\n",
    "F = sp.Symbol('F')"
   ]
  },
  {
   "cell_type": "markdown",
   "metadata": {},
   "source": [
    "The system has 2 degrees of freedom, $x_0$ and $\\varphi_1$. The generelized coordinates $q_i$ are therefore:\n",
    "\\begin{align}\n",
    "&q_0 =  x_0 &q_1 =  \\varphi_1\n",
    "\\end{align}\n",
    "Because these are time dependent, they and there derivative up to order 2 are implemented as functions."
   ]
  },
  {
   "cell_type": "code",
   "execution_count": 4,
   "metadata": {},
   "outputs": [],
   "source": [
    "q0_t = Function('q0')(t)   \n",
    "dq0_t = q0_t.diff(t)\n",
    "ddq0_t = q0_t.diff(t, 2)\n",
    "q1_t = Function('q1')(t) \n",
    "dq1_t = q1_t.diff(t)\n",
    "ddq1_t = q1_t.diff(t, 2)"
   ]
  },
  {
   "cell_type": "markdown",
   "metadata": {},
   "source": [
    "### 2.1.1 Position vectors $\\mathbf{p}_i$\n",
    "The two rigid bodies of the cart-pole system are as the name suggests, the cart and the pole. The position vectors of the center of masses is found by the follwing expressions:\n",
    "\\begin{align}\n",
    "&\\mathbf{p}_0 = \\begin{pmatrix} x_0 \\\\ 0\\end{pmatrix} =\\begin{pmatrix} q_0 \\\\ 0\\end{pmatrix} & \\mathbf{p}_1 = \\begin{pmatrix} x_0 - a_1 \\sin \\varphi_1 \\\\ a_1 \\cos \\varphi_1\\end{pmatrix} = \\begin{pmatrix} q_0 - a_1 \\sin q_1 \\\\ a_1 \\cos q_1\\end{pmatrix}\n",
    "\\end{align}\n",
    "The position vectors are functions of the generalized coordinates."
   ]
  },
  {
   "cell_type": "code",
   "execution_count": 5,
   "metadata": {},
   "outputs": [
    {
     "data": {
      "image/png": "[encoded data removed]",
      "text/latex": [
       "$$\\left ( \\left[\\begin{matrix}\\operatorname{q_{0}}{\\left (t \\right )}\\\\0\\end{matrix}\\right], \\quad \\left[\\begin{matrix}- a_{1} \\sin{\\left (\\operatorname{q_{1}}{\\left (t \\right )} \\right )} + \\operatorname{q_{0}}{\\left (t \\right )}\\\\a_{1} \\cos{\\left (\\operatorname{q_{1}}{\\left (t \\right )} \\right )}\\end{matrix}\\right]\\right )$$"
      ],
      "text/plain": [
       "⎛⎡q₀(t)⎤  ⎡-a₁⋅sin(q₁(t)) + q₀(t)⎤⎞\n",
       "⎜⎢     ⎥, ⎢                      ⎥⎟\n",
       "⎝⎣  0  ⎦  ⎣    a₁⋅cos(q₁(t))     ⎦⎠"
      ]
     },
     "execution_count": 5,
     "metadata": {},
     "output_type": "execute_result"
    }
   ],
   "source": [
    "p0 = sp.Matrix([q0_t, 0])\n",
    "p1 = sp.Matrix([q0_t - a1*sin(q1_t), a1*cos(q1_t)])\n",
    "p0, p1"
   ]
  },
  {
   "cell_type": "markdown",
   "metadata": {},
   "source": [
    "### 2.1.2  Velocity vectors $\\dot{\\mathbf{p}}_i$"
   ]
  },
  {
   "cell_type": "markdown",
   "metadata": {},
   "source": [
    "The velocity vectors can be obtained by the time derivative.\n",
    "\\begin{align}\n",
    "&\\dot{\\mathbf{p}}_0 = \\begin{pmatrix} \\dot{x}_0 \\\\ 0\\end{pmatrix} =\\begin{pmatrix} \n",
    "\\dot{q}_0 \\\\ 0\\end{pmatrix} \n",
    "& \\dot{\\mathbf{p}}_1 = \\begin{pmatrix} \\dot{x}_0 - a_1 \\dot{\\varphi}_1 \\cos \\varphi_1 \n",
    "\\\\ - a_1 \\dot{\\varphi}_1 \\sin \\varphi_1\\end{pmatrix} \n",
    "= \\begin{pmatrix} \\dot{q}_0 - a_1 \\dot{q}_1 \\cos q_1 \\\\ - a_1 \\dot{q}_1 \\sin q_1\\end{pmatrix}\n",
    "\\end{align}"
   ]
  },
  {
   "cell_type": "code",
   "execution_count": 6,
   "metadata": {},
   "outputs": [
    {
     "data": {
      "image/png": "[encoded data removed]",
      "text/latex": [
       "$$\\left ( \\left[\\begin{matrix}\\frac{d}{d t} \\operatorname{q_{0}}{\\left (t \\right )}\\\\0\\end{matrix}\\right], \\quad \\left[\\begin{matrix}- a_{1} \\cos{\\left (\\operatorname{q_{1}}{\\left (t \\right )} \\right )} \\frac{d}{d t} \\operatorname{q_{1}}{\\left (t \\right )} + \\frac{d}{d t} \\operatorname{q_{0}}{\\left (t \\right )}\\\\- a_{1} \\sin{\\left (\\operatorname{q_{1}}{\\left (t \\right )} \\right )} \\frac{d}{d t} \\operatorname{q_{1}}{\\left (t \\right )}\\end{matrix}\\right]\\right )$$"
      ],
      "text/plain": [
       "⎛             ⎡                d           d        ⎤⎞\n",
       "⎜⎡d        ⎤  ⎢- a₁⋅cos(q₁(t))⋅──(q₁(t)) + ──(q₀(t))⎥⎟\n",
       "⎜⎢──(q₀(t))⎥  ⎢                dt          dt       ⎥⎟\n",
       "⎜⎢dt       ⎥, ⎢                                     ⎥⎟\n",
       "⎜⎢         ⎥  ⎢                     d               ⎥⎟\n",
       "⎜⎣    0    ⎦  ⎢      -a₁⋅sin(q₁(t))⋅──(q₁(t))       ⎥⎟\n",
       "⎝             ⎣                     dt              ⎦⎠"
      ]
     },
     "execution_count": 6,
     "metadata": {},
     "output_type": "execute_result"
    }
   ],
   "source": [
    "dp0 = p0.diff(t)\n",
    "dp1 = p1.diff(t)\n",
    "dp0, dp1"
   ]
  },
  {
   "cell_type": "markdown",
   "metadata": {},
   "source": [
    "### 2.1.3 Kinetic energy $T$\n",
    "The total kinetic energy of the system $T$ can be found by the sum of the kinetic energies $T_0$ and $T_1$ of the rigid bodies."
   ]
  },
  {
   "cell_type": "code",
   "execution_count": 7,
   "metadata": {},
   "outputs": [
    {
     "data": {
      "image/png": "[encoded data removed]",
      "text/latex": [
       "$$\\frac{m_{0} \\left(\\frac{d}{d t} \\operatorname{q_{0}}{\\left (t \\right )}\\right)^{2}}{2}$$"
      ],
      "text/plain": [
       "              2\n",
       "   ⎛d        ⎞ \n",
       "m₀⋅⎜──(q₀(t))⎟ \n",
       "   ⎝dt       ⎠ \n",
       "───────────────\n",
       "       2       "
      ]
     },
     "execution_count": 7,
     "metadata": {},
     "output_type": "execute_result"
    }
   ],
   "source": [
    "T0 = m0/2*(dp0.T*dp0)[0]\n",
    "T0"
   ]
  },
  {
   "cell_type": "code",
   "execution_count": 8,
   "metadata": {},
   "outputs": [
    {
     "data": {
      "image/png": "[encoded data removed]",
      "text/latex": [
       "$$\\frac{J_{1} \\left(\\frac{d}{d t} \\operatorname{q_{1}}{\\left (t \\right )}\\right)^{2}}{2} + \\frac{m_{1} \\left(a_{1}^{2} \\sin^{2}{\\left (\\operatorname{q_{1}}{\\left (t \\right )} \\right )} \\left(\\frac{d}{d t} \\operatorname{q_{1}}{\\left (t \\right )}\\right)^{2} + \\left(- a_{1} \\cos{\\left (\\operatorname{q_{1}}{\\left (t \\right )} \\right )} \\frac{d}{d t} \\operatorname{q_{1}}{\\left (t \\right )} + \\frac{d}{d t} \\operatorname{q_{0}}{\\left (t \\right )}\\right)^{2}\\right)}{2}$$"
      ],
      "text/plain": [
       "              2      ⎛                           2                            \n",
       "   ⎛d        ⎞       ⎜  2    2        ⎛d        ⎞    ⎛                d       \n",
       "J₁⋅⎜──(q₁(t))⎟    m₁⋅⎜a₁ ⋅sin (q₁(t))⋅⎜──(q₁(t))⎟  + ⎜- a₁⋅cos(q₁(t))⋅──(q₁(t)\n",
       "   ⎝dt       ⎠       ⎝                ⎝dt       ⎠    ⎝                dt      \n",
       "─────────────── + ────────────────────────────────────────────────────────────\n",
       "       2                                               2                      \n",
       "\n",
       "              2⎞\n",
       "    d        ⎞ ⎟\n",
       ") + ──(q₀(t))⎟ ⎟\n",
       "    dt       ⎠ ⎠\n",
       "────────────────\n",
       "                "
      ]
     },
     "execution_count": 8,
     "metadata": {},
     "output_type": "execute_result"
    }
   ],
   "source": [
    "T1 = (m1*(dp1.T*dp1)[0] + J1*dq1_t**2)/2\n",
    "T1"
   ]
  },
  {
   "cell_type": "code",
   "execution_count": 9,
   "metadata": {},
   "outputs": [
    {
     "data": {
      "image/png": "[encoded data removed]",
      "text/latex": [
       "$$\\frac{J_{1} \\left(\\frac{d}{d t} \\operatorname{q_{1}}{\\left (t \\right )}\\right)^{2}}{2} + \\frac{m_{0} \\left(\\frac{d}{d t} \\operatorname{q_{0}}{\\left (t \\right )}\\right)^{2}}{2} + \\frac{m_{1} \\left(a_{1}^{2} \\sin^{2}{\\left (\\operatorname{q_{1}}{\\left (t \\right )} \\right )} \\left(\\frac{d}{d t} \\operatorname{q_{1}}{\\left (t \\right )}\\right)^{2} + \\left(- a_{1} \\cos{\\left (\\operatorname{q_{1}}{\\left (t \\right )} \\right )} \\frac{d}{d t} \\operatorname{q_{1}}{\\left (t \\right )} + \\frac{d}{d t} \\operatorname{q_{0}}{\\left (t \\right )}\\right)^{2}\\right)}{2}$$"
      ],
      "text/plain": [
       "              2                 2      ⎛                           2          \n",
       "   ⎛d        ⎞       ⎛d        ⎞       ⎜  2    2        ⎛d        ⎞    ⎛      \n",
       "J₁⋅⎜──(q₁(t))⎟    m₀⋅⎜──(q₀(t))⎟    m₁⋅⎜a₁ ⋅sin (q₁(t))⋅⎜──(q₁(t))⎟  + ⎜- a₁⋅c\n",
       "   ⎝dt       ⎠       ⎝dt       ⎠       ⎝                ⎝dt       ⎠    ⎝      \n",
       "─────────────── + ─────────────── + ──────────────────────────────────────────\n",
       "       2                 2                                               2    \n",
       "\n",
       "                                2⎞\n",
       "          d           d        ⎞ ⎟\n",
       "os(q₁(t))⋅──(q₁(t)) + ──(q₀(t))⎟ ⎟\n",
       "          dt          dt       ⎠ ⎠\n",
       "──────────────────────────────────\n",
       "                                  "
      ]
     },
     "execution_count": 9,
     "metadata": {},
     "output_type": "execute_result"
    }
   ],
   "source": [
    "T = T0 + T1\n",
    "T"
   ]
  },
  {
   "cell_type": "markdown",
   "metadata": {},
   "source": [
    "### 2.1.3 Potential energy $V$\n",
    "The total potential energy of the system $V$ can be found by the sum of the kinetic energies $V_0$ and $V_1$ of the rigid bodies. Because $V_0=0$, $V = V_1$."
   ]
  },
  {
   "cell_type": "code",
   "execution_count": 10,
   "metadata": {},
   "outputs": [
    {
     "data": {
      "image/png": "[encoded data removed]",
      "text/latex": [
       "$$a_{1} g m_{1} \\cos{\\left (\\operatorname{q_{1}}{\\left (t \\right )} \\right )}$$"
      ],
      "text/plain": [
       "a₁⋅g⋅m₁⋅cos(q₁(t))"
      ]
     },
     "execution_count": 10,
     "metadata": {},
     "output_type": "execute_result"
    }
   ],
   "source": [
    "V = m1*g*p1[1]\n",
    "V"
   ]
  },
  {
   "cell_type": "markdown",
   "metadata": {},
   "source": [
    "### 2.1.4 Lagrangian $L$\n",
    "The Lagrangian is defined as $L = T-V$"
   ]
  },
  {
   "cell_type": "code",
   "execution_count": 11,
   "metadata": {
    "scrolled": true
   },
   "outputs": [
    {
     "data": {
      "image/png": "[encoded data removed]",
      "text/latex": [
       "$$\\frac{J_{1} \\left(\\frac{d}{d t} \\operatorname{q_{1}}{\\left (t \\right )}\\right)^{2}}{2} + \\frac{a_{1}^{2} m_{1} \\left(\\frac{d}{d t} \\operatorname{q_{1}}{\\left (t \\right )}\\right)^{2}}{2} - a_{1} g m_{1} \\cos{\\left (\\operatorname{q_{1}}{\\left (t \\right )} \\right )} - a_{1} m_{1} \\cos{\\left (\\operatorname{q_{1}}{\\left (t \\right )} \\right )} \\frac{d}{d t} \\operatorname{q_{0}}{\\left (t \\right )} \\frac{d}{d t} \\operatorname{q_{1}}{\\left (t \\right )} + \\frac{m_{0} \\left(\\frac{d}{d t} \\operatorname{q_{0}}{\\left (t \\right )}\\right)^{2}}{2} + \\frac{m_{1} \\left(\\frac{d}{d t} \\operatorname{q_{0}}{\\left (t \\right )}\\right)^{2}}{2}$$"
      ],
      "text/plain": [
       "              2                     2                                         \n",
       "   ⎛d        ⎞      2    ⎛d        ⎞                                          \n",
       "J₁⋅⎜──(q₁(t))⎟    a₁ ⋅m₁⋅⎜──(q₁(t))⎟                                          \n",
       "   ⎝dt       ⎠           ⎝dt       ⎠                                          \n",
       "─────────────── + ─────────────────── - a₁⋅g⋅m₁⋅cos(q₁(t)) - a₁⋅m₁⋅cos(q₁(t))⋅\n",
       "       2                   2                                                  \n",
       "\n",
       "                                    2                 2\n",
       "                         ⎛d        ⎞       ⎛d        ⎞ \n",
       "                      m₀⋅⎜──(q₀(t))⎟    m₁⋅⎜──(q₀(t))⎟ \n",
       "d         d              ⎝dt       ⎠       ⎝dt       ⎠ \n",
       "──(q₀(t))⋅──(q₁(t)) + ─────────────── + ───────────────\n",
       "dt        dt                 2                 2       "
      ]
     },
     "execution_count": 11,
     "metadata": {},
     "output_type": "execute_result"
    }
   ],
   "source": [
    "L = T - V\n",
    "L = L.expand()\n",
    "L = sp.trigsimp(L)\n",
    "L"
   ]
  },
  {
   "cell_type": "markdown",
   "metadata": {},
   "source": [
    "### 2.1.5 Lagrange's equation of the second kind\n",
    "To obtain the equations of motion, Lagrange's equation of the second kind is used:\n",
    "\\begin{align}\n",
    "\\frac{\\mathrm{d}}{\\mathrm{d} t}\\left(\\frac{\\partial L}{\\partial \\dot{q}_i}\\right) - \\frac{\\partial L}{\\partial q_i} = Q_i \n",
    "\\quad i = 0,1\\end{align}\n",
    "with the generalized forces $Q_i$.\n",
    "Substituting $L = T-V$ leads to:\n",
    "\\begin{align}\n",
    "\\frac{\\mathrm{d}}{\\mathrm{d} t}\\left(\\frac{\\partial T}{\\partial \\dot{q}_i} \\right) - \\frac{\\mathrm{d}}{\\mathrm{d} t}\\left(\\frac{\\partial V}{\\partial \\dot{q}_i}\\right) - \\frac{\\partial T}{\\partial q_i} + \\frac{\\partial V}{\\partial q_i} = Q_i\n",
    "\\quad i = 0,1\\end{align}\n",
    "For mechanical systems like the cart-pole system $\\frac{\\mathrm{d}}{\\mathrm{d} t}\\frac{\\partial V}{\\partial \\dot{q}_i} = 0$. The equation simplifies to:\n",
    "\\begin{align}\n",
    "\\frac{\\mathrm{d}}{\\mathrm{d} t}\\left(\\frac{\\partial T}{\\partial \\dot{q}_i}\\right) - \\frac{\\partial T}{\\partial q_i} + \\left(\\frac{\\partial V}{\\partial q_i}\\right) = Q_i\n",
    "\\quad i = 0,1 \n",
    "\\end{align}\n",
    "\n",
    "The generalized forces can be seperated to a term $B\\mathbf{\\tau}$ that expresses how the actuator forces $u$ act on the system and a term for the disspitave forces $R$:\n",
    "\\begin{align}\n",
    "(Q_0,...,Q_n)^\\textrm{T} = B\\mathbf{\\tau} - R\n",
    "\\end{align}\n",
    "\n",
    "For the cart-pole system one obtains: \n",
    "\\begin{align}\n",
    "Q_0 = F - \\frac{1}{2}d_0 \\dot{q}_0^2 \\qquad Q_1 = - \\frac{1}{2}d_1 \\dot{q}_1^2 \n",
    "\\end{align}"
   ]
  },
  {
   "cell_type": "code",
   "execution_count": 12,
   "metadata": {},
   "outputs": [],
   "source": [
    "Q0 = F - d0/2*dq0_t**2"
   ]
  },
  {
   "cell_type": "code",
   "execution_count": 13,
   "metadata": {},
   "outputs": [],
   "source": [
    "Q0 = F - d0*dq0_t"
   ]
  },
  {
   "cell_type": "code",
   "execution_count": 14,
   "metadata": {},
   "outputs": [],
   "source": [
    "Q1 =  - d1/2*dq1_t**2"
   ]
  },
  {
   "cell_type": "code",
   "execution_count": 15,
   "metadata": {},
   "outputs": [],
   "source": [
    "Q1 =  - d1*dq1_t"
   ]
  },
  {
   "cell_type": "code",
   "execution_count": 16,
   "metadata": {},
   "outputs": [],
   "source": [
    "Eq0 = L.diff(dq0_t, t) - L.diff(q0_t) - Q0 # = 0 "
   ]
  },
  {
   "cell_type": "code",
   "execution_count": 17,
   "metadata": {},
   "outputs": [],
   "source": [
    "Eq1 = L.diff(dq1_t, t) - L.diff(q1_t) - Q1 # = 0"
   ]
  },
  {
   "cell_type": "markdown",
   "metadata": {},
   "source": [
    "A mechanical system is described by the following equation:\n",
    "\\begin{align}\n",
    "M(\\mathbf{q})\\ddot{\\mathbf{q}}+C(\\mathbf{q},\\dot{\\mathbf{q}})+K(\\mathbf{q},\\dot{\\mathbf{q}}) - B(\\mathbf{q})\\mathbf{\\tau} = \\mathbf{0}\n",
    "\\end{align}\n",
    "\n",
    "$M$ - mass matrix\n",
    "\n",
    "$C$ - coriolis vector\n",
    "\n",
    "$K$ - vector containing potential energy terms and $R$\n",
    "\n",
    "This eqation is contained in the variable `Eq`."
   ]
  },
  {
   "cell_type": "code",
   "execution_count": 18,
   "metadata": {},
   "outputs": [
    {
     "data": {
      "image/png": "[encoded data removed]",
      "text/latex": [
       "$$\\left[\\begin{matrix}- F + a_{1} m_{1} \\sin{\\left (\\operatorname{q_{1}}{\\left (t \\right )} \\right )} \\left(\\frac{d}{d t} \\operatorname{q_{1}}{\\left (t \\right )}\\right)^{2} - a_{1} m_{1} \\cos{\\left (\\operatorname{q_{1}}{\\left (t \\right )} \\right )} \\frac{d^{2}}{d t^{2}} \\operatorname{q_{1}}{\\left (t \\right )} + d_{0} \\frac{d}{d t} \\operatorname{q_{0}}{\\left (t \\right )} + m_{0} \\frac{d^{2}}{d t^{2}} \\operatorname{q_{0}}{\\left (t \\right )} + m_{1} \\frac{d^{2}}{d t^{2}} \\operatorname{q_{0}}{\\left (t \\right )}\\\\J_{1} \\frac{d^{2}}{d t^{2}} \\operatorname{q_{1}}{\\left (t \\right )} + a_{1}^{2} m_{1} \\frac{d^{2}}{d t^{2}} \\operatorname{q_{1}}{\\left (t \\right )} - a_{1} g m_{1} \\sin{\\left (\\operatorname{q_{1}}{\\left (t \\right )} \\right )} - a_{1} m_{1} \\cos{\\left (\\operatorname{q_{1}}{\\left (t \\right )} \\right )} \\frac{d^{2}}{d t^{2}} \\operatorname{q_{0}}{\\left (t \\right )} + d_{1} \\frac{d}{d t} \\operatorname{q_{1}}{\\left (t \\right )}\\end{matrix}\\right]$$"
      ],
      "text/plain": [
       "⎡                                 2                      2                    \n",
       "⎢                      ⎛d        ⎞                      d              d      \n",
       "⎢-F + a₁⋅m₁⋅sin(q₁(t))⋅⎜──(q₁(t))⎟  - a₁⋅m₁⋅cos(q₁(t))⋅───(q₁(t)) + d₀⋅──(q₀(t\n",
       "⎢                      ⎝dt       ⎠                       2             dt     \n",
       "⎢                                                      dt                     \n",
       "⎢                                                                             \n",
       "⎢           2                   2                                             \n",
       "⎢          d             2     d                                              \n",
       "⎢      J₁⋅───(q₁(t)) + a₁ ⋅m₁⋅───(q₁(t)) - a₁⋅g⋅m₁⋅sin(q₁(t)) - a₁⋅m₁⋅cos(q₁(t\n",
       "⎢           2                   2                                             \n",
       "⎣         dt                  dt                                              \n",
       "\n",
       "          2               2       ⎤\n",
       "         d               d        ⎥\n",
       ")) + m₀⋅───(q₀(t)) + m₁⋅───(q₀(t))⎥\n",
       "          2               2       ⎥\n",
       "        dt              dt        ⎥\n",
       "                                  ⎥\n",
       "     2                            ⎥\n",
       "    d              d              ⎥\n",
       "))⋅───(q₀(t)) + d₁⋅──(q₁(t))      ⎥\n",
       "     2             dt             ⎥\n",
       "   dt                             ⎦"
      ]
     },
     "execution_count": 18,
     "metadata": {},
     "output_type": "execute_result"
    }
   ],
   "source": [
    "Eq = sp.Matrix([Eq0, Eq1])\n",
    "Eq"
   ]
  },
  {
   "cell_type": "markdown",
   "metadata": {},
   "source": [
    "The mass matrix $M$ can be found by applying the differential operator \n",
    "$\\frac{\\mathrm{d}}{\\mathrm{d}\\mathbf{\\ddot{q}}}$ to `Eq`."
   ]
  },
  {
   "cell_type": "code",
   "execution_count": 19,
   "metadata": {},
   "outputs": [
    {
     "data": {
      "image/png": "[encoded data removed]",
      "text/latex": [
       "$$\\left[\\begin{matrix}m_{0} + m_{1} & - a_{1} m_{1} \\cos{\\left (\\operatorname{q_{1}}{\\left (t \\right )} \\right )}\\\\- a_{1} m_{1} \\cos{\\left (\\operatorname{q_{1}}{\\left (t \\right )} \\right )} & J_{1} + a_{1}^{2} m_{1}\\end{matrix}\\right]$$"
      ],
      "text/plain": [
       "⎡     m₀ + m₁       -a₁⋅m₁⋅cos(q₁(t))⎤\n",
       "⎢                                    ⎥\n",
       "⎢                             2      ⎥\n",
       "⎣-a₁⋅m₁⋅cos(q₁(t))     J₁ + a₁ ⋅m₁   ⎦"
      ]
     },
     "execution_count": 19,
     "metadata": {},
     "output_type": "execute_result"
    }
   ],
   "source": [
    "ddq_t = sp.Matrix([ddq0_t, ddq1_t])\n",
    "M = Eq.jacobian(ddq_t)\n",
    "M"
   ]
  },
  {
   "cell_type": "markdown",
   "metadata": {},
   "source": [
    "The mass matrix of mechanical systems is always symmetric and invertible. Therefore an equation for $\\ddot{\\mathbf{q}}$ always exists.\n",
    "\\begin{align}\n",
    "\\ddot{\\mathbf{q}} = M^{-1}(\\mathbf{q})\\left(-C(\\mathbf{q},\\dot{\\mathbf{q}})-K(\\mathbf{q},\\dot{\\mathbf{q}}) + B(\\mathbf{q})\\mathbf{\\tau} \\right)\n",
    "\\end{align}"
   ]
  },
  {
   "cell_type": "code",
   "execution_count": 20,
   "metadata": {},
   "outputs": [
    {
     "data": {
      "image/png": "[encoded data removed]",
      "text/latex": [
       "$$\\left[\\begin{matrix}\\frac{a_{1} m_{1} \\left(a_{1} g m_{1} \\sin{\\left (\\operatorname{q_{1}}{\\left (t \\right )} \\right )} - d_{1} \\frac{d}{d t} \\operatorname{q_{1}}{\\left (t \\right )}\\right) \\cos{\\left (\\operatorname{q_{1}}{\\left (t \\right )} \\right )}}{- a_{1}^{2} m_{1}^{2} \\cos^{2}{\\left (\\operatorname{q_{1}}{\\left (t \\right )} \\right )} + \\left(J_{1} + a_{1}^{2} m_{1}\\right) \\left(m_{0} + m_{1}\\right)} + \\frac{\\left(J_{1} + a_{1}^{2} m_{1}\\right) \\left(F - a_{1} m_{1} \\sin{\\left (\\operatorname{q_{1}}{\\left (t \\right )} \\right )} \\left(\\frac{d}{d t} \\operatorname{q_{1}}{\\left (t \\right )}\\right)^{2} - d_{0} \\frac{d}{d t} \\operatorname{q_{0}}{\\left (t \\right )}\\right)}{- a_{1}^{2} m_{1}^{2} \\cos^{2}{\\left (\\operatorname{q_{1}}{\\left (t \\right )} \\right )} + \\left(J_{1} + a_{1}^{2} m_{1}\\right) \\left(m_{0} + m_{1}\\right)}\\\\\\frac{a_{1} m_{1} \\left(F - a_{1} m_{1} \\sin{\\left (\\operatorname{q_{1}}{\\left (t \\right )} \\right )} \\left(\\frac{d}{d t} \\operatorname{q_{1}}{\\left (t \\right )}\\right)^{2} - d_{0} \\frac{d}{d t} \\operatorname{q_{0}}{\\left (t \\right )}\\right) \\cos{\\left (\\operatorname{q_{1}}{\\left (t \\right )} \\right )}}{- a_{1}^{2} m_{1}^{2} \\cos^{2}{\\left (\\operatorname{q_{1}}{\\left (t \\right )} \\right )} + \\left(J_{1} + a_{1}^{2} m_{1}\\right) \\left(m_{0} + m_{1}\\right)} + \\frac{\\left(m_{0} + m_{1}\\right) \\left(a_{1} g m_{1} \\sin{\\left (\\operatorname{q_{1}}{\\left (t \\right )} \\right )} - d_{1} \\frac{d}{d t} \\operatorname{q_{1}}{\\left (t \\right )}\\right)}{- a_{1}^{2} m_{1}^{2} \\cos^{2}{\\left (\\operatorname{q_{1}}{\\left (t \\right )} \\right )} + \\left(J_{1} + a_{1}^{2} m_{1}\\right) \\left(m_{0} + m_{1}\\right)}\\end{matrix}\\right]$$"
      ],
      "text/plain": [
       "⎡                                                                     ⎛       \n",
       "⎢      ⎛                        d        ⎞              ⎛       2   ⎞ ⎜       \n",
       "⎢a₁⋅m₁⋅⎜a₁⋅g⋅m₁⋅sin(q₁(t)) - d₁⋅──(q₁(t))⎟⋅cos(q₁(t))   ⎝J₁ + a₁ ⋅m₁⎠⋅⎜F - a₁⋅\n",
       "⎢      ⎝                        dt       ⎠                            ⎝       \n",
       "⎢──────────────────────────────────────────────────── + ──────────────────────\n",
       "⎢      2   2    2          ⎛       2   ⎞                            2   2    2\n",
       "⎢  - a₁ ⋅m₁ ⋅cos (q₁(t)) + ⎝J₁ + a₁ ⋅m₁⎠⋅(m₀ + m₁)              - a₁ ⋅m₁ ⋅cos \n",
       "⎢                                                                             \n",
       "⎢       ⎛                                2               ⎞                    \n",
       "⎢       ⎜                     ⎛d        ⎞       d        ⎟                    \n",
       "⎢ a₁⋅m₁⋅⎜F - a₁⋅m₁⋅sin(q₁(t))⋅⎜──(q₁(t))⎟  - d₀⋅──(q₀(t))⎟⋅cos(q₁(t))    (m₀ +\n",
       "⎢       ⎝                     ⎝dt       ⎠       dt       ⎠                    \n",
       "⎢ ─────────────────────────────────────────────────────────────────── + ──────\n",
       "⎢               2   2    2          ⎛       2   ⎞                           2 \n",
       "⎣           - a₁ ⋅m₁ ⋅cos (q₁(t)) + ⎝J₁ + a₁ ⋅m₁⎠⋅(m₀ + m₁)             - a₁ ⋅\n",
       "\n",
       "                         2               ⎞⎤\n",
       "              ⎛d        ⎞       d        ⎟⎥\n",
       "m₁⋅sin(q₁(t))⋅⎜──(q₁(t))⎟  - d₀⋅──(q₀(t))⎟⎥\n",
       "              ⎝dt       ⎠       dt       ⎠⎥\n",
       "──────────────────────────────────────────⎥\n",
       "          ⎛       2   ⎞                   ⎥\n",
       "(q₁(t)) + ⎝J₁ + a₁ ⋅m₁⎠⋅(m₀ + m₁)         ⎥\n",
       "                                          ⎥\n",
       "                                          ⎥\n",
       "     ⎛                        d        ⎞  ⎥\n",
       " m₁)⋅⎜a₁⋅g⋅m₁⋅sin(q₁(t)) - d₁⋅──(q₁(t))⎟  ⎥\n",
       "     ⎝                        dt       ⎠  ⎥\n",
       "───────────────────────────────────────── ⎥\n",
       "  2    2          ⎛       2   ⎞           ⎥\n",
       "m₁ ⋅cos (q₁(t)) + ⎝J₁ + a₁ ⋅m₁⎠⋅(m₀ + m₁) ⎦"
      ]
     },
     "execution_count": 20,
     "metadata": {},
     "output_type": "execute_result"
    }
   ],
   "source": [
    "q_zeros = [(ddq0_t, 0), (ddq1_t, 0)]\n",
    "ddq = M.inv() * -Eq.subs(q_zeros)\n",
    "ddq"
   ]
  },
  {
   "cell_type": "markdown",
   "metadata": {},
   "source": [
    "## 2.2 State Space Model\n",
    "An input-affine, nonlinear system is given by the following equation:\n",
    "\\begin{align}\n",
    "\\dot{\\mathbf{x}}=\\mathbf{f}(\\mathbf{x})+\\mathbf{g}(\\mathbf{x})\\mathbf{u} \\qquad \\mathbf{x} \\textrm{ - state vector}, \\mathbf{u} \\textrm{ - control vector}\n",
    "\\end{align}\n",
    "\n",
    "To transform the system equations in state space form, the system equations $\\ddot{\\mathbf{q}}= \\mathbf{f}_{\\ddot{\\mathbf{q}}}(\\mathbf{q},\\dot{\\mathbf{q}}) + \\mathbf{g}_{\\ddot{\\mathbf{q}}}(\\mathbf{q})\\mathbf{\\tau}$, which are second order differential equations each have to be seperated to two differential equations of first order. This is done by introducing a state vector $\\mathbf{x}$ and a control vector $\\mathbf{u}$.\n",
    "\\begin{align}\n",
    "&\\mathbf{x} := \\begin{pmatrix} \\mathbf{q} \\\\ \\dot{\\mathbf{q}} \\end{pmatrix}\n",
    "&\\dot{\\mathbf{x}} = \\begin{pmatrix} \\dot{\\mathbf{q}} \\\\ \\ddot{\\mathbf{q}} \\end{pmatrix} \n",
    "&\\qquad \\mathbf{u} := \\mathbf{\\tau}\n",
    "\\end{align}\n",
    "Substituting $\\ddot{\\mathbf{q}}$, one obtains:\n",
    "\\begin{align}\n",
    "\\dot{\\mathbf{x}} = \\underbrace{\\begin{pmatrix} \\dot{\\mathbf{q}} \\\\ \\mathbf{f}_{\\ddot{\\mathbf{q}}}(\\mathbf{q},\\dot{\\mathbf{q}}) \\end{pmatrix}}_{=:\\mathbf{f}(\\mathbf{x})} + \\underbrace{\\begin{pmatrix} \\mathbf{0} \\\\ \\mathbf{g}_{\\ddot{\\mathbf{q}}}(\\mathbf{q}) \\end{pmatrix}}_{=:\\mathbf{g}(\\mathbf{x})}\\underbrace{\\mathbf{\\tau}}_{=:\\mathbf{u}}\n",
    "\\end{align}\n",
    "The result is an input-affine system, an inhomogenous, multi-dimensional first order differential equation in $\\mathbf{x}$."
   ]
  },
  {
   "cell_type": "markdown",
   "metadata": {},
   "source": [
    "### 2.2.1 Nonlinear system"
   ]
  },
  {
   "cell_type": "markdown",
   "metadata": {},
   "source": [
    "In the cart-pole case, $\\mathbf{q}$ is two dimensional, the state vector $\\mathbf{x}$ is therefore four dimensional:\n",
    "\\begin{align}\n",
    "\\mathbf{x} = \\begin{pmatrix}x_1 \\\\ x_2 \\\\ x_3 \\\\ x_4 \\end{pmatrix} = \n",
    "\\begin{pmatrix}q_0 \\\\ q_1 \\\\ \\dot q_0 \\\\ \\dot q_1 \\end{pmatrix}\n",
    "=\\begin{pmatrix}x_0 \\\\ \\varphi_1 \\\\ \\dot x_0 \\\\ \\dot \\varphi_1 \\end{pmatrix}\n",
    "\\end{align}"
   ]
  },
  {
   "cell_type": "code",
   "execution_count": 21,
   "metadata": {},
   "outputs": [],
   "source": [
    "x1_t = sp.Function('x1')(t)\n",
    "x2_t = sp.Function('x2')(t)\n",
    "x3_t = sp.Function('x3')(t)\n",
    "x4_t = sp.Function('x4')(t)\n",
    "x_t = sp.Matrix([x1_t, x2_t, x3_t, x4_t])\n",
    "\n",
    "u_t = sp.Function('u')(t)"
   ]
  },
  {
   "cell_type": "markdown",
   "metadata": {},
   "source": [
    "$q_0,q_1$ and $\\dot q_0,\\dot q_1$ in $\\ddot{\\mathbf{q}}$ are replaced by $x_1, x_2$ and $x_3, x_4$. The force $F$ is replaced by the control input $u$."
   ]
  },
  {
   "cell_type": "code",
   "execution_count": 22,
   "metadata": {},
   "outputs": [
    {
     "data": {
      "image/png": "[encoded data removed]",
      "text/latex": [
       "$$\\left[\\begin{matrix}\\frac{- a_{1} m_{1} \\left(a_{1} g m_{1} \\sin{\\left (\\operatorname{x_{2}}{\\left (t \\right )} \\right )} - d_{1} \\operatorname{x_{4}}{\\left (t \\right )}\\right) \\cos{\\left (\\operatorname{x_{2}}{\\left (t \\right )} \\right )} + \\left(J_{1} + a_{1}^{2} m_{1}\\right) \\left(a_{1} m_{1} \\operatorname{x_{4}}^{2}{\\left (t \\right )} \\sin{\\left (\\operatorname{x_{2}}{\\left (t \\right )} \\right )} + d_{0} \\operatorname{x_{3}}{\\left (t \\right )} - u{\\left (t \\right )}\\right)}{a_{1}^{2} m_{1}^{2} \\cos^{2}{\\left (\\operatorname{x_{2}}{\\left (t \\right )} \\right )} - \\left(J_{1} + a_{1}^{2} m_{1}\\right) \\left(m_{0} + m_{1}\\right)}\\\\\\frac{a_{1} m_{1} \\left(a_{1} m_{1} \\operatorname{x_{4}}^{2}{\\left (t \\right )} \\sin{\\left (\\operatorname{x_{2}}{\\left (t \\right )} \\right )} + d_{0} \\operatorname{x_{3}}{\\left (t \\right )} - u{\\left (t \\right )}\\right) \\cos{\\left (\\operatorname{x_{2}}{\\left (t \\right )} \\right )} - \\left(m_{0} + m_{1}\\right) \\left(a_{1} g m_{1} \\sin{\\left (\\operatorname{x_{2}}{\\left (t \\right )} \\right )} - d_{1} \\operatorname{x_{4}}{\\left (t \\right )}\\right)}{a_{1}^{2} m_{1}^{2} \\cos^{2}{\\left (\\operatorname{x_{2}}{\\left (t \\right )} \\right )} - \\left(J_{1} + a_{1}^{2} m_{1}\\right) \\left(m_{0} + m_{1}\\right)}\\end{matrix}\\right]$$"
      ],
      "text/plain": [
       "⎡                                                    ⎛       2   ⎞ ⎛        2 \n",
       "⎢-a₁⋅m₁⋅(a₁⋅g⋅m₁⋅sin(x₂(t)) - d₁⋅x₄(t))⋅cos(x₂(t)) + ⎝J₁ + a₁ ⋅m₁⎠⋅⎝a₁⋅m₁⋅x₄ (\n",
       "⎢─────────────────────────────────────────────────────────────────────────────\n",
       "⎢                                  2   2    2          ⎛       2   ⎞          \n",
       "⎢                                a₁ ⋅m₁ ⋅cos (x₂(t)) - ⎝J₁ + a₁ ⋅m₁⎠⋅(m₀ + m₁)\n",
       "⎢                                                                             \n",
       "⎢        ⎛        2                                ⎞                          \n",
       "⎢  a₁⋅m₁⋅⎝a₁⋅m₁⋅x₄ (t)⋅sin(x₂(t)) + d₀⋅x₃(t) - u(t)⎠⋅cos(x₂(t)) - (m₀ + m₁)⋅(a\n",
       "⎢  ───────────────────────────────────────────────────────────────────────────\n",
       "⎢                                 2   2    2          ⎛       2   ⎞           \n",
       "⎣                               a₁ ⋅m₁ ⋅cos (x₂(t)) - ⎝J₁ + a₁ ⋅m₁⎠⋅(m₀ + m₁) \n",
       "\n",
       "                               ⎞⎤\n",
       "t)⋅sin(x₂(t)) + d₀⋅x₃(t) - u(t)⎠⎥\n",
       "────────────────────────────────⎥\n",
       "                                ⎥\n",
       "                                ⎥\n",
       "                                ⎥\n",
       "                                ⎥\n",
       "₁⋅g⋅m₁⋅sin(x₂(t)) - d₁⋅x₄(t))   ⎥\n",
       "─────────────────────────────   ⎥\n",
       "                                ⎥\n",
       "                                ⎦"
      ]
     },
     "execution_count": 22,
     "metadata": {},
     "output_type": "execute_result"
    }
   ],
   "source": [
    "xu_subs = [(dq0_t, x3_t), (dq1_t, x4_t), (q0_t, x1_t), (q1_t, x2_t), (F, u_t)]\n",
    "ddq = ddq.subs(xu_subs)\n",
    "ddq = sp.simplify(ddq)\n",
    "ddq"
   ]
  },
  {
   "cell_type": "code",
   "execution_count": 23,
   "metadata": {},
   "outputs": [],
   "source": [
    "dx_t = sp.Matrix([x3_t, x4_t, ddq[0], ddq[1]])\n",
    "ff = dx_t.subs([(u_t, 0)])\n",
    "gg = dx_t.diff(u_t)"
   ]
  },
  {
   "cell_type": "markdown",
   "metadata": {},
   "source": [
    "## 2.3 System Analysis\n",
    "### 2.3.1 Equilibria\n",
    "An equilibrium is a point in the state space, where the trajectory of the system dynamics is constant. To find such a point, $\\dot{\\mathbf{x}}$ is set equal to the zero vector. The result is a nonlinear equation system:\n",
    "\\begin{align}\n",
    "\\mathbf{0} = \\mathbf{f}(\\mathbf{x}) + \\mathbf{g}(\\mathbf{x})\\mathbf{u}\n",
    "\\end{align}\n",
    "The equation is dependent on the control vector $\\mathbf{u}$. But for now, only the equlibria of the autonomous system $\\mathbf{f}(\\mathbf{x})$ are of interest, therefore we set $\\mathbf{u}:= \\mathbf{0}$.\n",
    "To find the equilibria $\\mathbf{x}_{0,i}(i = 1,2,...)$ of the autonoums system, the following nonlinear equation system has to be solved:\n",
    "\\begin{align}\n",
    "\\mathbf{0} = \\mathbf{f}(\\mathbf{x})\n",
    "\\end{align}"
   ]
  },
  {
   "cell_type": "code",
   "execution_count": 24,
   "metadata": {},
   "outputs": [
    {
     "data": {
      "image/png": "[encoded data removed]",
      "text/latex": [
       "$$\\left [ \\left ( \\operatorname{x_{1}}{\\left (t \\right )}, \\quad 0, \\quad 0, \\quad 0\\right ), \\quad \\left ( \\operatorname{x_{1}}{\\left (t \\right )}, \\quad \\pi, \\quad 0, \\quad 0\\right )\\right ]$$"
      ],
      "text/plain": [
       "[(x₁(t), 0, 0, 0), (x₁(t), π, 0, 0)]"
      ]
     },
     "execution_count": 24,
     "metadata": {},
     "output_type": "execute_result"
    }
   ],
   "source": [
    "x0 = sp.solve(ff, x_t)\n",
    "x0"
   ]
  },
  {
   "cell_type": "markdown",
   "metadata": {},
   "source": [
    "The result are two equilbria $\\mathbf{x}_{0,1}$ and $\\mathbf{x}_{0,2}$ that are independent of the state variable $x_1$, the position of the cart. The two eqilibria are the pole in the upright and downright position at zero velocity of both cart and pole, as one would intuitively guess. But the equilibria of a system can not always be simply found by intuition, like in the cart-pole case, therefore the equilibria should always be found by the shown method."
   ]
  },
  {
   "cell_type": "markdown",
   "metadata": {},
   "source": [
    "### 2.3.2 Obtaining a linear state space model\n",
    "To obtain a linear state space model, a taylor expansion of the nonlinear equation is used. \n",
    "\\begin{align}\n",
    "\\dot{\\mathbf{x}}-\\dot{\\mathbf{x}}_{0,i} &\\approx \\underbrace{\\mathbf{f}(\\mathbf{x}_{0,i}) +\\mathbf{g}(\\mathbf{x}_{0,i})\\mathbf{u}_0}_{=0}\n",
    "+ \\underbrace{\\frac{\\partial}{\\partial \\mathbf{x}}\\left(\\mathbf{f}(\\mathbf{x}) +\\mathbf{g}(\\mathbf{x})\\mathbf{u}\\right)\\Big|_{\\substack{\\mathbf{u} = \\mathbf{u}_0 \\\\\\mathbf{x}=\\mathbf{x}_{0,i}}}}_{=:A_i}(\\mathbf{x}-\\mathbf{x}_{0,i})\n",
    "+ \\underbrace{\\frac{\\partial}{\\partial \\mathbf{u}}\\left(\\mathbf{f}(\\mathbf{x}) +\\mathbf{g}(\\mathbf{x})\\mathbf{u}\\right)\\Big|_{\\substack{\\mathbf{u} = \\mathbf{u}_0 \\\\\\mathbf{x}=\\mathbf{x}_{0,i}}}}_{=:B_i}(\\mathbf{u}-\\mathbf{u}_0)+\\mathcal{O}(2)\n",
    "\\end{align}\n",
    "First the linearization is done for the general case. Then, specific linear system matrices at the eqilibria are evaluated."
   ]
  },
  {
   "cell_type": "code",
   "execution_count": 25,
   "metadata": {},
   "outputs": [
    {
     "data": {
      "image/png": "[encoded data removed]",
      "text/latex": [
       "$$\\left ( \\left[\\begin{matrix}0 & 0 & 1 & 0\\\\0 & 0 & 0 & 1\\\\0 & - \\frac{a_{1}^{2} g m_{1}^{2}}{a_{1}^{2} m_{1}^{2} - \\left(J_{1} + a_{1}^{2} m_{1}\\right) \\left(m_{0} + m_{1}\\right)} & \\frac{d_{0} \\left(J_{1} + a_{1}^{2} m_{1}\\right)}{a_{1}^{2} m_{1}^{2} - \\left(J_{1} + a_{1}^{2} m_{1}\\right) \\left(m_{0} + m_{1}\\right)} & \\frac{a_{1} d_{1} m_{1}}{a_{1}^{2} m_{1}^{2} - \\left(J_{1} + a_{1}^{2} m_{1}\\right) \\left(m_{0} + m_{1}\\right)}\\\\0 & \\frac{a_{1} g m_{1} \\left(- m_{0} - m_{1}\\right)}{a_{1}^{2} m_{1}^{2} - \\left(J_{1} + a_{1}^{2} m_{1}\\right) \\left(m_{0} + m_{1}\\right)} & \\frac{a_{1} d_{0} m_{1}}{a_{1}^{2} m_{1}^{2} - \\left(J_{1} + a_{1}^{2} m_{1}\\right) \\left(m_{0} + m_{1}\\right)} & - \\frac{d_{1} \\left(- m_{0} - m_{1}\\right)}{a_{1}^{2} m_{1}^{2} - \\left(J_{1} + a_{1}^{2} m_{1}\\right) \\left(m_{0} + m_{1}\\right)}\\end{matrix}\\right], \\quad \\left[\\begin{matrix}0 & 0 & 1 & 0\\\\0 & 0 & 0 & 1\\\\0 & - \\frac{a_{1}^{2} g m_{1}^{2}}{a_{1}^{2} m_{1}^{2} - \\left(J_{1} + a_{1}^{2} m_{1}\\right) \\left(m_{0} + m_{1}\\right)} & \\frac{d_{0} \\left(J_{1} + a_{1}^{2} m_{1}\\right)}{a_{1}^{2} m_{1}^{2} - \\left(J_{1} + a_{1}^{2} m_{1}\\right) \\left(m_{0} + m_{1}\\right)} & - \\frac{a_{1} d_{1} m_{1}}{a_{1}^{2} m_{1}^{2} - \\left(J_{1} + a_{1}^{2} m_{1}\\right) \\left(m_{0} + m_{1}\\right)}\\\\0 & - \\frac{a_{1} g m_{1} \\left(- m_{0} - m_{1}\\right)}{a_{1}^{2} m_{1}^{2} - \\left(J_{1} + a_{1}^{2} m_{1}\\right) \\left(m_{0} + m_{1}\\right)} & - \\frac{a_{1} d_{0} m_{1}}{a_{1}^{2} m_{1}^{2} - \\left(J_{1} + a_{1}^{2} m_{1}\\right) \\left(m_{0} + m_{1}\\right)} & - \\frac{d_{1} \\left(- m_{0} - m_{1}\\right)}{a_{1}^{2} m_{1}^{2} - \\left(J_{1} + a_{1}^{2} m_{1}\\right) \\left(m_{0} + m_{1}\\right)}\\end{matrix}\\right], \\quad \\left[\\begin{matrix}0\\\\0\\\\\\frac{- J_{1} - a_{1}^{2} m_{1}}{a_{1}^{2} m_{1}^{2} - \\left(J_{1} + a_{1}^{2} m_{1}\\right) \\left(m_{0} + m_{1}\\right)}\\\\- \\frac{a_{1} m_{1}}{a_{1}^{2} m_{1}^{2} - \\left(J_{1} + a_{1}^{2} m_{1}\\right) \\left(m_{0} + m_{1}\\right)}\\end{matrix}\\right], \\quad \\left[\\begin{matrix}0\\\\0\\\\\\frac{- J_{1} - a_{1}^{2} m_{1}}{a_{1}^{2} m_{1}^{2} - \\left(J_{1} + a_{1}^{2} m_{1}\\right) \\left(m_{0} + m_{1}\\right)}\\\\\\frac{a_{1} m_{1}}{a_{1}^{2} m_{1}^{2} - \\left(J_{1} + a_{1}^{2} m_{1}\\right) \\left(m_{0} + m_{1}\\right)}\\end{matrix}\\right]\\right )$$"
      ],
      "text/plain": [
       "⎛⎡0                  0                                  1                     \n",
       "⎜⎢                                                                            \n",
       "⎜⎢0                  0                                  0                     \n",
       "⎜⎢                                                                            \n",
       "⎜⎢                 2     2                          ⎛       2   ⎞             \n",
       "⎜⎢              -a₁ ⋅g⋅m₁                        d₀⋅⎝J₁ + a₁ ⋅m₁⎠             \n",
       "⎜⎢0  ─────────────────────────────────  ─────────────────────────────────  ───\n",
       "⎜⎢     2   2   ⎛       2   ⎞              2   2   ⎛       2   ⎞              2\n",
       "⎜⎢   a₁ ⋅m₁  - ⎝J₁ + a₁ ⋅m₁⎠⋅(m₀ + m₁)  a₁ ⋅m₁  - ⎝J₁ + a₁ ⋅m₁⎠⋅(m₀ + m₁)  a₁ \n",
       "⎜⎢                                                                            \n",
       "⎜⎢           a₁⋅g⋅m₁⋅(-m₀ - m₁)                      a₁⋅d₀⋅m₁                 \n",
       "⎜⎢0  ─────────────────────────────────  ─────────────────────────────────  ───\n",
       "⎜⎢     2   2   ⎛       2   ⎞              2   2   ⎛       2   ⎞              2\n",
       "⎝⎣   a₁ ⋅m₁  - ⎝J₁ + a₁ ⋅m₁⎠⋅(m₀ + m₁)  a₁ ⋅m₁  - ⎝J₁ + a₁ ⋅m₁⎠⋅(m₀ + m₁)  a₁ \n",
       "\n",
       "             0                ⎤  ⎡0                  0                        \n",
       "                              ⎥  ⎢                                            \n",
       "             1                ⎥  ⎢0                  0                        \n",
       "                              ⎥  ⎢                                            \n",
       "                              ⎥  ⎢                 2     2                    \n",
       "          a₁⋅d₁⋅m₁            ⎥  ⎢              -a₁ ⋅g⋅m₁                     \n",
       "──────────────────────────────⎥  ⎢0  ─────────────────────────────────  ──────\n",
       "   2   ⎛       2   ⎞          ⎥, ⎢     2   2   ⎛       2   ⎞              2   \n",
       "⋅m₁  - ⎝J₁ + a₁ ⋅m₁⎠⋅(m₀ + m₁)⎥  ⎢   a₁ ⋅m₁  - ⎝J₁ + a₁ ⋅m₁⎠⋅(m₀ + m₁)  a₁ ⋅m₁\n",
       "                              ⎥  ⎢                                            \n",
       "      -d₁⋅(-m₀ - m₁)          ⎥  ⎢          -a₁⋅g⋅m₁⋅(-m₀ - m₁)               \n",
       "──────────────────────────────⎥  ⎢0  ─────────────────────────────────  ──────\n",
       "   2   ⎛       2   ⎞          ⎥  ⎢     2   2   ⎛       2   ⎞              2   \n",
       "⋅m₁  - ⎝J₁ + a₁ ⋅m₁⎠⋅(m₀ + m₁)⎦  ⎣   a₁ ⋅m₁  - ⎝J₁ + a₁ ⋅m₁⎠⋅(m₀ + m₁)  a₁ ⋅m₁\n",
       "\n",
       "          1                                  0                ⎤  ⎡            \n",
       "                                                              ⎥  ⎢            \n",
       "          0                                  1                ⎥  ⎢            \n",
       "                                                              ⎥  ⎢            \n",
       "      ⎛       2   ⎞                                           ⎥  ⎢            \n",
       "   d₀⋅⎝J₁ + a₁ ⋅m₁⎠                      -a₁⋅d₁⋅m₁            ⎥  ⎢           -\n",
       "───────────────────────────  ─────────────────────────────────⎥  ⎢────────────\n",
       "2   ⎛       2   ⎞              2   2   ⎛       2   ⎞          ⎥, ⎢  2   2   ⎛ \n",
       "  - ⎝J₁ + a₁ ⋅m₁⎠⋅(m₀ + m₁)  a₁ ⋅m₁  - ⎝J₁ + a₁ ⋅m₁⎠⋅(m₀ + m₁)⎥  ⎢a₁ ⋅m₁  - ⎝J\n",
       "                                                              ⎥  ⎢            \n",
       "      -a₁⋅d₀⋅m₁                       -d₁⋅(-m₀ - m₁)          ⎥  ⎢            \n",
       "───────────────────────────  ─────────────────────────────────⎥  ⎢────────────\n",
       "2   ⎛       2   ⎞              2   2   ⎛       2   ⎞          ⎥  ⎢  2   2   ⎛ \n",
       "  - ⎝J₁ + a₁ ⋅m₁⎠⋅(m₀ + m₁)  a₁ ⋅m₁  - ⎝J₁ + a₁ ⋅m₁⎠⋅(m₀ + m₁)⎦  ⎣a₁ ⋅m₁  - ⎝J\n",
       "\n",
       "    0                ⎤  ⎡                0                ⎤⎞\n",
       "                     ⎥  ⎢                                 ⎥⎟\n",
       "    0                ⎥  ⎢                0                ⎥⎟\n",
       "                     ⎥  ⎢                                 ⎥⎟\n",
       "       2             ⎥  ⎢                   2             ⎥⎟\n",
       "J₁ - a₁ ⋅m₁          ⎥  ⎢           -J₁ - a₁ ⋅m₁          ⎥⎟\n",
       "─────────────────────⎥  ⎢─────────────────────────────────⎥⎟\n",
       "      2   ⎞          ⎥, ⎢  2   2   ⎛       2   ⎞          ⎥⎟\n",
       "₁ + a₁ ⋅m₁⎠⋅(m₀ + m₁)⎥  ⎢a₁ ⋅m₁  - ⎝J₁ + a₁ ⋅m₁⎠⋅(m₀ + m₁)⎥⎟\n",
       "                     ⎥  ⎢                                 ⎥⎟\n",
       " -a₁⋅m₁              ⎥  ⎢              a₁⋅m₁              ⎥⎟\n",
       "─────────────────────⎥  ⎢─────────────────────────────────⎥⎟\n",
       "      2   ⎞          ⎥  ⎢  2   2   ⎛       2   ⎞          ⎥⎟\n",
       "₁ + a₁ ⋅m₁⎠⋅(m₀ + m₁)⎦  ⎣a₁ ⋅m₁  - ⎝J₁ + a₁ ⋅m₁⎠⋅(m₀ + m₁)⎦⎠"
      ]
     },
     "execution_count": 25,
     "metadata": {},
     "output_type": "execute_result"
    }
   ],
   "source": [
    "# separate (\"unpack\") equilibrium points\n",
    "x01, x02 = x0\n",
    "\n",
    "A = dx_t.jacobian(x_t)\n",
    "B = dx_t.diff(u_t)\n",
    "\n",
    "eql1_rplmts = list(zip(x_t, x01))\n",
    "eql2_rplmts = list(zip(x_t, x02))\n",
    "\n",
    "\n",
    "A1 = A.subs(eql1_rplmts) # pole upright\n",
    "B1 = B.subs(eql1_rplmts) # pole upright\n",
    "A2 = A.subs(eql2_rplmts) # pole downright\n",
    "B2 = B.subs(eql2_rplmts) # pole upright\n",
    "A1, A2, B1, B2"
   ]
  },
  {
   "cell_type": "markdown",
   "metadata": {},
   "source": [
    "### 2.3.3 Controllability"
   ]
  },
  {
   "cell_type": "markdown",
   "metadata": {},
   "source": [
    "A linear time-invariant (LTI) system \n",
    "\\begin{align}\n",
    "\\dot{\\mathbf{x}} = A \\mathbf{x} + B \\mathbf{u},\n",
    "\\end{align}\n",
    "with \n",
    "\\begin{align}\n",
    "\\mathbf{x} \\in \\mathbb{R}^n, \\mathbf{u} \\in \\mathbb{R}^m  \\quad A \\in \\mathbb{R}^{n \\times n}, B \\in \\mathbb{R}^{n\\times m}\n",
    "\\end{align}\n",
    "is controlable if and only if the system states $\\mathbf{x}$ can be changed by changing the system input $\\mathbf{u}$.\n",
    "To investigate the controllability of the system, we use the Kalman criterion of controllabilty, which says that a LTI system is controllable if the Kalman controllabilty matrix $Q_c$ is full rank.\n",
    "\\begin{align}\n",
    "Q_c := \\begin{pmatrix}B, AB,..., A^{n-1}B\\end{pmatrix}\n",
    "\\end{align}\n",
    "\\begin{align}\n",
    "\\mathrm{rank} (Q_c) = n\n",
    "\\end{align}"
   ]
  },
  {
   "cell_type": "markdown",
   "metadata": {},
   "source": [
    "### Concatenating column vectors to a matrix with SymPy\n",
    "Given the to column vectors $a, b \\in \\mathbb{R}^n$, concatenating them to a matrix $(a,b)\\in \\mathbb{R}^{n\\times2}$ is not trivial in SymPy. Have a look at the following example:"
   ]
  },
  {
   "cell_type": "code",
   "execution_count": 26,
   "metadata": {},
   "outputs": [
    {
     "data": {
      "image/png": "[encoded data removed]",
      "text/latex": [
       "$$\\left ( \\left[\\begin{matrix}1\\\\2\\\\3\\end{matrix}\\right], \\quad \\left[\\begin{matrix}4\\\\5\\\\6\\end{matrix}\\right]\\right )$$"
      ],
      "text/plain": [
       "⎛⎡1⎤  ⎡4⎤⎞\n",
       "⎜⎢ ⎥  ⎢ ⎥⎟\n",
       "⎜⎢2⎥, ⎢5⎥⎟\n",
       "⎜⎢ ⎥  ⎢ ⎥⎟\n",
       "⎝⎣3⎦  ⎣6⎦⎠"
      ]
     },
     "execution_count": 26,
     "metadata": {},
     "output_type": "execute_result"
    }
   ],
   "source": [
    "a = sp.Matrix([1, 2, 3])\n",
    "b = sp.Matrix([4, 5, 6])\n",
    "a, b"
   ]
  },
  {
   "cell_type": "markdown",
   "metadata": {},
   "source": [
    "The resulting matrix should have two columns and three rows. But calling `sp.Matrix([a,b])` returns a column vector:"
   ]
  },
  {
   "cell_type": "code",
   "execution_count": 27,
   "metadata": {},
   "outputs": [
    {
     "data": {
      "image/png": "[encoded data removed]",
      "text/latex": [
       "$$\\left[\\begin{matrix}1\\\\2\\\\3\\\\4\\\\5\\\\6\\end{matrix}\\right]$$"
      ],
      "text/plain": [
       "⎡1⎤\n",
       "⎢ ⎥\n",
       "⎢2⎥\n",
       "⎢ ⎥\n",
       "⎢3⎥\n",
       "⎢ ⎥\n",
       "⎢4⎥\n",
       "⎢ ⎥\n",
       "⎢5⎥\n",
       "⎢ ⎥\n",
       "⎣6⎦"
      ]
     },
     "execution_count": 27,
     "metadata": {},
     "output_type": "execute_result"
    }
   ],
   "source": [
    "sp.Matrix([a,b])"
   ]
  },
  {
   "cell_type": "markdown",
   "metadata": {},
   "source": [
    "Instead sympy provides `row_join`:"
   ]
  },
  {
   "cell_type": "code",
   "execution_count": 28,
   "metadata": {},
   "outputs": [
    {
     "data": {
      "image/png": "[encoded data removed]",
      "text/latex": [
       "$$\\left[\\begin{matrix}1 & 4\\\\2 & 5\\\\3 & 6\\end{matrix}\\right]$$"
      ],
      "text/plain": [
       "⎡1  4⎤\n",
       "⎢    ⎥\n",
       "⎢2  5⎥\n",
       "⎢    ⎥\n",
       "⎣3  6⎦"
      ]
     },
     "execution_count": 28,
     "metadata": {},
     "output_type": "execute_result"
    }
   ],
   "source": [
    "a.row_join(b)"
   ]
  },
  {
   "cell_type": "markdown",
   "metadata": {},
   "source": [
    "---\n",
    "With the shown method, the Kalman controllability matrix can be computed."
   ]
  },
  {
   "cell_type": "code",
   "execution_count": 29,
   "metadata": {},
   "outputs": [],
   "source": [
    "Q_c1 = B1.row_join(A1*B1).row_join(A1**2*B1).row_join(A1**3*B1)"
   ]
  },
  {
   "cell_type": "markdown",
   "metadata": {},
   "source": [
    "To obtain a real valued matrix, the previously defined parameter values are substituted."
   ]
  },
  {
   "cell_type": "code",
   "execution_count": 30,
   "metadata": {},
   "outputs": [
    {
     "data": {
      "image/png": "[encoded data removed]",
      "text/latex": [
       "$$\\left[\\begin{matrix}0 & 0.288134321573856 & -0.00949674711378129 & 0.274455180960422\\\\0 & 0.425829735226365 & -0.0409452108698814 & 6.58190759357528\\\\0.288134321573856 & -0.00949674711378129 & 0.274455180960422 & -0.0527252512517845\\\\0.425829735226365 & -0.0409452108698814 & 6.58190759357528 & -1.08748858374126\\end{matrix}\\right]$$"
      ],
      "text/plain": [
       "⎡        0           0.288134321573856    -0.00949674711378129   0.27445518096\n",
       "⎢                                                                             \n",
       "⎢        0           0.425829735226365    -0.0409452108698814    6.58190759357\n",
       "⎢                                                                             \n",
       "⎢0.288134321573856  -0.00949674711378129   0.274455180960422    -0.05272525125\n",
       "⎢                                                                             \n",
       "⎣0.425829735226365  -0.0409452108698814     6.58190759357528     -1.0874885837\n",
       "\n",
       "0422 ⎤\n",
       "     ⎥\n",
       "528  ⎥\n",
       "     ⎥\n",
       "17845⎥\n",
       "     ⎥\n",
       "4126 ⎦"
      ]
     },
     "execution_count": 30,
     "metadata": {},
     "output_type": "execute_result"
    }
   ],
   "source": [
    "Q_c1 = Q_c1.subs(params_values)\n",
    "Q_c1"
   ]
  },
  {
   "cell_type": "markdown",
   "metadata": {},
   "source": [
    "Then the rank of $Q_{c,1}$ is computed:"
   ]
  },
  {
   "cell_type": "code",
   "execution_count": 31,
   "metadata": {},
   "outputs": [
    {
     "data": {
      "image/png": "[encoded data removed]",
      "text/latex": [
       "$$4$$"
      ],
      "text/plain": [
       "4"
      ]
     },
     "execution_count": 31,
     "metadata": {},
     "output_type": "execute_result"
    }
   ],
   "source": [
    "Q_c1.rank(simplify=True)"
   ]
  },
  {
   "cell_type": "markdown",
   "metadata": {},
   "source": [
    "**Note**: Calculating the rank of a numerical matrix can be tricky, due to the fact that the computer has to decide whether a small numerical value is equal to or different from zero.\n",
    "\n",
    "For the (educated) user to be sure the best is to have a look at the singular values."
   ]
  },
  {
   "cell_type": "code",
   "execution_count": 32,
   "metadata": {},
   "outputs": [
    {
     "data": {
      "image/png": "[encoded data removed]",
      "text/latex": [
       "$$\\left[\\begin{matrix}7.18812305476381 + 8.0 \\cdot 10^{-34} i\\\\6.05778976963889 + 8.0 \\cdot 10^{-34} i\\\\0.27301999353394 - 1.0 \\cdot 10^{-32} i\\\\0.266169200379219 - 1.0 \\cdot 10^{-32} i\\end{matrix}\\right]$$"
      ],
      "text/plain": [
       "⎡7.18812305476381 + 0.e-33⋅ⅈ ⎤\n",
       "⎢                            ⎥\n",
       "⎢6.05778976963889 + 0.e-33⋅ⅈ ⎥\n",
       "⎢                            ⎥\n",
       "⎢0.27301999353394 - 0.e-32⋅ⅈ ⎥\n",
       "⎢                            ⎥\n",
       "⎣0.266169200379219 - 0.e-32⋅ⅈ⎦"
      ]
     },
     "execution_count": 32,
     "metadata": {},
     "output_type": "execute_result"
    }
   ],
   "source": [
    "sp.Matrix(Q_c1.singular_values()).evalf()"
   ]
  },
  {
   "cell_type": "markdown",
   "metadata": {},
   "source": [
    "The smallest singular value is $\\approx 0.27 \\gg 0$ which means the matrix is regular. The very small imaginary \n",
    "parts are result of numerical calculation and can be neglected.\n",
    "\n",
    "---"
   ]
  },
  {
   "cell_type": "markdown",
   "metadata": {},
   "source": [
    "$\\mathrm{rank} (Q_{c,1}) = 4 = n$, the system is controllable in the upper equilibrium."
   ]
  },
  {
   "cell_type": "markdown",
   "metadata": {},
   "source": [
    "## 2.4 Linear Quadratic Regulator (LQR)"
   ]
  },
  {
   "cell_type": "markdown",
   "metadata": {},
   "source": [
    "The linear quadratic regulator (LQR) is a linear control scheme often used in pracitcal applications. With this method, an optimal state feedback of the closed loop system can be designed. Instead of placing the poles of the closed loop system manually (i.e. by Ackermann's formula), a linear feedback control law $\\mathbf{u}=-K\\mathbf{x}$ can be derived, such that the cost function $J$ is minimized.\n",
    "\n",
    "\\begin{align}\n",
    "J &= \\int_{t_0=0}^\\infty \\mathbf{x}(t)^\\textrm{T}Q\\mathbf{x}(t)+\\mathbf{u}(t)^\\textrm{T}R\\mathbf{u}(t) \\mathrm{d}t \\\\\n",
    "Q &\\in \\mathbb{R}^{n\\times n}, R \\in \\mathbb{R}^{m\\times m} - \\textrm{ diagonal weight matrices}\n",
    "\\end{align}\n",
    "\n",
    "$K=R^{-1}B^\\textrm{T}P$, where $P$ is the solution to the continuous time algebraic Riccati equation (ARE):\n",
    "\n",
    "\\begin{align}\n",
    "A^\\textrm{T}P+PA-PBR^{-1}B^\\textrm{T}P + Q = 0\n",
    "\\end{align}\n",
    "$A, B$ are the system matrices.\n",
    "\n",
    "The ARE can be solved in Python with the SciPy package:\n",
    "At first, the weight matrices are choosen. A high value stands for high cost of the corresponding signal.\n",
    "\n",
    "Note that if $Q \\ge 0$ and $R > 0$ then the control law $\\mathbf{u}=-K\\mathbf{x}$ places the poles of the closed loop always in the open left half-plane."
   ]
  },
  {
   "cell_type": "code",
   "execution_count": 33,
   "metadata": {},
   "outputs": [
    {
     "data": {
      "text/plain": [
       "(array([[ 10.,   0.,   0.,   0.],\n",
       "        [  0.,  10.,   0.,   0.],\n",
       "        [  0.,   0.,  10.,   0.],\n",
       "        [  0.,   0.,   0.,  10.]]), 0.1)"
      ]
     },
     "execution_count": 33,
     "metadata": {},
     "output_type": "execute_result"
    }
   ],
   "source": [
    "Q = 10*np.eye(4)\n",
    "R = 0.1\n",
    "Q, R"
   ]
  },
  {
   "cell_type": "markdown",
   "metadata": {},
   "source": [
    "The parameters are substituted into the system matrices of the upper equilibrium and the resulting matrices are converted to the correct type."
   ]
  },
  {
   "cell_type": "code",
   "execution_count": 34,
   "metadata": {},
   "outputs": [
    {
     "data": {
      "text/plain": [
       "(array([[  0.00000000e+00,   0.00000000e+00,   1.00000000e+00,\n",
       "           0.00000000e+00],\n",
       "        [  0.00000000e+00,   0.00000000e+00,   0.00000000e+00,\n",
       "           1.00000000e+00],\n",
       "        [  0.00000000e+00,   6.43606254e-01,  -2.88134322e-02,\n",
       "          -2.80536630e-03],\n",
       "        [  0.00000000e+00,   1.54492403e+01,  -4.25829735e-02,\n",
       "          -6.73405174e-02]]), array([[ 0.        ],\n",
       "        [ 0.        ],\n",
       "        [ 0.28813432],\n",
       "        [ 0.42582974]]))"
      ]
     },
     "execution_count": 34,
     "metadata": {},
     "output_type": "execute_result"
    }
   ],
   "source": [
    "A = A1.subs(params_values)\n",
    "B = B1.subs(params_values)\n",
    "A = np.array(A).astype(np.float64)\n",
    "B = np.array(B).astype(np.float64)\n",
    "A, B"
   ]
  },
  {
   "cell_type": "markdown",
   "metadata": {},
   "source": [
    "The SciPy package is imported and the ARE is solved to obtain $P$."
   ]
  },
  {
   "cell_type": "code",
   "execution_count": 35,
   "metadata": {},
   "outputs": [],
   "source": [
    "import scipy as sci\n",
    "from scipy import linalg"
   ]
  },
  {
   "cell_type": "code",
   "execution_count": 36,
   "metadata": {},
   "outputs": [
    {
     "data": {
      "text/plain": [
       "array([[  18.64638492,  -42.32305222,   12.38388353,  -10.72781326],\n",
       "       [ -42.32305222,  343.63231708,  -68.00490028,   83.06410971],\n",
       "       [  12.38388353,  -68.00490028,   18.74020643,  -17.0827318 ],\n",
       "       [ -10.72781326,   83.06410971,  -17.0827318 ,   21.3363659 ]])"
      ]
     },
     "execution_count": 36,
     "metadata": {},
     "output_type": "execute_result"
    }
   ],
   "source": [
    "P = sci.linalg.solve_continuous_are(A, B, Q, R)\n",
    "P"
   ]
  },
  {
   "cell_type": "markdown",
   "metadata": {},
   "source": [
    "Finally the feedback matrix $K$ is computed."
   ]
  },
  {
   "cell_type": "code",
   "execution_count": 37,
   "metadata": {},
   "outputs": [
    {
     "data": {
      "text/plain": [
       "array([[ -10.        ,  157.76622042,  -18.74638492,   41.63537705]])"
      ]
     },
     "execution_count": 37,
     "metadata": {},
     "output_type": "execute_result"
    }
   ],
   "source": [
    "K = 1/R*B.T.dot(P)\n",
    "K"
   ]
  },
  {
   "cell_type": "markdown",
   "metadata": {},
   "source": [
    "---\n",
    "## Simulation"
   ]
  },
  {
   "cell_type": "markdown",
   "metadata": {},
   "source": [
    "For the simulation SciPy's integrate package is used."
   ]
  },
  {
   "cell_type": "code",
   "execution_count": 38,
   "metadata": {},
   "outputs": [],
   "source": [
    "from scipy import integrate"
   ]
  },
  {
   "cell_type": "markdown",
   "metadata": {},
   "source": [
    "At first, all relevant simulation parameters are defined."
   ]
  },
  {
   "cell_type": "code",
   "execution_count": 39,
   "metadata": {
    "scrolled": true
   },
   "outputs": [],
   "source": [
    "t0 = 0 # start time\n",
    "tf = 10 # final time\n",
    "dt = 0.04 # stepsize\n",
    "tt = np.arange(t0, tf, dt) # simulation time\n",
    "x0 = np.array([1, 0.3, 0, 0]) # initial value\n",
    "dx_t = dx_t.subs(params_values) # substitute the parameters in dx_t"
   ]
  },
  {
   "cell_type": "markdown",
   "metadata": {},
   "source": [
    "The right hand side of $\\dot x=f(x)$ has to be converted from a symbolic expression to a (fast) callable python function."
   ]
  },
  {
   "cell_type": "code",
   "execution_count": 40,
   "metadata": {},
   "outputs": [],
   "source": [
    "x1, x2, x3, x4, u = sp.symbols(\"x1, x2, x3, x4, u\")\n",
    "xx = [x1, x2, x3, x4]\n",
    "\n",
    "dx_t_with_symbols = dx_t.subs(list(zip(x_t, xx))).subs(u_t, u) # replacing all symbolic functions with symbols\n",
    "\n",
    "dx_func = sp.lambdify((x1, x2, x3, x4, u), dx_t_with_symbols, modules=\"numpy\") # creating a callable python function"
   ]
  },
  {
   "cell_type": "code",
   "execution_count": 41,
   "metadata": {},
   "outputs": [
    {
     "data": {
      "image/png": "[encoded data removed]",
      "text/latex": [
       "$$\\left[\\begin{matrix}x_{3}\\\\x_{4}\\\\\\frac{- 0.10424957 u + 0.010424957 x_{3} + 0.01606162700033 x_{4}^{2} \\sin{\\left (x_{2} \\right )} - 0.154069 \\left(- 0.006588 x_{4} + 1.51141689 \\sin{\\left (x_{2} \\right )}\\right) \\cos{\\left (x_{2} \\right )}}{0.023737256761 \\cos^{2}{\\left (x_{2} \\right )} - 0.385546184731}\\\\\\frac{0.0243644004 x_{4} + 0.154069 \\left(- u + 0.1 x_{3} + 0.154069 x_{4}^{2} \\sin{\\left (x_{2} \\right )}\\right) \\cos{\\left (x_{2} \\right )} - 5.589673084287 \\sin{\\left (x_{2} \\right )}}{0.023737256761 \\cos^{2}{\\left (x_{2} \\right )} - 0.385546184731}\\end{matrix}\\right]$$"
      ],
      "text/plain": [
       "⎡                                                         x₃                  \n",
       "⎢                                                                             \n",
       "⎢                                                         x₄                  \n",
       "⎢                                                                             \n",
       "⎢                                                    2                        \n",
       "⎢-0.10424957⋅u + 0.010424957⋅x₃ + 0.01606162700033⋅x₄ ⋅sin(x₂) - 0.154069⋅(-0.\n",
       "⎢─────────────────────────────────────────────────────────────────────────────\n",
       "⎢                                                        2                    \n",
       "⎢                                      0.023737256761⋅cos (x₂) - 0.38554618473\n",
       "⎢                                                                             \n",
       "⎢                                     ⎛                         2        ⎞    \n",
       "⎢          0.0243644004⋅x₄ + 0.154069⋅⎝-u + 0.1⋅x₃ + 0.154069⋅x₄ ⋅sin(x₂)⎠⋅cos\n",
       "⎢          ───────────────────────────────────────────────────────────────────\n",
       "⎢                                                        2                    \n",
       "⎣                                      0.023737256761⋅cos (x₂) - 0.38554618473\n",
       "\n",
       "                                       ⎤\n",
       "                                       ⎥\n",
       "                                       ⎥\n",
       "                                       ⎥\n",
       "                                       ⎥\n",
       "006588⋅x₄ + 1.51141689⋅sin(x₂))⋅cos(x₂)⎥\n",
       "───────────────────────────────────────⎥\n",
       "                                       ⎥\n",
       "1                                      ⎥\n",
       "                                       ⎥\n",
       "                                       ⎥\n",
       "(x₂) - 5.589673084287⋅sin(x₂)          ⎥\n",
       "─────────────────────────────          ⎥\n",
       "                                       ⎥\n",
       "1                                      ⎦"
      ]
     },
     "execution_count": 41,
     "metadata": {},
     "output_type": "execute_result"
    }
   ],
   "source": [
    "dx_t_with_symbols"
   ]
  },
  {
   "cell_type": "markdown",
   "metadata": {},
   "source": [
    "---"
   ]
  },
  {
   "cell_type": "code",
   "execution_count": 42,
   "metadata": {},
   "outputs": [
    {
     "data": {
      "text/plain": [
       "array([[ 0.],\n",
       "       [ 0.],\n",
       "       [-0.],\n",
       "       [-0.]])"
      ]
     },
     "execution_count": 42,
     "metadata": {},
     "output_type": "execute_result"
    }
   ],
   "source": [
    "# plausibility check1: equilibrium 1 (return value should be (0, 0, 0, 0))\n",
    "dx_func(0, 0, 0, 0, 0)"
   ]
  },
  {
   "cell_type": "code",
   "execution_count": 43,
   "metadata": {},
   "outputs": [
    {
     "data": {
      "text/plain": [
       "array([[ 0.        ],\n",
       "       [ 0.        ],\n",
       "       [ 0.57626864],\n",
       "       [ 0.85165947]])"
      ]
     },
     "execution_count": 43,
     "metadata": {},
     "output_type": "execute_result"
    }
   ],
   "source": [
    "# plausibility check1: equilibrium + initial force\n",
    "dx_func(0, 0, 0, 0, 2)"
   ]
  },
  {
   "cell_type": "markdown",
   "metadata": {},
   "source": [
    "---\n",
    "A wrapper function is needed to evaluate the control algorithm and have the right argument-signature (t, x) for simulation.\n",
    "\n",
    "The differential equation of the system is implemented in a function `fbODE(t, x)` (feedback ODE)."
   ]
  },
  {
   "cell_type": "code",
   "execution_count": 44,
   "metadata": {},
   "outputs": [],
   "source": [
    "def fbODE(t, x):\n",
    "    '''Nonlinear system of equations dx/dt = f(x,u) = f(x,-K*x) = f(x)'''\n",
    "    u = -K.dot(x) # define the control law\n",
    "    return dx_func(*x, u).T[0]"
   ]
  },
  {
   "cell_type": "markdown",
   "metadata": {},
   "source": [
    "Finally the initial value problem is solved."
   ]
  },
  {
   "cell_type": "code",
   "execution_count": 45,
   "metadata": {},
   "outputs": [],
   "source": [
    "sol = sci.integrate.solve_ivp(fbODE, (t0, tf), x0, t_eval=tt)"
   ]
  },
  {
   "cell_type": "code",
   "execution_count": 46,
   "metadata": {},
   "outputs": [],
   "source": [
    "xt = sol.y.T "
   ]
  },
  {
   "cell_type": "markdown",
   "metadata": {},
   "source": [
    "---\n",
    "## Plotting the results"
   ]
  },
  {
   "cell_type": "code",
   "execution_count": 47,
   "metadata": {},
   "outputs": [],
   "source": [
    "import matplotlib as mpl\n",
    "import matplotlib.pyplot as plt"
   ]
  },
  {
   "cell_type": "code",
   "execution_count": 48,
   "metadata": {},
   "outputs": [],
   "source": [
    "def cartPolePlot(xt):\n",
    "    fig1, (ax1, ax2) = plt.subplots(2, 1, sharex=True)\n",
    "    fig2, (ax3, ax4) = plt.subplots(2, 1, sharex=True)\n",
    "    ax1.plot(tt, xt[:,0])\n",
    "    ax2.plot(tt, xt[:,1])\n",
    "    ax3.plot(tt, xt[:,2])\n",
    "    ax4.plot(tt, xt[:,3])\n",
    "\n",
    "    ax1.set(ylabel=r'$x_0$')\n",
    "    ax2.set(ylabel=r'$\\varphi_1$')\n",
    "    ax3.set(ylabel=r'$\\dot x_0$')\n",
    "    ax4.set(ylabel=r'$\\dot \\varphi_1$')\n",
    "    ax2.set(xlabel=r't in s')\n",
    "    ax4.set(xlabel=r't in s')\n",
    "    ax1.grid('on')\n",
    "    ax2.grid('on')\n",
    "    ax3.grid('on')\n",
    "    ax4.grid('on')"
   ]
  },
  {
   "cell_type": "code",
   "execution_count": 49,
   "metadata": {},
   "outputs": [
    {
     "data": {
      "image/png": "[encoded data removed]",
      "text/plain": [
       "<matplotlib.figure.Figure at 0x114b54048>"
      ]
     },
     "metadata": {},
     "output_type": "display_data"
    },
    {
     "data": {
      "image/png": "[encoded data removed]",
      "text/plain": [
       "<matplotlib.figure.Figure at 0x114bd72b0>"
      ]
     },
     "metadata": {},
     "output_type": "display_data"
    }
   ],
   "source": [
    "cartPolePlot(xt)"
   ]
  },
  {
   "cell_type": "markdown",
   "metadata": {},
   "source": [
    "---\n",
    "## Animating the results"
   ]
  },
  {
   "cell_type": "code",
   "execution_count": 50,
   "metadata": {},
   "outputs": [],
   "source": [
    "from matplotlib import animation\n",
    "from IPython.display import HTML\n",
    "# equivalent to rcParams['animation.html'] = 'html5'\n",
    "mpl.rc('animation', html='html5')\n",
    "import matplotlib.patches as patches"
   ]
  },
  {
   "cell_type": "code",
   "execution_count": 51,
   "metadata": {},
   "outputs": [],
   "source": [
    "def cartPoleAnimation(xt):\n",
    "    # mapping from theta and s to the x,y-plane (definition of the line points, that represent the pole)\n",
    "    def cart_pole_plot(l, xt):\n",
    "        x_pole_end = -l * np.sin(xt[:, 1]) + xt[:, 0]\n",
    "        x_cart = xt[:, 0]\n",
    "        y_pole_end = l * np.cos(xt[:, 1])\n",
    "        return x_pole_end, y_pole_end, x_cart\n",
    "\n",
    "    # line and text\n",
    "    def animate(t):\n",
    "        thisx = [x_cart[t], x_pole_end[t]]\n",
    "        thisy = [0, y_pole_end[t]]\n",
    "    \n",
    "        pole.set_data(thisx, thisy)\n",
    "        cart.set_xy([x_cart[t]-0.1, -0.05])\n",
    "        time_text.set_text(time_template%(t*dt))\n",
    "        return pole, cart, time_text,\n",
    "    \n",
    "    [x_pole_end, y_pole_end, x_cart] = cart_pole_plot(0.5, xt)\n",
    "    fig, ax = plt.subplots()\n",
    "    ax.set_aspect('equal')\n",
    "    ax.set(xlabel=r'$x_1$')\n",
    "    plt.ylim((-0.1, 0.6))\n",
    "    plt.title('Cart-Pole LQR')\n",
    "    time_template = 'time = %.1fs'\n",
    "    time_text = ax.text(0.05, 1.2, '', transform=ax.transAxes)\n",
    "    rail, = ax.plot([min(-1, 1.2*min(x_cart)), max(1, 1.2*max(x_cart))], [0,0], 'ks-', zorder=0)\n",
    "    pole, = ax.plot([], [], 'b-', zorder=1, lw=3)\n",
    "    cart = patches.Rectangle((-0.1, -0.05), 0.2, 0.1, fc='b', zorder=1)\n",
    "    ax.add_artist(cart)\n",
    "    # animation using matplotlibs animation library\n",
    "    ani = animation.FuncAnimation(fig, animate, np.arange(0, len(xt)), interval=dt*1000, \n",
    "                          blit=True)\n",
    "    return ani"
   ]
  },
  {
   "cell_type": "code",
   "execution_count": 52,
   "metadata": {},
   "outputs": [
    {
     "data": {
      "text/html": [
       "<video width=\"432\" height=\"288\" controls autoplay loop>\n",
       "  <source type=\"video/mp4\" src=\"data:video/mp4;base64,AAAAHGZ0eXBNNFYgAAACAGlzb21pc28yYXZjMQAAAAhmcmVlAABNjG1kYXQAAAKuBgX//6rcRem9\n",
       "5tlIt5Ys2CDZI+7veDI2NCAtIGNvcmUgMTQ4IHIyNzk1IGFhYTlhYTggLSBILjI2NC9NUEVHLTQg\n",
       "QVZDIGNvZGVjIC0gQ29weWxlZnQgMjAwMy0yMDE3IC0gaHR0cDovL3d3dy52aWRlb2xhbi5vcmcv\n",
       "eDI2NC5odG1sIC0gb3B0aW9uczogY2FiYWM9MSByZWY9MyBkZWJsb2NrPTE6MDowIGFuYWx5c2U9\n",
       "MHgzOjB4MTEzIG1lPWhleCBzdWJtZT03IHBzeT0xIHBzeV9yZD0xLjAwOjAuMDAgbWl4ZWRfcmVm\n",
       "PTEgbWVfcmFuZ2U9MTYgY2hyb21hX21lPTEgdHJlbGxpcz0xIDh4OGRjdD0xIGNxbT0wIGRlYWR6\n",
       "b25lPTIxLDExIGZhc3RfcHNraXA9MSBjaHJvbWFfcXBfb2Zmc2V0PS0yIHRocmVhZHM9NiBsb29r\n",
       "YWhlYWRfdGhyZWFkcz0xIHNsaWNlZF90aHJlYWRzPTAgbnI9MCBkZWNpbWF0ZT0xIGludGVybGFj\n",
       "ZWQ9MCBibHVyYXlfY29tcGF0PTAgY29uc3RyYWluZWRfaW50cmE9MCBiZnJhbWVzPTMgYl9weXJh\n",
       "bWlkPTIgYl9hZGFwdD0xIGJfYmlhcz0wIGRpcmVjdD0xIHdlaWdodGI9MSBvcGVuX2dvcD0wIHdl\n",
       "aWdodHA9MiBrZXlpbnQ9MjUwIGtleWludF9taW49MjUgc2NlbmVjdXQ9NDAgaW50cmFfcmVmcmVz\n",
       "aD0wIHJjX2xvb2thaGVhZD00MCByYz1jcmYgbWJ0cmVlPTEgY3JmPTIzLjAgcWNvbXA9MC42MCBx\n",
       "cG1pbj0wIHFwbWF4PTY5IHFwc3RlcD00IGlwX3JhdGlvPTEuNDAgYXE9MToxLjAwAIAAAAvHZYiE\n",
       "ADf//vbw/gU2O5jQlxHN6J0zH78VuLo0N73OAAADAAA33OZE/sqTBubAAALgAAnhKnpTYXb1qMQD\n",
       "T7qTWgjIlsiLEHqgH/ZLnPFBGJ43FwL+f9+5V7lFxsFoomEgOQ2YMEvMyNN/Tkv+Poi2GJ9MCaiz\n",
       "sikWWGgz3krR3yn25whGPlWXILqSYXeTemPdxpgDYJKZEisqRvxdc5M/HrBEDzXn3KxOd5x4EjTq\n",
       "3AEaz+KZvh9FdPYFyFzYQn1yRJbIuwqFodV67YWyJu9Fl0OmqGefeNQxNG9AV9/y2Ru5vTlPknyX\n",
       "dPoOobNcl4pdbcL3vCqRA07t+SKzwpCC2zIjS3mjguwX5cxGSgcFFAgy/d1uKFOKJtnOygzuf/90\n",
       "TdfOQ3n7axmHeiiCX2xT7DMMsgYcul48SOpK2nP531Fko4XhxEsI7Zq3WwEEqwEisxnLX0Rg59T6\n",
       "8wmJNIzEgC0a4MB0xrrvo/febLQiNs2zNeK0xEBwh9d4a+LTQsyXEFrvlu4k/oOZKvnUmDpoP5kX\n",
       "NZVb/wljLXlxcig6u/rN0cSrt/GmpsclttLwABU/R3w3wKQjDs7ISphl2rFZANurmvZzpwAbJg1O\n",
       "h4aLTAl3lJ6VbJgWUI30thiTb+s0jBymAXWuaI7wsButbIvHCD0eoFxhBeHI//DOctar90dhd8h7\n",
       "emOcm2oelbqCT/oH/ayYQq4VjJAkBNr6QCBfH0kRxICGVZlM4/2mDPB1WsJdtHh+9zLJDxB04jyA\n",
       "JXfR38d5t/TsjqFHyrC9tomInV+GuwRQQIyV5bfm9x5Jkho+8e9CoXw2qW7opDIOTf2FuNMOMPyd\n",
       "OjAqNCwmU4++LWhbv/pFjsGV8JjIH/RBPzIPnPaNuEQb/TUlAhfKjuMhaHMud7Uq7ogsDNySQ1zz\n",
       "RZSw3XJ+IEqO+wt1jfSXf3cIw72RoO/Fk9+bRBw8nBd2Q12nA8lqe5c79QuGaEAwTGqxUpCPBziD\n",
       "xvgRTs6VSY7akKUfhbfTp6GXtdO0ylpNIEN9eJlJV27ujeYq8JygzJ6jU1LrU4MME3VTrXajunXV\n",
       "6Iv/grZN62e/UgGxgGmbPOiDdzAnK3aqFwjKb/rqQSKRhgSX+imGt9GObfEoSqJUhn5L8EMDlRMR\n",
       "IEraB8iBNNreRbbPmXiBo/wFIdyYS2xqptKnAEJ/2mUsXJihqw5e2ja3TBkp6G5+eb4wJGWnx4e8\n",
       "NwbZNaeSMxY4m/aF55zYHO/1eDJm+j8Erjqmw7f9a/WQeX7H5Ub4OnkBoPtDdefBTGkjFJy7QRv1\n",
       "mM0dLKuxTDbCXba9EOQmEdHdk7QLn+h76Hu6jd2K0ZZ8mMpNs5RzA5MFmSKhCVYzXQjUBEb97FvE\n",
       "sFd5OLr0C8+s/WahRhRyegP5kQstcUhlVL0iP2NphOvhfkyWtcTpwbXUa2Jm+F315MaMVwXTBT6R\n",
       "DgzyWul8TGvzQEOUnCjdfZwPxk+mvLO3bjzkOF5W16yXQ1DyaznTdVdbHfqsf8Uogzd7oatcAPdT\n",
       "Kl9gDvOwDADEuc7VZT1tkptipcQV7mKxdfjqe1u782DBWufKhrEhfdEFf4FXLrnwzrs2vgi5kdCH\n",
       "MVHZoNr6MWeC01B68EJ+kV9BmnMvWX+ULD6saLpCJOdV0UU6sjha5ExHoJ+3+Ok5RQET37Sp2OWh\n",
       "RyTmoDykdDHLVTxIE7MZ8V3RbvYxaL4LfNvWtb5c+BZO1lcn5IXCH//u3YjQTY/A+xY0M9FWRB62\n",
       "k6Ji47m1unDGQ9koukLruuW8bg8aAjqcfqAJikANppSrvRVT6zPgWQkbS1y0P8t4QPW5jj89KIs5\n",
       "5E9/vVkMqA4NQLSbsUjJhQwI7jRjvRU5M2DbJTyhHnqwqIAE3ietUt6fYKETvGWYzXN3ZGlkCMEv\n",
       "lZMBVRGXCtsRpkjv+j4O1wzdmjkvST27AN6bE/t8wSbSleEU7GZqh3I/Te81ZlbZItABybywzuxe\n",
       "OA2aMnvUDhyLmSW4iu4Q2HDUDtLz1rocXO1gBkNP1ErZZDHbvKcYJcsZNxZugBdjI9/hnFVa4sso\n",
       "6chtdoD4CBQkzYQSfuX+ftcOCqxuNEzA2PEY6+3cEFI8CNEi7uq3MSV6gNKGCSBj8uXFQMywO1mE\n",
       "CzDUrwEydE6Sf2hfWqN5qPD4xkOv5+7PeI4rxHXVKZobZQMpqkvW1EeRw+XK/VpQ7LttWnSbTDDA\n",
       "2FFGZOnL2kOTfOsLBcIW5VyqEqQ3278+6yIBx/wxi0xRny98TYexgga3R57mEXnSWDW5p/xahflL\n",
       "NGlOrQ8JVazqPi/HyOAFwBxbz/mx3moKjfwUbENZImYi3tE4X1sUQVKOXyZ/c9Rd6CDDGjgC8XXW\n",
       "kkz+pfpKF0hmepU872XKeS6hSUqMFLmntXy59af9WDMKlFPcXwGfrMrRnYE1/6wG9twrV+U9445+\n",
       "7D9NrNiljcAZI1TKi+LFaeRo3cRJT3nQBM28ZK3Pc4c05G2iURtyWuzvGboAQKmB/GULIE9Ctd0k\n",
       "anBYs+KFe7h9UIv6ASapn2RHigl3Hi27Sm4PjlqD5nLcA/Vm0tJ6tcThYCdNEC1e0IpvA/htH3xB\n",
       "K2hfZSQOU/xSv7/YyF4p2c3RwcfpLDvztf9ZqqGacJ+gr+17WsIk91GhYHLFhtULO5bA9Fk5S6EY\n",
       "+Q4Ao2Rtu7SGtSP9A9i0T6g46XjMZ+NyAVT0/RPRfDVlzuhYp74PJ1CUlk9W4qE1CT///3aMsnu0\n",
       "MIg4FFpTBJ9OlIUv6DS76FQGh4dKbSe66bLOeCrfK/ekROUFNKBwn4yKQFULA8Fp7Ea+GZQCBBy6\n",
       "0DM9/nNL2TYDzVAY89WjKXmPaSpNNemqgYKSMh6PUvYszF1fwODMC9qbp1pLoVwemww+MPDwPFA8\n",
       "x67Hb60o6/J498FtbersSv2RFdmaCnZx4MrmDLb8A+OjgIfaryr9JYxogdW97cqK1MzDkRhFCieB\n",
       "ffl5ehUymMefOv9c/oAks1UkrR9OnNm2qjswCAI68VRceGn1ODkGxfito+jgi25t78bmxGkfD94G\n",
       "uDbBzwziwkFN/Zdt1ACqNztYzzJWbt16awBCY3M/xdLxDqPhuPbmIGuhNf2TrLEoRq7eYE3yYS/+\n",
       "H+pHSFFF6fZuKDYZQerCbi1Otux9G9P+vtmMNyu54JPwqY2U6wCcQVbDcBZm12LAojsxHRbe8vH5\n",
       "shXp8sPA9+jDj21OGFsjSLyZL4AGSNroNbjrRnXquAeMjwAWwxzonnXbTZ1EoVV407MZurbyw+Ep\n",
       "qPwTvFzqNwo+yav3qsCx34GNHo5kdqTVV1/EiVfixiutkLWN15pFly5FBC7Pv0RKYAUMWQjkRRuk\n",
       "H6Ts19R5RXH08GaYVhx0viO18km8M3F8XcV4N8FABosglxBl+CZGiBqvcjeYOhmHGiQWypr1fw10\n",
       "Z3rCZVkqNvQcvJZjTEjDidWveRuFHyPFnkuUt1kw2ZKehOI4cybSavxo6k1apbfmclbcxDH8XwEk\n",
       "0NoNUVZFP0eAC9NcuSW8usNhz7TeMea1TKZkF2AbjGLmMk0xUVOV+9tw/R4/N70cLDAxo3weVL7W\n",
       "zQ2j5YyNyuDku7XThDN8ohXJWgi4vHCv3rfBQBjXgZxy6MUEfUta6ticv2fvNdy7V1Z1RIR/Cj7f\n",
       "QKihlrVMM7v1mhxp8j4lNr/L89T/Ndet/ZG4MqpiugTKHU7WqI6+VyT6fI0cRBbe9/Dvb3/674MH\n",
       "xP3541Uuj8cgILurrBqWAIBCBKcFimmTydhY6luVWlg+oRxEdFg77JI/LkfG2MLaRS2I46ZJYGwR\n",
       "+5RQDHQOGlsxdkq60yE6JBIi0Uqn0DPrtr4UvxiJQwEKNf7b5UwhRmuK8EqGzugMFMhouf0gRx6C\n",
       "JSqud3TBDrToyMudE9PrbQZGTwOrA0uwsadNBlPS6EOlpzXVS43c+KfyNk3NDQ3hfo948KOMQ+PX\n",
       "eXkGm+cnXOeCcx+8Uf2RDlXBb5F/1DafUT5WCGeXUrTm1snEaCQwACj8AAADAAh5AAAAq0GaIWxD\n",
       "f/6nhABr8PNADX61Q3dpfvqbhZgL4juy14wSo7pDGngA5IpBV+S7wX7f1J/pJwx6PxmlvWjbB9f/\n",
       "AlqvMO6qj2UumsxyaL0QTm0LG9/dJ4ePnBl/qQb/Hs/Wacltwg0kWESMLkcBXj0HdOtvz7qXGxuT\n",
       "2I1HV5JsgBSi9raKmnZ8981rDn2/DZV6TPl6kmdj4F19kmy28stp/O+ju4+Z0YDt60o7gAAAAQZB\n",
       "mkQ8IZMphDf//qeEAGRlzcALY/38J16BwWRrM8fVuxTEZeicPLYU9DMSAGY6DSGPsT6ygn83fYjz\n",
       "1QZNu1q9+p1rX5qjYG0H4GjeDsLo50qyHvRu5xpQEZoCuQ4bsxlqMCkA7da+VWx2jAM8Pb992msj\n",
       "9wJx/zCHajCGVcAtMQUfEEImjyWFvwl1ksBz9WTCZZWsC0BohaDG/hrJXLZgePkHsONb649/HAAX\n",
       "eUH+eWO9LqQhNzEYbpmkHX42pZ3k2K7avJNzFRoCYXca6FTALfJaYTuXKYpy4JGNLQvQ8KEpvj7J\n",
       "J6uDuSVicVEBCOS9InHx/Xng8g/t1GSpKA9BFMomoz3BAAAAckGeYmpTwr8AUd6k4ALQpIwIViCS\n",
       "yJda4En6x93RtluyyybbJjJdsFPEpuM33anfVuO/1NHd+/d5YEfSwmBzf6IlIqN+hBwMNf1gdA0X\n",
       "TxtjO+bRcyTlbP3Uh//L1amuI+s/8xylev/FaY6uV3JGKfy9JwAAAD8BnoNqQr8Ao7TxbNkoRhjs\n",
       "XdQAK9mGdkJfU2l/3ewCBvs/Gb9xmeRlaiVgwlh7YEKPX3aVM9ECmunKVOGyl4EAAACsQZqGSahB\n",
       "aJlMFPDP/p4QAEc2beVqurHiwAtlrwS2Ly0sbae8CRe9NFtnNUemasbOk7p2tSa+x/IfYRma6WMC\n",
       "xJjkUhCXLFL0xDmih83/7o6lY0n2L/RZTaWx2UD/daZmzCyDVLDwKVdnrs5ycZqK3+y2MFEkrdWv\n",
       "e2hUHr04/XmWNaHL65obxfpSLqcG1hAve5j7Jgst93geqBZ63cN9XPUB11noeLTGHcENzQAAADYB\n",
       "nqVqQr8ADzV2zu4S7IeokpFRLWkQ6he0NubCtnmepjDIn64ufl9/Kn3M7CQUM4j+NHKImrEAAADI\n",
       "QZqnSeEKUmUwIZ/+nhABh4FIAC6Su1XgIdnEkfAI3FZ6Lky0pMa+a3P/wUQnDa3m2rZe2SsZRmU/\n",
       "P5DRfIdyeIcUpsJLn04/O8g/NVsC3Zru/shVSkjF2Gcdh6Wc6rs4JgOGvfaSjrFu12fYX0XLwthO\n",
       "oRhz5t8mwuxAZTt03aqsfy1ONzosnNwxzzWNpmXYU3tbqG3smpLEGj0E+kxwGOKPTxnvW2PvatAG\n",
       "SuJtqthVGF02GYK3GMNDriGSRJCegAdhBGOzR4EAAABrQZrISeEOiZTAhv/+p4QAEuWnZwcgATq2\n",
       "Hh+cfE3rz3W8tda1l0G2oEnmHLP58P7lziwRoADCTVzxI/4IpyJDaxM987yx66U8zVmTzLYY+wNG\n",
       "RdJlMLSGb0cg/0co7wbzWg5bBwVqRKRCQgwAAADfQZrqSeEPJlMFETw3//6nhABkZc3ACZkPmG3b\n",
       "mu1cV3jBjqFiFoHcGTI0ln4zT6bwuaLMn5z2r9xlXSbGVM+ARtC4AtkHs2lNk5+LtaL8Sdjv1kSZ\n",
       "GijeBm/WgaV7NBGtE5/8iTsM1SePwr/gX5i3pSPB1kCjjd1mUhwKTpkbny0npqLm9U4Tl4OEZG3B\n",
       "JB8kvkfENnIClBLY7KbdZqTqQIV3Gp9ietrHlIwsZEeP0dNEQMEZHoORXK5EDJyHDc89oocjC5eR\n",
       "aJfiDl3f9evBWUnBB23b4G52RyVqzLlJgAAAAEQBnwlqQr8AUdp/f8BEUhgA8E4d48z4rIGyB1BL\n",
       "HbJIM0MBRhPgbTzYnrj41xHTcvp20zGMFt/esdp3F1g116fNR0l4QQAAAJ1BmwxJ4Q8mUwU8N//+\n",
       "p4QAZG4PyQAt65LuPY8ZLWOsoLvJKBfS0WJD/UVNc9SIJBHI7/5Wu2iU0HHDRf3NaIPPBSnSWxd3\n",
       "ESX/3zKYcKOLAIVDU/h6INCYKqao+5UVHjCney8j1HaQigASmnp5W/fsqJsSyNsAiCPOwmB44DzE\n",
       "gu1EQKdFyhJ4uUB3M4MdB7FK0iGRGmxIyFQfPqXaAAAAQgGfK2pCvwBR68gOLelwqmEAJHoLX6l1\n",
       "XvnhLCyyhRn+32/r9NsyotODnVIWZcyWPf9AJntDuctAfN5M/Erxjtpz8gAAAHRBmy1J4Q8mUwIb\n",
       "//6nhAAT4Aaj/uk9FwA/ZWWO9/bfsutHy8X/GS0WA24x5TA1gd5kVYI443jOn+NUKVPzHjMY8urD\n",
       "B0JS85akRTVUT/OuwzsKqI6dPVSqQu1iSMfKSJzLEgY8lvy1NW6/Oe4SVGQIE5VUwQAAANNBm09J\n",
       "4Q8mUwURPDf//qeEAGTEVFAAuUEI/fi772zB/M33h91EdPKCiGG+DKBohMCgQ+qoiR0qIOcVjHXY\n",
       "soWESIE2rEXP/qIp5F6cyNeoblMHqZ64UzWbi6v/jZDOgb3yeFNvG83TkTCw31mrFSnyX96cmS05\n",
       "bzCm5PCFrfJeh0SfHDAldRkCKgq646qT8dPyu4hoqh6CmlJ+pzj3C5s3VWy35t7/LvY/df4i0Iox\n",
       "oSKsytsUZ/vNIO8dLHNWvMn/HFy/fSC+CD2NQr3WGTwXE5wRAAAASgGfbmpCvwCh2ZF/EDarMzEA\n",
       "dIRRwAzMu6YbK6C66RKzK0fTUIEAhYqbN4TE0cppH9zHK+N+vFVHrPbYz5vp2vMQww6YpNKL6TJJ\n",
       "AAAAjkGbcEnhDyZTAhv//qeEABRwBqPjE1RIAbsLe2zQ2leA/TfeYB8MeuckRsLlC+PzSR0fcJhM\n",
       "raMEM57wRf6WFSd9Qd7co57Lbfi6W7vdm+eu40V7yIbBRGWCpn/XYIaFIE7d5eDkdAFDbQVg/xI+\n",
       "QOQ84BsgHjrVAsH9AFx7lHeM+JJ/F1NkssT2pAoD1cAAAACnQZuUSeEPJlMCG//+p4QAZGXNwAmZ\n",
       "EyanDhyVq/755mMGu/mZiatF40hc8oBVIYkm8XYZk27uni/6meXvXEfNhQFHTOr+jfQRGebt4hTu\n",
       "KI+XPIv8xx8xwJVzB1TUw99ji9p6i6CD+vRQlWo5iPayr5Tq2/6oQ8B33nGMTFWwT+g4/gnSFqBz\n",
       "gpcBf0kj6wu/G/qUDzUbQUm/zQD/1n/PW6H5ROb995wAAAB4QZ+yRRE8L/8AdZrxNfqMOAE1eo9/\n",
       "kFFB8puuIskxNPPOZr+Z60K//t4qcE9nlCKqd9SOPfMthHXSRBCkLhn1xOJjdfe/UdKjlDG8GDjb\n",
       "BbiK3JJkOSXPMgqcTD2RFqdKVX9mcLXnm3Mpy4Z05jMLgcJfIZBql4vBAAAARgGf0XRCvwBR0w7s\n",
       "kpwqU7ab92s528gEwdBCC5RK/62KSx/IZ1VEvXdwAcOA7SL9hDGyETUsXJgOeHPVLWCa9yAMpcSo\n",
       "WSAAAAApAZ/TakK/AKHZkX6j4HAXDdmJjqMWx9joQuL+DNYpi0uqe0yn/UBr2YkAAACoQZvWSahB\n",
       "aJlMFPDf/qeEAGRlzcAJqDn29RHzbt6WUR71kFx1CgWWK3ub7hqUlinUmXMDId/U067F0H9Gf/Sy\n",
       "Dp385GDnsMuTWUBzpXS8N8W5ddfim7EWFBz82YJDm9OP6dVTqfGc/6rt8bDKQE/yPXmG7yekzsfJ\n",
       "vOBqOxI432KjFKK33kSD0/gp3AsewXNRwYawMkXCo+P9HyNv2i3PcFC8cn09C7DZAAAAYQGf9WpC\n",
       "vwCh2ZGPUjQQlMDLxogBNGABLWRnb/6sfY8Bua/q/Gr+jADPFcTseW9Zd1eKJlOcFkVUvp/dXnyS\n",
       "4b01BsmPCdShXRc333JCxQweq8C2Uzc//LLYEAe+x2ccfMAAAACPQZv4SeEKUmUwUsN//qeEAGbk\n",
       "X0AgZQRnrK/6KbpGUyC86S10yTehMzOD/ZsEieWo/SRGc3QpojeyAST9qGDYbdh/pM/Jt3i4I5xk\n",
       "yC0PCoGgHyLeRZ8icsa8etfXlx6937BDmS+8980ZORjMcnEnr1Gp87DVijrIoaAwtJNEc/1msz0k\n",
       "XpaR3I3lUOi7ooEAAAA7AZ4XakK/AKHZkmHjbfwPXv7AAlSYHduGZV064BE4EoVmrezKEzkrz7wm\n",
       "SlpwEUfPEgkQ7qr67S6u6UkAAABBQZoaSeEOiZTBRMN//qeEAMj7KiwQgtKHU5FAkQHyHQ43ABKR\n",
       "9tIVK8nMxQxPPScPPFs34q1Yjs9izjPWGr6ZsSAAAABRAZ45akK/AKO0+2bv1Qzz2wFFYwVCpsAB\n",
       "xRTMboKRkbWK5Ds0mzmnJ0CAp8DyRLEckTuTleH5RJw1boqssz3keLrsA6jj1+plr2fdaV2fg34h\n",
       "AAAAwkGaO0nhDyZTAhv//qeEAGS7+dwAtZ4grCp+ddpfAk5e2fqUB7M5zFvHqubQCQ6bI4STFIJn\n",
       "PjA+68brwMZXJfob191UDn9MPOIyaQ8/UZTHfwk3YSn2J6GqTsc5OS01JmF1QbSk3BI7mTU/kOco\n",
       "SfmH0Rxe3nLetr+ky4ZYPIkGMeobu9qGiGA/33FC9gjFghac47C+cqnuVIDYtQRHJTp0y/XzmOC9\n",
       "o3SQ1fxSOnWzJNzqnVl/uqh3yaqgzDaA9aaQAAAAUEGaXEnhDyZTAh3//qmWAArvZJQMTn9o7Rfc\n",
       "bu2Fjmm5ItR1az+OnMtg6hGOsetLg3gb7nomF5+GpnurEwYfbsVcGISrGhNH0ebQIwrYjlLNAAAA\n",
       "tUGaYEnhDyZTAh3//qmWADK5CKLoAGzr/yBVSgNzLhmnf+eYo4D+1/nZDwm98PTQ0vonZ6vJ49u3\n",
       "SKQ+8InrGydspVeDbevUHlZ4TXaJhKefM4MjPnLN7650C4mjR0M8gjKLvMiTPo7SoUJZC5AM4M9O\n",
       "59iLCgkF6kMQ2YrmC1di16zFkzPydTHsfsXWrv98LbfJxPbtGLti6mCmv+m6+SLy7mOJ0fxfnAQB\n",
       "4nEOF0tIsVWtGmEAAABkQZ6eRRE8L/8Adtq81y8qfCwAONCQ8EyDiQvchaHuljOS89g8G1LyHAjN\n",
       "ZRdwgcbEvrwZ0iBfZOa6mnVGXvUXg7F3nns6n66X/EhHDtgiS71U9/zaEKgyY+rd3g/Xg3IrmQqC\n",
       "QAAAADEBnr10Qr8AodmRd5d7m/7EbedOUxcvnrRcr5TAdQNudDMa2uu6tsAzh9PgH4TAfiRSAAAA\n",
       "OwGev2pCvwCh2ZGPUjQS6FdsZm7ym6YwBylZHJHduNXmwAZ2SpGoRYRbrNmoVTCQr10VhrDY6Nxm\n",
       "NAbBAAAAr0Gao0moQWiZTAh3//6plgAyjDPehnAHwAhT11tFaqVjcFqKehNuU+zG487GqAYRkL6r\n",
       "aH89Zrczzl1zeO/sidWg7MMeJlHGf6DrKoZDMK/1ez/MnKehbrvWdkaNhRoYqb28x+jNoz88VZGz\n",
       "hmgnKtZKHp23tUF5LnHfIvU48krbEsEAzbxfqlmRCgu2PT/0HhlJLSV2lMnJeK/dkjrAqsjOAykp\n",
       "bJtB8ldcEBzU/QIAAAA8QZ7BRREsK/8AodmRj2xRyHTSEzsAIz9D2x1qfDhwQcr+Im8enDeFACod\n",
       "zv3+hkp6l01053ivlC4cTFXxAAAARwGe4mpCvwCj1/bUXh5kQAJVVDcXqgBY9nlViFnzYlI6iiei\n",
       "C6FZMjcR01Eqz3muSeghMFk5msxubTPob/QF2vHF6gWFHiyQAAAAx0Ga5kmoQWyZTAh3//6plgAy\n",
       "l74KADWPDoRHnIqpJ+pIneG7DFLPDX9JL/y45C5WwZh49SInkekyvx/I7PxUGMRqRtNyXvszeiuL\n",
       "yG9o7Rfcbu2FjitwX2pXfqP3QMjguufjsXIkTM7bpAsePGA9lv7yDcT++hf1ZFSs3T8RkCt/X116\n",
       "SbXb/7MvocVmLBZAv9+6zcOQZQprk4cfxbMB+ajvg3F95ovLYli+o3izCVJRajNVvzEK+e3tpwMD\n",
       "3gsD6Z1Cz62dZIEAAABHQZ8ERRUsK/8Ao/JlifyNVF+LsxT/e1fTV+1CGgAS1ROhbXIr0sntNsYX\n",
       "Dp44J/IuFeQinSIBfUiyTRpx9RAopPTU2kPMx6UAAAA1AZ8lakK/AKPX9sPZpjnpuADwnUm5gebP\n",
       "6OSPs95zkzPGbAm6NVsq/E74TW0iNRB2qNwHIJEAAACgQZsqSahBbJlMCHf//qmWAGW9tB1PSwAg\n",
       "gOvvrZmUyVx58b9LKZLdFr1/rqzTD0krelArDM9vsemSmP4yQQteDc98phbG3Sxmts+wkxXSKVvp\n",
       "FqjfCRcDEKXGAEWuh/mSK0jjzT4QaQtoj+sVeXJqWYaRSs35j6Xtt1KcYEyvEC3r9ESsVn6rgo8O\n",
       "dZjUtDs4QaKmBYs9QKIM9Mt2aIlo7wAAAGpBn0hFFSwv/wB24izPY3PIjRuyAC6QkJdbgmkCKr5k\n",
       "TRnx2B3BjAVhVy14WW72jl9jhNbRf3LF380qRjwZkH30QhF7kvlOmvInonpnadahCVibqJczffX6\n",
       "AyOYJcJPmdnbOAEvyjzTJW4bAAAATgGfZ3RCvwCh2ZF3l59aS5WjACdC2u2zVksU7/8G1sOEWel1\n",
       "DR8ewC8Sp/xqh3R7ZMVp+o2XWRIZi98IAHKGWvMZRjtWWWhMG3MJyuTM4AAAADkBn2lqQr8AodmR\n",
       "j2xUy9BVqlxBNK4MjStOjDArVwx8vgATqp0nsFzosTK4W3SbBItu7jUmWwjUvXEAAACvQZtuSahB\n",
       "bJlMCG///qeEAGRSVIr6aysAJgxLanUaQOHbuQSwxpQFFB5SucfQ4w+nbHISh3iaPPQWRVsxN8el\n",
       "BJNdUHAQNSxoeEwTPpFmVTh76nfbJIoOFW33/8SoG6z1hhRgk5Q9GbKpxUO8IMXyBYmkXtcMY+NR\n",
       "h8bLtog9PkmKZSfy0cDM8V4hSACQOoVZcSEobugoYaDy2B8lhgAsSH2IL4fnwvJq9DMjuQqwqAAA\n",
       "AFJBn4xFFSwv/wB1mvFls2JWbj0J988DMABbox9sRzChUfeF2c9GBGwYbC+4m4Qjcy/vcPW30Xqa\n",
       "E3SkFe7dV0ApELMzlx6bZ7vWrWnWUeBbHEh5AAAATQGfq3RCvwBR8hkaS98+ACFurs/mY7c45LLD\n",
       "Y1Qt9ooUWRyRlm4gEZdEdLC8ri2GGj5HIViSWYSUhzkb5Di+lwI9mSMhA540I62zSorhAAAALwGf\n",
       "rWpCvwCj1/y93nV1J7n992hkrPi1Dbof7Dp0Yrr4AOmSMqTg78/zEUsiQXH5AAAAo0GbskmoQWyZ\n",
       "TAhn//6eEAMP7Hhk+z2wCdEseJ+VGb1NDqtasncSgnivDzMzHdU+RYMMaUeJz8wWZrCG5YnXcFvf\n",
       "s+Bk87NPtRfwb3bY47vvaG5ipirlClq1NGBdJMepMlfG2R17pDOR6rvWg26ulrz0aDia1RaCxRgn\n",
       "I5rkH1A21qx6TPdWXZkx63ZXHCdcFU0sW8tcPb3qkt+LaeHEmmE5osEAAABaQZ/QRRUsL/8AeYcT\n",
       "VlJ2s4QAE7BGxBIutUMWxrFNAm04PZD+W8b7xjB0DNUlwYtUVbCKB3tA7iTaCUBtGxdFcmmD5m8D\n",
       "4qAye3KHQXRXlgiJFUl9BbHhnVXAAAAAJAGf73RCvwCh2ZF3WVfsb2+mGLQs4chVgAfoRHZaBaPY\n",
       "vbdrgAAAABoBn/FqQr8AodmSYV/cYq6bORiUyHI5MrYgpwAAAFVBm/NJqEFsmUwIb//+p4QAFhpv\n",
       "SAE83MyZDBQ4P1aJ6uSpf4Fr5oxfOV0j07yvtgNnVfyR6SnOi41jRQa+VdkB8K7SZs+ImWIjHEpf\n",
       "HKpY/3c1y3ugAAAAc0GaFEnhClJlMCG//qeEAGRlzcALZAt8urQqQmWgnsEMsBZzQCezszgwyykC\n",
       "r0AXkSNSOKng9alHWRY0x98m6wLkobszCXMYv4F74b++J8lBX6TWVfw99sB8QgFSAwEg0yPHVO8E\n",
       "CwlY27Am9rEH8GQBgGAAAABGQZo1SeEOiZTAh3/+qZYAZb20IPgx0RoAvZDfuhlRWHObY5HepIzj\n",
       "idVxcVQfhDxDQGznib/5z5TmS0aaQXnjiYVbVUx6kwAAAG9BmllJ4Q8mUwId//6plgAyqhnboAGx\n",
       "09PSqOsjfOZnY9bejlRFQIg5p3w6MSEI2ZpfRXUwEMStIfuhLeqX2sEilIyOMLuJ7Jwr+KMXIbPD\n",
       "b9jcqwnmVpoak0Yx58yjShyb6RZXo8+pS3BVBWAJ0IAAAABAQZ53RRE8L/8AeYcRJu0CaRixwAtw\n",
       "LTaeA9nyfb4CpcKX14dRfnlQiLp2CD1ky2iaHwLD5UwIXMf76ZXEUeD8gQAAABYBnpZ0Qr8Ao+SK\n",
       "qJkP5VtrtOL0zwmxAAAAFgGemGpCvwCj8mWJ/IiLH/nDNNCQeIAAAABvQZqdSahBaJlMCHf//qmW\n",
       "ADKK2gEZ8AIQS0q+l4L5oaBh7db2iSzCboBa2peLNDIBmlPnOfKVQSLpzWO8dNN5cAJfEP27iHsT\n",
       "M1dwu/yyAq3rHQDLZpSlJHIJUbxGobSWYrrEpqFt+z8FIWXYnK7pAAAAGkGeu0URLC//AHmiJoub\n",
       "tjq0oy5LbetF8P5AAAAAEAGe2nRCvwCjphcsTBml/FkAAAAPAZ7cakK/AKPX++VxqDGxAAAAnUGa\n",
       "wUmoQWyZTAh3//6plgAyuWF7wAkFL1karmE8kb57KxSEYrdkSQJi5DvinM8VBZHcuIyNArHJ8sO+\n",
       "qmXhtSFy7JvpkOS4Qlr6iwG6AHpjswWqWt+er63vc98zLRqUlWgQXzoUHotaVdCG7SaBAroJI+R6\n",
       "jDMm/hfsP3qe5y6i/7bpdVwHSIrfPRDCMsPOF30tWlBzFIQJV3LN8kAAAAAuQZ7/RRUsL/8AeaIn\n",
       "3zULnkyw1gBNXqUJg0ogzkdTcBE98FwgY7qMid9BLTsnJAAAAB4Bnx50Qr8AodmRd1lXKu8q6A/k\n",
       "qLbmG3EJiyLEOuEAAAAUAZ8AakK/AKHZkX8IcnzXmFS1n4AAAAB3QZsFSahBbJlMCHf//qmWADKJ\n",
       "tvMboAJmKP4L2Oo35nClQ8PNal7PVYZUbbwcrZvBagEdifqVUrT5LVz5WkvsOfJcoppvQOPN3syx\n",
       "VmN6iHzsoMG7c83GkyomugaINkJ83toAEnLYgC8/qhfirUKlOTirNPncRZkAAABJQZ8jRRUsL/8A\n",
       "eaIKE3q7OAB+K+sqgwqbhOTLxF/uoPPomxncENd611qz5IUhxrVw4mWmz1qVCnPQqBNqicfVTYQ9\n",
       "q+ph+V8pIAAAABQBn0J0Qr8AUfJJ5fLDDMsUD9aw/QAAABUBn0RqQr8AodmRj1IzvDzqhLdQcnkA\n",
       "AAB2QZtJSahBbJlMCHf//qmWADKTw+AEKOcX0omnS18JBiAaxiyhh4PKPGJai8Pyym/oZFQg4Cy2\n",
       "VJQMtI2viXzDml4yQro+k1t0MK37RE0k773uPRiKVNLM5wvOean0HhWp0aMAY55mqi1KGTugLXfv\n",
       "3dpX4hoBgQAAABlBn2dFFSwv/wB5ogoTei9qL/EZSw4CYriBAAAADwGfhnRCvwCjphnlUpW2UAAA\n",
       "ABEBn4hqQr8Ao9f2w9j4wo38WAAAALlBm4xJqEFsmUwId//+qZYAM9MY4Amnzy6z8Z6PRnoLhZnU\n",
       "QGAYNOumzpFa7qQc+jhKaDAMiWEnGwbb3Gvj/w3T2xmis6V5Q3LbdFA1SXrFOmF8opLoASg2r1e9\n",
       "G4nS8LfXI1vRwt+GSSzwDn/Q3zxu6hTO7GxEmK+UxzMmWD+qrmrDUeyNLFir/1Fade4D89qQWsMb\n",
       "gP4P/w4o+7OIiON0qt5Kp3QqRVxySt5S8vCZoX08fW1CSjq6fQAAABxBn6pFFSwr/wCj8mmKI3fv\n",
       "5KB9C24JYs8P+SGVAAAAEwGfy2pCvwCoX3QT5chBRWUpJ8oAAACAQZvQSahBbJlMCHf//qmWADKT\n",
       "w+AEzI8RGC96j0z+QxYL0Oq86G/npGHnAkRS5hx7TXGl/waxGQ1TBARgu+2N4gXxG3sZ3LyArWt/\n",
       "G90HyuNmViHEs14dkabKuJ+zM4GFyhwvkD3499l55Hu41ujew5bcutv61Zus2v/xIsL0i0kAAAA5\n",
       "QZ/uRRUsL/8AduIvMQAAB4LmBaSyX5WsRrmYEk747NI9ndFtbIEfHEAt49C5pKmPxkS8xorSto5P\n",
       "AAAAFQGeDXRCvwCh2ZF3WVaRBuoS39J3cQAAABYBng9qQr8AodmRfwhyfNcIQVnBYSVAAAAAhkGa\n",
       "FEmoQWyZTAh3//6plgAymRN8AIQS0rfufhH7drSpOvDxgkMsv94nvvosHE4H/yvZ9RvtwpWp6Iv1\n",
       "3AyGgN3tUz6Cpr95OSq5LKpr4upAyQr3npH2zCSrUo+q2ojzZ2GQv17c28ObVscHTO4W2DEgdyTi\n",
       "1cmFQs/YH/gunjuXR4EpyX+AAAAAL0GeMkUVLC//AHWa8Vak0IgAP5DXoPBp3I4inv6ARZBvQuNm\n",
       "Be3JrUbSxmT1NAPdAAAAFQGeUXRCvwCh2ZGTp8Lxg6LFvFjdwAAAABEBnlNqQr8AodmRj2lTBF66\n",
       "mAAAAGtBmlhJqEFsmUwId//+qZYAZb20HXpFaADaroBTojx1ULgzlnjDfB4zD7obRDEvZUwMxoJX\n",
       "Boastqda+ioT/E9798jKbhl0YWLXpiQb2N9Tl0AO/CRF+joM5fV7iGWax1v+x73Gl7LY0pttMQAA\n",
       "AB5BnnZFFSwv/wB1mvFvTlRJho75G+isuIQuaBzjCrgAAAANAZ6VdEK/AKOmGaAxYQAAABcBnpdq\n",
       "Qr8Ao9f2w9mmFIDpcy1a0R4d+QAAAI1BmpxJqEFsmUwId//+qZYAMpPD4AQp8L2trMmYFzpStfCs\n",
       "r5wOf5jjfvSiD/eHnhKTGu7Dva7U13VAWi7naOQ5l87ZAo6uj6Dzn2FVB2OL0Pn16f/k116rNw2H\n",
       "WQMO2X+JGuyb+JXj9AdKVYdSsn8UPVM/AY9uWV3cHRho3J22okFyDTktLmFJJnTDQEAAAAA/QZ66\n",
       "RRUsL/8AduIsz14Hqj53QAXUemszQbWtV03OMEkCRsbGJjE8hlf5Il9AeUXrY2uDJWY/rvFAcJ7B\n",
       "x47nAAAAIwGe2XRCvwCh2ZF3lQzaShZw4gpn4dpQ7eMrWMuIUQ80XKbQAAAADwGe22pCvwCh2ZGP\n",
       "aVBCwQAAAJpBmsBJqEFsmUwId//+qZYAMpkTfACZT3ApVmDhrfhJO/6bxseAm6CXI2MWkjStIfbk\n",
       "qgZ8HODhjrNfuTk2yhCZtLFGyld+dnupCtb3jtRU4R3KcN8xlbHV5ypv3YQty2eNLv6N2yitcbwr\n",
       "/BBDvvNIrQMtdwnG4jziSyKDQTSwuj5Di1auTs2GKglT280Yfk0zllsHMBANHn59AAAAGkGe/kUV\n",
       "LC//AHWa8WWzYkyaI9soTr+EHDnAAAAAFgGfHXRCvwCjphcmbVTRmNjfqIWh6dwAAAANAZ8fakK/\n",
       "AKPX+6AxYQAAALpBmwRJqEFsmUwId//+qZYAZb20Ie9p8uhuNEkAgiWlcgRW2kBf1UJm2QueVEr5\n",
       "l3OU8C1TLROnPXTe+NhH1Yvcx7hFNsneqAy8xy4nIdcLIADDSL1bJOcgPdWXcQ07jx4Kt40GLe0V\n",
       "QjB5vbAzVc2ADzitCZYYa6B59LnZJrJ2hcPmYEVR/TYIPGd5Etr8o3upbfscb6HnqlO0QqOJJGD+\n",
       "12Y9OKYrubdkju+BxTx71Nsna5BI7bDizF0AAAA9QZ8iRRUsL/8AduIxGuR5PzACaeTSVNOg+gNr\n",
       "ga8JjliChiiNExHttEXx0bv9c7dK/fxDCiyTdbgEELASZwAAABcBn0F0Qr8AodmRd1lWkrYMfRKy\n",
       "81J5sAAAABMBn0NqQr8AodmSYV/cYosjojx3AAAAfEGbSEmoQWyZTAh3//6plgAyk8PgBbILr5ns\n",
       "SX4eu5Brlf+IcCy3ihZA43GgU/0aX9fPLlQvHRQEq/Galuq7VwHmut2vp0ZkeBoa9YO668ZIV+0Z\n",
       "My/p+HzIs4e7/BS6kF/rxQSvL17qwnzco7T4lQC2jupPRSe3qqnKCykAAAA2QZ9mRRUsL/8AOp/4\n",
       "cVBABMeVAXaUyYHzVBI7eEdpZS+meeLK+0GGfmgPpVRJKYi9rJCJpWYhAAAAEgGfhXRCvwCh2ZGT\n",
       "p8LBjKvd7QAAABEBn4dqQr8AodmRj2lTBF66mAAAAFxBm4xJqEFsmUwId//+qZYAMrBRl4ATVGnj\n",
       "y9OafjfpHClxZcmjDXU6Sh7ppe7pqdFDdHxRuPRX5Y2obXq9Z5ZVMcVqOmo53U8wE294B6s+RFfX\n",
       "djTOGVcnJxnuKwAAABNBn6pFFSwv/wA7aXw+mCfJF+mBAAAADQGfyXRCvwABHXQzd6AAAAAQAZ/L\n",
       "akK/AFHaJ6Zd26wQIAAAAHhBm9BJqEFsmUwId//+qZYAMpPo8AEn1zIo2CX+ruagvxpNJ8WRAXL6\n",
       "GhSUGIkohg6DKYWpxNISD0Zx6K9isAU0ZP3lH2kTJw2Mj7fVFDK7wOJ4e2Lyzf+CSdRC5SCwxGPr\n",
       "O4SLRTm7ns5SFxYqrrUhSuY922rD0pkAAABUQZ/uRRUsL/8AO5fOAFridGb9VwS2d9Y1dKnqBOpS\n",
       "SkDeXZ5uuC/eCw5fwOleGSTJTi5SVmFYIGwCZ8VZWrXZ8Ur8T6pa9ue9WnU5GmE1/qtP4BydAAAA\n",
       "FgGeDXRCvwBR0w1eqDCAECOw4I5rRH8AAAARAZ4PakK/AFHr46SAIQw7aYAAAAB6QZoUSahBbJlM\n",
       "CHf//qmWADKTw+AEzJSkJH2zBtRCwwAJ/lDQKRJZPeLklSFz9llDVd9zVbiRW7kdKOMbuggw1MUq\n",
       "6sb8sgC2t5QkDOYsRhsMWkj/Y0W/IdKuzdGZ88cQAOtBdI3ys+uBROYQHJhXzUUQlHTKmeivvz4A\n",
       "AAAUQZ4yRRUsL/8AO18dTXUhG1qIpv0AAAANAZ5RdEK/AFHySYBHwAAAAAsBnlNqQr8AAAMBiwAA\n",
       "AItBmlhJqEFsmUwId//+qZYAMtB38AAfnGKAnNc9ytRbx4BC+CtZTCv8F5ofTOzdyrCnJlJLcZ5U\n",
       "gmya2I/N5m3jQNkg7nor9IN1DpeS5OaUCmoj2pSWsYdLWqPRZtgPJ81fLABwbnzKJHn/Mvux0Hrg\n",
       "GOVIESQ4rYRCa0HzKt//WzvFTv+x274gktxXAAAAR0GedkUVLC//ADqoQDsgAPxZEGeYEBHusxxM\n",
       "xk23Mt1ESCDADgDiteviNaBu35vbv/telJPigRtDQ4uXjHCVhg2FCmJvOvxxAAAAEwGelXRCvwBR\n",
       "0w78lMwSH7g3keMAAAAUAZ6XakK/AKHZkX6j3kXxo1RHjuEAAACYQZqcSahBbJlMCHf//qmWADPT\n",
       "GOAJ4PZGTRk4nN8eEiCvCBjQR1nACle4JyLYw7/TTxfw6cPPlrshHiqYHBiCNwFU0/tbtsO7ZXwe\n",
       "zmNSTD0Ebq3IDcFVG+C57IRMVlOVucOMlLFcBhLPYevc8xWTwqJypixe3DVIKKqpp+omQg0BkeFK\n",
       "suk5d/pnuYp9qSWJrBWojOrGrZcAAABCQZ66RRUsL/8AdZrx8bjteaAE1NhYVNOg+TKQDDYxwclf\n",
       "Q/3b3alD8nUJsRZDExeGFbfZy/puRu103DKb0Bxzs+bBAAAAEgGe2XRCvwBR8hkbFZEgDc1h+AAA\n",
       "ABABnttqQr8AVCvcwZBx9x2nAAAAkkGawEmoQWyZTAh3//6plgAyk8PgBCCMp0bljDi+2iTMYDw6\n",
       "birHbMDEwaElbL9uBniagfUYOqmM3A9KmQQMzAYRC12ZhLkAb/spdovShvP0miuZ/GuX32ZVw0YJ\n",
       "kzd7PAVSfAgofdtj8ROEabY5EKpfbSV1SouV5AjmP27GWz7lzkihEb5rsCrkuG/2T6ppz38vAAAA\n",
       "G0Ge/kUVLC//AHWa8W9OVDFcl9p+JeJ/nJDZOAAAABMBnx10Qr8Ao6YbypUuu8vme6/cAAAAEgGf\n",
       "H2pCvwCj1/bD2OyxRaZWSQAAAE9BmwRJqEFsmUwId//+qZYAZb20HiIXdAA11/OLFIdtFX83ZHM7\n",
       "AZglW8NRtuOJYH0v4RzDm/S0vScXKlEhqshOYsLmWyy+OBM7DDGqTGezAAAAP0GfIkUVLC//AHbi\n",
       "L3wkgAtvKFsQFV6dLlRr653/JnrAix/QeLFFJzuEgpr71ffFdf8mrGAfXZLNt5m0gO7KcQAAABQB\n",
       "n0F0Qr8AodmRd5PVYYSlJtqR4gAAABIBn0NqQr8AodmRj1IzsGL/6acAAABzQZtISahBbJlMCHf/\n",
       "/qmWADKqGU8AIQS0rgNuvOaoeQ+adUFetr8nRm7a61KHjIqbyotT2geF2xHZc+dG0GgBPpxbijSM\n",
       "ynWJr5pzZvdL/UZq0d+pm4vos1uqqQU2b3Z8g83Bn9e/vgRZalog7BfCs+rxwQAAABNBn2ZFFSwv\n",
       "/wA7Xxx+Xqd2CkzvAAAADQGfhXRCvwBR8kmAR8EAAAALAZ+HakK/AAADAYsAAABqQZuMSahBbJlM\n",
       "CHf//qmWADKp8feAFqGEeit9vhjWsZY3VGnzLWxTBW189nq4V87yqIsfJsFKWliIxEENggqMJ4Y9\n",
       "rfDGDkPjCQfXAnPziuBEcKoCNl/PNm0pjcTxIbrQ3xhfsH4KdyHpoQAAADNBn6pFFSwv/wB1mvCt\n",
       "PF3YU9QAnb1KDFgaauKz9sCT14m08XFD52bMj9dqMdPiePlS4bEAAAASAZ/JdEK/AFHS2NzZYunV\n",
       "1aw/AAAAEQGfy2pCvwCh2ZF/B0mtVupgAAAAbUGb0EmoQWyZTAh3//6plgAyowg8AJmSzyXdWg6M\n",
       "UHqAzOSKLlJaTzaI9bSkQ4isAWQjfygXwD1NP5Eq9iMbPm1z+DAyQrx856TIW5YlLTeu54+5QYe2\n",
       "UlbF6aOY0Gdq0z9nktCBpQ3plmu5JRcAAABEQZ/uRRUsL/8AdZrxGdR1CAA/Ffvey/GdO0+yk17Y\n",
       "Lz7ns0nD9cX3iz8RHF0vg9cb3Pm1xuL+DdnDlxCjDN99DaOmla8AAAAVAZ4NdEK/AKOmFyyXBulv\n",
       "5faGw4rxAAAAEQGeD2pCvwCj1/iH9hYnuJHTAAAAU0GaFEmoQWyZTAh3//6plgAyk8PgBCgiespK\n",
       "I2hcJLL5ragzqfzZ/X9qXFNNI47SgBffi98UlJOyzqd5cFkTUxtLxkcka8iAbwLMEq7/nF7tkvak\n",
       "AAAAFkGeMkUVLC//AHbiL3b0Sr3QP/nZN3EAAAANAZ5RdEK/AKOmGaAxYAAAAA8BnlNqQr8Ao9f2\n",
       "w9jgETAAAACPQZpYSahBbJlMCHf//qmWAGW9tCHvF9LAeAOOF6pwqMAQKeSGPVNDGMAJ0nTQcusJ\n",
       "04wh2qjh/vke3aHMg6YzEs0+Kue9e8sTCwlK2DMnux7lhbTD5gxWiVuaDjRw2NC1bo8UK0NS18+O\n",
       "V7HPjXVLqGmgR4vGfkM3k+wwzoDqTrTipDQf6zMkXJOMU7Qk+ZUAAAA8QZ52RRUsL/8AeFrvnzG/\n",
       "755MW12AFr4NbJMnbd6e7QkpmsZj1xsU5qegBxuo+4SU7ylMgmpkZgpBr+EVAAAAFAGelXRCvwCo\n",
       "JPufXKXTsWLNT3RpAAAAEwGel2pCvwCoVuKZMyu+MCy7rPMAAABLQZqcSahBbJlMCHf//qmWADKN\n",
       "KSI3gBCCM80x4kUY1qFIwazsvoGcN2APVa4LAsROcVqoSNKx6NH4VGP/qcmunF/Py6GkDUYe2lek\n",
       "AAAAFEGeukUVLC//AHmiMPxBbaOwNXmBAAAADwGe2XRCvwCoJiOmUuwZUAAAAA0BnttqQr8AqFf7\n",
       "oDAhAAAAZUGawEmoQWyZTAh3//6plgAymRN8AIQS0rf3ugfBDBexSDLXUcrg+yNhsvHbhxwSzxnF\n",
       "wZDQlQuJeG7jHG4UKCyR/V4jhe5A1hfCXXmRvTyXZQHXqQnlcID6SD7In5JX3GfTN3jhAAAAOkGe\n",
       "/kUVLC//AHmiChN13izkpTACakH1pfGtsNjRWWunfd7y9Tg26I22YL6vG/hOVm5bNP9TRZtEDGgA\n",
       "AAATAZ8ddEK/AKgmI6EoEhMdBQU7gAAAABIBnx9qQr8AqFbimTB7Sdr5nZkAAABOQZsESahBbJlM\n",
       "CHf//qmWADK4ZuAAG1XQC+4S/RDjTBbCWd+PdFRL87NbzcLwMVpRLUsDEIRkfp+J1toyt8IwXnGH\n",
       "9/yQr9b3m2sHBwLKAAAALkGfIkUVLC//AHmiChN133irjUAAH89ShMGmG3DsrEiD8vj9v3hothwP\n",
       "H7pyo0EAAAASAZ9BdEK/AKglsbjf0Qg3Q+6NAAAAEQGfQ2pCvwCoV7mClRYpWI6zAAAAUEGbSEmo\n",
       "QWyZTAh3//6plgAys4BeADnLoBYoxFo7odIoyrrW9XgtaAvsJ43LThH1yoB07Jt/1gExeZXPCnKn\n",
       "XBv90tY++JtKBFkBGjkEMmW1AAAAFkGfZkUVLC//AHmiJ99seBEBuh/sbKkAAAAOAZ+FdEK/AKgl\n",
       "sbmAELEAAAAPAZ+HakK/AKhXuYJELAc0AAAAU0GbjEmoQWyZTAh3//6plgAyqLPAAGygMYJyUCuS\n",
       "xmktfs9ifU3FdHVhx8Gr9DDgl/GrS/3aD7pv9eXX1VwQq+aicjByq59w6qQ9borJ0uu1nvmAAAAA\n",
       "OkGfqkUVLC//AHmiJ99OOPf6AC6dyEcCxyNHWJXciIUexdlcTiWGAe2lQsFa63n/EKi7ihdoH4zA\n",
       "3nEAAAAWAZ/JdEK/AKgk+5/FMA3atDJtDY4slQAAABIBn8tqQr8AqFbimTMyIM4ES5oAAAB/QZvQ\n",
       "SahBbJlMCHf//qmWAGW9tCHvFaF7brMhwBBEtK5Dr5moE5OIIP8s+DN5d3cBfmJYw7q8l5DVDEMF\n",
       "Z5qlXJDHktZY0pk3Eveys6NhX7mn5IBiGGtRonv0VmsEtU1dse0IfitfYKIPm/Y4MImdJbgt0G+M\n",
       "EmDWu48WBGAJ2QAAABZBn+5FFSwv/wB5ogoTcaWZGRiy5e41AAAAEQGeDXRCvwCoJbGwangjcB7R\n",
       "AAAADgGeD2pCvwCoV7mDIAoYAAAAW0GaFEmoQWyZTAh3//6plgAyk8PgBMyMu9CMG6ky5PIB3YAz\n",
       "hnjBK3qniZRhgXH0mmCtgO6GLoEF3kXXaXfyvrMP8tG/m8/jj0V7FVC3vKsC5V9MNLulKea6aEAA\n",
       "AAA4QZ4yRRUsL/8AeaIn32aDyACVC3xTLncfQsIJvGGvx7NejnGtG9rCeQQyvzzhC96/251KsCGI\n",
       "lOEAAAAXAZ5RdEK/AKgk+5/FHB0b2Uwh83KrRVIAAAASAZ5TakK/AKhW4pkwe0na+Z2YAAAAVEGa\n",
       "WEmoQWyZTAh3//6plgBlvbQdiYlgBCCUqTL3oBaJXK2/P6ueMPesZIj55vfgdb2bM31vQ6NsD+Ww\n",
       "ynbREVj+5alS/xwr17mcoNzatem5vRgHdQAAADhBnnZFFSwv/wB5ogoTeYPdJIATsi5oSsCJuNYK\n",
       "RKk5cJ+VQ3TDGkAg2O3qU4y34miAVU0WZPzOwAAAABMBnpV0Qr8AqCT7n8u4Rnj+HfvNAAAAEgGe\n",
       "l2pCvwCoVuKZMzIgzgRLmwAAAD9BmpxJqEFsmUwId//+qZYAMpeyUAEKNCECeMyKM/UoBIpY4kKv\n",
       "xqtRcvsok5UMNeU7hn/S/eO/6OuTLjzEBvQAAAAWQZ66RRUsL/8AeaIKE3ovai9Fl3l40QAAAA4B\n",
       "ntl0Qr8AqCWxuYAQsAAAABABnttqQr8AqFe5gkAloAe1AAAAVEGawEmoQWyZTAh3//6plgBlvbQd\n",
       "T0sAINoFtDHIyIVQfC1QUbcB4XQfS+91gHVgNZ/S3nXw32OYoRKxzrymGPOy7o+1d6Fz/B96nh99\n",
       "KEOuGlXtmQAAADhBnv5FFSwv/wB5oiffNPHZrb24+gAuo2W9JLrmZ9nQK4+67zGHH1F6kjf/n31y\n",
       "H2eqEVFlLDeecAAAABEBnx10Qr8AqCWxt/nsUumiJwAAABEBnx9qQr8AqFe5gpUWKViOswAAAE1B\n",
       "mwRJqEFsmUwId//+qZYAMs8ZpAAH5yysM6cYaBWRoJIQP14KwXun4b2PJOW8vLhjT07M/hL3f19T\n",
       "wFN1hw5Et0f551/4aWcvEFofMAAAABVBnyJFFSwv/wB5oiffZRtmg3KauNEAAAAQAZ9BdEK/AKgl\n",
       "sbjf0QgE3AAAAA4Bn0NqQr8AqFe5gyAKGQAAAJJBm0hJqEFsmUwId//+qZYAM9MY4Ac0L1ThAh3M\n",
       "YPSQkfaVQBP6aba0ZBwHqfTvoJKnQXuHRIM2x3TtDR8T9XFjb3qoA85mRWvjuXo6eaesYZfSj6RX\n",
       "8yJ0TpV0DSfMLnvF+35NMPGU2JVgJghdV/WCRZDuhp0msOoznuFSD4jKBorcGBJ2Ft5t8Lut3C+E\n",
       "54DKgQAAADtBn2ZFFSwv/wB5oiffHQOAsqACdgjYSuJWqGChEhvbk04lBymbD97coyQurdVeoIbJ\n",
       "KPIxiR8Yswq6NQAAABMBn4V0Qr8AqCT7n8UcHMCzVv3nAAAAFAGfh2pCvwCoVuKY7WWZc4blwZzA\n",
       "AAAAXEGbjEmoQWyZTAh3//6plgAyibIEHgBbIHNvjvbRzpDKEl1C7pQKxZFgsm8bXwxe1eRGDSuH\n",
       "q3+ddxUcDx7/w/hg2Fcv1L+DkZioJcpnv2+Om+RyRx2SZ4RlNj2pAAAAN0GfqkUVLC//AHmiChN5\n",
       "+gJACV9oTb37e4XB9HzQUc7dDU9drGtuTGZR47irvMWXEXkxBuYLl2EAAAATAZ/JdEK/AKgk325a\n",
       "KmkG6TruYAAAABIBn8tqQr8AqFdzr2jVSdp+TZgAAAA2QZvQSahBbJlMCHf//qmWADKwUd3QAP5k\n",
       "dI+Id7Tjfh0ztx3ySyUtdOwwETS8h1ON0i+YgN6BAAAAFkGf7kUVLC//AHmiChN6L2ovRZd5eNEA\n",
       "AAAOAZ4NdEK/AKglsbmAELEAAAAQAZ4PakK/AKhXuYJAJaAHtAAAAEJBmhRJqEFsmUwId//+qZYA\n",
       "MpPo8AElqeij+wMksFgYRTXRID3gq8bA/K6UKORTudn7/K/5jWXBK0IVjqUvGRxAb0AAAABQQZ4y\n",
       "RRUsL/8AeaIn33F3QAXGJ0bStx+/Fh7p9s9GWnxCFRm+DEuteBnfEQtJVxjOt5m6IxqUxU4lNA+r\n",
       "+bp/LpazIShyFLs/2VyHx/I8DmEAAAASAZ5RdEK/AKgk+5/FL0GctK7MAAAAFAGeU2pCvwCoVuKZ\n",
       "MyzlvRZd1nmAAAAASUGaWEmoQWyZTAh3//6plgBlvbQdT0sAJmSlI6wSg738CwwAI8Xm1qPY144I\n",
       "J+6UO1YeF39q92EA27DEcItwcop1LM1ur4eAg4EAAAAUQZ52RRUsL/8AeaIkkZWyTtKdCcAAAAAP\n",
       "AZ6VdEK/AKglsbjibAc1AAAADQGel2pCvwCoV/ugMCEAAABQQZqcSahBbJlMCHf//qmWADKTw+AE\n",
       "zJSjXt0L8sQuYzsp5LCaBWGSC+It1e9jKkWoSLVo9mDWwt7Qt/I2BSIy/RTNIoM25Ru8FNf03PMQ\n",
       "G9AAAABHQZ66RRUsL/8AeaIpD04VjAABOO2L0X/BEfOzF4JXX5MvU8OJ4Ue1fRaaBqw4IH1yOBeu\n",
       "dY/7kxIqRRg240D12SMaizDcTsEAAAARAZ7ZdEK/AKgmI6EytNhgY+YAAAASAZ7bakK/AKhXuYJA\n",
       "JaBZaF0bAAAAbUGawEmoQWyZTAh3//6plgAz0xjgB0rnZe6P+X9RresEWJxve9eiU1XhqbMCQA4x\n",
       "FekGGCiWdGVr28RXyqiO7F6+z/yFyqtMrrsjIkvZzaG/S9okNWPlkWQ2KlPJPxfZ96GTf8N8H/OJ\n",
       "B8ZgSsEAAAA5QZ7+RRUsL/8AeaIn3xzLq0IBAATstFJU06D5pqM7AjDkMFdc5u2iOidGPgmJlI0l\n",
       "UAdOoMfs8K7gAAAAEwGfHXRCvwCoJPufy7hGeP4d+8wAAAATAZ8fakK/AKhW4pj4TkchXN1nmQAA\n",
       "AFpBmwRJqEFsmUwId//+qZYAMpPD4AQgkwwzUmXvBtnhqtsnW9/HlDNXfolxrFpLkrUeNulO1iY6\n",
       "l6WVdNtPHjg2bYV2ZhNEmVgbtx/ohst52DVirucNfUcQG9AAAAAWQZ8iRRUsL/8AeaIKE3ovai9F\n",
       "l3l40QAAAA4Bn0F0Qr8AqCWxuYAQsAAAABABn0NqQr8AqFe5gkAloAe1AAAAM0GbSEmoQWyZTAh3\n",
       "//6plgAyqLVHQARAkgxxa0qASBYd/3DdaO8ARYEiRX3hovedHEBvQQAAADdBn2ZFFSwv/wB5oiff\n",
       "Nojpe1HAC2+pm1LPZbGmVpxAWkYcZJmPz7s3Hm/2Gv2lXm2e0vH8U2u5AAAAEgGfhXRCvwCoJPuf\n",
       "xS9BnLSuzQAAABMBn4dqQr8AqFbimTMrvjAsu6zzAAAAVEGbjEmoQWyZTAh3//6plgAyk8PgBCCU\n",
       "qq/2CQsXksNXTo/m5pGQCohYk31ORg0mFwZzaDkPtxf7wNNGmmuiFD1PZTYc4dtruX0W0t3k21zf\n",
       "YaAtoAAAABVBn6pFFSwv/wB5ogoTeeV4M4CUc4EAAAAPAZ/JdEK/AKglsbjibAc0AAAADgGfy2pC\n",
       "vwCoV7mDIAoYAAAAUUGb0EmoQWyZTAhv//6nhADI+yokhI6FgBcLTs0Sf3+IFcVXgb1u41rNUml/\n",
       "8dRcK/w0TYchuj6rbXqllV4dAPmiJ4g6+7xaNyJogdt90YB3QQAAAC1Bn+5FFSwv/wB5oiffTYCk\n",
       "prACZeBjbe/GoKYDJqNFJ1ghcFdPlcxiDdTTjsEAAAAUAZ4NdEK/AKgk+5/FIEGeP42uRoEAAAAS\n",
       "AZ4PakK/AKhW4pkwe0na+Z2YAAAAc0GaFEmoQWyZTAhv//6nhABkTViqewAmZD6DKes/3qKbnfRh\n",
       "hpCnrFBwaI9RGCIE+muMEREOXTZM9/OURHFnYCeG/48gdTJDJdKrFcRis5K2x+qgERuj5mF36D+n\n",
       "/euDSRx/z6JeC4JyVkGv99qi1AnHxWAAAABLQZ4yRRUsL/8AeaIKE3q7OAB+K+sqgwqbhOTLxF/6\n",
       "MSlE1ZhFsSWhQHRdFyGENFqIuWm5dV9dfXoVAm1ROQVPfbNZUk80tc8LmZVNAAAAEwGeUXRCvwCo\n",
       "JiOmVBnw7EeRP4gAAAAbAZ5TakK/AKhYBaUOODac8nlK2dFUMlXAGzhSAAAAPUGaWEmoQWyZTAhf\n",
       "//6MsAGKgmYAIgCSdQNrp4N0pdjRD3QPVRAAB2Ckn0aUEDmi2JZyaFJdn+UdYGKAz4EAAAAVQZ52\n",
       "RRUsL/8AeaIw/JTSWmOel/9wAAAADQGelXRCvwCoJhmgMCEAAAAQAZ6XakK/AKhYBaIPs+gUkQAA\n",
       "AGtBmplJqEFsmUwIV//+OEAGHafkAIU82Zyop0ZkboILgdk13YOMZbD7bfiLcl5Yuvo3rC5Vy28T\n",
       "ppO8DfYviQXy0ddG1vtgUkVPuGWkMyo4Lk9eSZnUcwzIMLCw3zFCPCTQ4JrKPdwHDyq3EAAADp5t\n",
       "b292AAAAbG12aGQAAAAAAAAAAAAAAAAAAAPoAAAnEAABAAABAAAAAAAAAAAAAAAAAQAAAAAAAAAA\n",
       "AAAAAAAAAAEAAAAAAAAAAAAAAAAAAEAAAAAAAAAAAAAAAAAAAAAAAAAAAAAAAAAAAAAAAAACAAAN\n",
       "yHRyYWsAAABcdGtoZAAAAAMAAAAAAAAAAAAAAAEAAAAAAAAnEAAAAAAAAAAAAAAAAAAAAAAAAQAA\n",
       "AAAAAAAAAAAAAAAAAAEAAAAAAAAAAAAAAAAAAEAAAAABsAAAASAAAAAAACRlZHRzAAAAHGVsc3QA\n",
       "AAAAAAAAAQAAJxAAAAQAAAEAAAAADUBtZGlhAAAAIG1kaGQAAAAAAAAAAAAAAAAAADIAAAH0AFXE\n",
       "AAAAAAAtaGRscgAAAAAAAAAAdmlkZQAAAAAAAAAAAAAAAFZpZGVvSGFuZGxlcgAAAAzrbWluZgAA\n",
       "ABR2bWhkAAAAAQAAAAAAAAAAAAAAJGRpbmYAAAAcZHJlZgAAAAAAAAABAAAADHVybCAAAAABAAAM\n",
       "q3N0YmwAAACzc3RzZAAAAAAAAAABAAAAo2F2YzEAAAAAAAAAAQAAAAAAAAAAAAAAAAAAAAABsAEg\n",
       "AEgAAABIAAAAAAAAAAEAAAAAAAAAAAAAAAAAAAAAAAAAAAAAAAAAAAAAAAAAAAAY//8AAAAxYXZj\n",
       "QwFkABX/4QAYZ2QAFazZQbCWhAAAAwAEAAADAMg8WLZYAQAGaOvjyyLAAAAAHHV1aWRraEDyXyRP\n",
       "xbo5pRvPAyPzAAAAAAAAABhzdHRzAAAAAAAAAAEAAAD6AAACAAAAABRzdHNzAAAAAAAAAAEAAAAB\n",
       "AAAHmGN0dHMAAAAAAAAA8QAAAAIAAAQAAAAAAQAACAAAAAACAAACAAAAAAEAAAYAAAAAAQAAAgAA\n",
       "AAACAAAEAAAAAAEAAAYAAAAAAQAAAgAAAAABAAAGAAAAAAEAAAIAAAAAAQAABAAAAAABAAAGAAAA\n",
       "AAEAAAIAAAAAAQAABAAAAAABAAAKAAAAAAEAAAQAAAAAAQAAAAAAAAABAAACAAAAAAEAAAYAAAAA\n",
       "AQAAAgAAAAABAAAGAAAAAAEAAAIAAAAAAQAABgAAAAABAAACAAAAAAIAAAQAAAAAAQAACgAAAAAB\n",
       "AAAEAAAAAAEAAAAAAAAAAQAAAgAAAAABAAAIAAAAAAIAAAIAAAAAAQAACAAAAAACAAACAAAAAAEA\n",
       "AAoAAAAAAQAABAAAAAABAAAAAAAAAAEAAAIAAAAAAQAACgAAAAABAAAEAAAAAAEAAAAAAAAAAQAA\n",
       "AgAAAAABAAAKAAAAAAEAAAQAAAAAAQAAAAAAAAABAAACAAAAAAMAAAQAAAAAAQAACgAAAAABAAAE\n",
       "AAAAAAEAAAAAAAAAAQAAAgAAAAABAAAKAAAAAAEAAAQAAAAAAQAAAAAAAAABAAACAAAAAAEAAAoA\n",
       "AAAAAQAABAAAAAABAAAAAAAAAAEAAAIAAAAAAQAACgAAAAABAAAEAAAAAAEAAAAAAAAAAQAAAgAA\n",
       "AAABAAAKAAAAAAEAAAQAAAAAAQAAAAAAAAABAAACAAAAAAEAAAgAAAAAAgAAAgAAAAABAAAKAAAA\n",
       "AAEAAAQAAAAAAQAAAAAAAAABAAACAAAAAAEAAAoAAAAAAQAABAAAAAABAAAAAAAAAAEAAAIAAAAA\n",
       "AQAACgAAAAABAAAEAAAAAAEAAAAAAAAAAQAAAgAAAAABAAAKAAAAAAEAAAQAAAAAAQAAAAAAAAAB\n",
       "AAACAAAAAAEAAAoAAAAAAQAABAAAAAABAAAAAAAAAAEAAAIAAAAAAQAACgAAAAABAAAEAAAAAAEA\n",
       "AAAAAAAAAQAAAgAAAAABAAAKAAAAAAEAAAQAAAAAAQAAAAAAAAABAAACAAAAAAEAAAoAAAAAAQAA\n",
       "BAAAAAABAAAAAAAAAAEAAAIAAAAAAQAACgAAAAABAAAEAAAAAAEAAAAAAAAAAQAAAgAAAAABAAAK\n",
       "AAAAAAEAAAQAAAAAAQAAAAAAAAABAAACAAAAAAEAAAoAAAAAAQAABAAAAAABAAAAAAAAAAEAAAIA\n",
       "AAAAAQAACgAAAAABAAAEAAAAAAEAAAAAAAAAAQAAAgAAAAABAAAKAAAAAAEAAAQAAAAAAQAAAAAA\n",
       "AAABAAACAAAAAAEAAAoAAAAAAQAABAAAAAABAAAAAAAAAAEAAAIAAAAAAQAACgAAAAABAAAEAAAA\n",
       "AAEAAAAAAAAAAQAAAgAAAAABAAAKAAAAAAEAAAQAAAAAAQAAAAAAAAABAAACAAAAAAEAAAoAAAAA\n",
       "AQAABAAAAAABAAAAAAAAAAEAAAIAAAAAAQAACgAAAAABAAAEAAAAAAEAAAAAAAAAAQAAAgAAAAAB\n",
       "AAAKAAAAAAEAAAQAAAAAAQAAAAAAAAABAAACAAAAAAEAAAoAAAAAAQAABAAAAAABAAAAAAAAAAEA\n",
       "AAIAAAAAAQAACgAAAAABAAAEAAAAAAEAAAAAAAAAAQAAAgAAAAABAAAKAAAAAAEAAAQAAAAAAQAA\n",
       "AAAAAAABAAACAAAAAAEAAAoAAAAAAQAABAAAAAABAAAAAAAAAAEAAAIAAAAAAQAACgAAAAABAAAE\n",
       "AAAAAAEAAAAAAAAAAQAAAgAAAAABAAAKAAAAAAEAAAQAAAAAAQAAAAAAAAABAAACAAAAAAEAAAoA\n",
       "AAAAAQAABAAAAAABAAAAAAAAAAEAAAIAAAAAAQAACgAAAAABAAAEAAAAAAEAAAAAAAAAAQAAAgAA\n",
       "AAABAAAKAAAAAAEAAAQAAAAAAQAAAAAAAAABAAACAAAAAAEAAAoAAAAAAQAABAAAAAABAAAAAAAA\n",
       "AAEAAAIAAAAAAQAACgAAAAABAAAEAAAAAAEAAAAAAAAAAQAAAgAAAAABAAAKAAAAAAEAAAQAAAAA\n",
       "AQAAAAAAAAABAAACAAAAAAEAAAoAAAAAAQAABAAAAAABAAAAAAAAAAEAAAIAAAAAAQAACgAAAAAB\n",
       "AAAEAAAAAAEAAAAAAAAAAQAAAgAAAAABAAAKAAAAAAEAAAQAAAAAAQAAAAAAAAABAAACAAAAAAEA\n",
       "AAoAAAAAAQAABAAAAAABAAAAAAAAAAEAAAIAAAAAAQAACgAAAAABAAAEAAAAAAEAAAAAAAAAAQAA\n",
       "AgAAAAABAAAKAAAAAAEAAAQAAAAAAQAAAAAAAAABAAACAAAAAAEAAAoAAAAAAQAABAAAAAABAAAA\n",
       "AAAAAAEAAAIAAAAAAQAACgAAAAABAAAEAAAAAAEAAAAAAAAAAQAAAgAAAAABAAAKAAAAAAEAAAQA\n",
       "AAAAAQAAAAAAAAABAAACAAAAAAEAAAoAAAAAAQAABAAAAAABAAAAAAAAAAEAAAIAAAAAAQAACgAA\n",
       "AAABAAAEAAAAAAEAAAAAAAAAAQAAAgAAAAABAAAKAAAAAAEAAAQAAAAAAQAAAAAAAAABAAACAAAA\n",
       "AAEAAAQAAAAAHHN0c2MAAAAAAAAAAQAAAAEAAAD6AAAAAQAAA/xzdHN6AAAAAAAAAAAAAAD6AAAO\n",
       "fQAAAK8AAAEKAAAAdgAAAEMAAACwAAAAOgAAAMwAAABvAAAA4wAAAEgAAAChAAAARgAAAHgAAADX\n",
       "AAAATgAAAJIAAACrAAAAfAAAAEoAAAAtAAAArAAAAGUAAACTAAAAPwAAAEUAAABVAAAAxgAAAFQA\n",
       "AAC5AAAAaAAAADUAAAA/AAAAswAAAEAAAABLAAAAywAAAEsAAAA5AAAApAAAAG4AAABSAAAAPQAA\n",
       "ALMAAABWAAAAUQAAADMAAACnAAAAXgAAACgAAAAeAAAAWQAAAHcAAABKAAAAcwAAAEQAAAAaAAAA\n",
       "GgAAAHMAAAAeAAAAFAAAABMAAAChAAAAMgAAACIAAAAYAAAAewAAAE0AAAAYAAAAGQAAAHoAAAAd\n",
       "AAAAEwAAABUAAAC9AAAAIAAAABcAAACEAAAAPQAAABkAAAAaAAAAigAAADMAAAAZAAAAFQAAAG8A\n",
       "AAAiAAAAEQAAABsAAACRAAAAQwAAACcAAAATAAAAngAAAB4AAAAaAAAAEQAAAL4AAABBAAAAGwAA\n",
       "ABcAAACAAAAAOgAAABYAAAAVAAAAYAAAABcAAAARAAAAFAAAAHwAAABYAAAAGgAAABUAAAB+AAAA\n",
       "GAAAABEAAAAPAAAAjwAAAEsAAAAXAAAAGAAAAJwAAABGAAAAFgAAABQAAACWAAAAHwAAABcAAAAW\n",
       "AAAAUwAAAEMAAAAYAAAAFgAAAHcAAAAXAAAAEQAAAA8AAABuAAAANwAAABYAAAAVAAAAcQAAAEgA\n",
       "AAAZAAAAFQAAAFcAAAAaAAAAEQAAABMAAACTAAAAQAAAABgAAAAXAAAATwAAABgAAAATAAAAEQAA\n",
       "AGkAAAA+AAAAFwAAABYAAABSAAAAMgAAABYAAAAVAAAAVAAAABoAAAASAAAAEwAAAFcAAAA+AAAA\n",
       "GgAAABYAAACDAAAAGgAAABUAAAASAAAAXwAAADwAAAAbAAAAFgAAAFgAAAA8AAAAFwAAABYAAABD\n",
       "AAAAGgAAABIAAAAUAAAAWAAAADwAAAAVAAAAFQAAAFEAAAAZAAAAFAAAABIAAACWAAAAPwAAABcA\n",
       "AAAYAAAAYAAAADsAAAAXAAAAFgAAADoAAAAaAAAAEgAAABQAAABGAAAAVAAAABYAAAAYAAAATQAA\n",
       "ABgAAAATAAAAEQAAAFQAAABLAAAAFQAAABYAAABxAAAAPQAAABcAAAAXAAAAXgAAABoAAAASAAAA\n",
       "FAAAADcAAAA7AAAAFgAAABcAAABYAAAAGQAAABMAAAASAAAAVQAAADEAAAAYAAAAFgAAAHcAAABP\n",
       "AAAAFwAAAB8AAABBAAAAGQAAABEAAAAUAAAAbwAAABRzdGNvAAAAAAAAAAEAAAAsAAAAYnVkdGEA\n",
       "AABabWV0YQAAAAAAAAAhaGRscgAAAAAAAAAAbWRpcmFwcGwAAAAAAAAAAAAAAAAtaWxzdAAAACWp\n",
       "dG9vAAAAHWRhdGEAAAABAAAAAExhdmY1Ny44My4xMDA=\n",
       "\">\n",
       "  Your browser does not support the video tag.\n",
       "</video>"
      ],
      "text/plain": [
       "<matplotlib.animation.FuncAnimation at 0x115b02630>"
      ]
     },
     "execution_count": 52,
     "metadata": {},
     "output_type": "execute_result"
    },
    {
     "data": {
      "image/png": "[encoded data removed]",
      "text/plain": [
       "<matplotlib.figure.Figure at 0x115bce668>"
      ]
     },
     "metadata": {},
     "output_type": "display_data"
    }
   ],
   "source": [
    "cartPoleAnimation(xt)"
   ]
  },
  {
   "cell_type": "markdown",
   "metadata": {},
   "source": [
    "An animation can sometimes be a helpful tool to check, wether the model equations are implemented correctly. A strange behaviour is much easier to detect in a visual animation, compared to looking at the plotted state trajectories."
   ]
  },
  {
   "cell_type": "markdown",
   "metadata": {},
   "source": [
    "## Feedforward control\n",
    "The designed feedback controller successfully stabilizes the system in the unstable equilibrium $(0, 0, 0, 0)^\\textrm{T}$. To stabilize the cart at another $x_0$-position, it is necessary to design a feedforward control. \n",
    "\n",
    "Recapture the linearized feedback control system dynamics:\n",
    "\\begin{align}\n",
    "\\dot x(t) &= (A -BK)x(t) \\\\\n",
    "y(t) &= Cx(t)\n",
    "\\end{align}\n",
    "A feedforward input $u_{ff}$ is introduced:\n",
    "\\begin{align}\n",
    "\\dot x(t) &= (A -BK)x(t) + B u_{ff}(t) \\\\\n",
    "y(t) &= Cx(t)\n",
    "\\end{align}\n",
    "with\n",
    "\\begin{align}\n",
    "u_{ff}(t) = - V y_d\n",
    "\\end{align}\n",
    "where $V$ is a feedforward filter and $y_d$ is the stationary desired system output.\n",
    "\n",
    "This leads to new dynamics:\n",
    "\\begin{align}\n",
    "\\dot x(t) &= (A -BK)x(t) - B V y_d \\\\\n",
    "y(t) &= Cx(t)\n",
    "\\end{align}"
   ]
  },
  {
   "cell_type": "markdown",
   "metadata": {},
   "source": [
    "The Laplace transform of this new system is given by:\n",
    "\\begin{align}\n",
    "sX(s) &= (A -BK)X(s) - B V Y_d \\\\\n",
    "Y(s) &= CX(s)\n",
    "\\end{align}\n",
    "\n",
    "Now it is easy to solve for $X(s)$\n",
    "\\begin{align}\n",
    "&& sX(s) &= (A -BK)X(s) - B V Y_d \\\\\n",
    "\\Leftrightarrow \\quad &&(sI - A +BK)X(s) &= - B V Y_d \\\\\n",
    "\\Leftrightarrow \\quad &&X(s) &= - (sI - A +BK)^{-1}(B V Y_d) \\\\\n",
    "\\end{align}\n",
    "\n",
    "Substituting the equation for $X(s)$ in the output equation of the system results in:\n",
    "\\begin{align}\n",
    "Y(s) &= - C(sI - A +BK)^{-1}(B V Y_d)\n",
    "\\end{align}\n",
    "\n",
    "---\n",
    "If $t$ goes to infinity, the system output $y$ should be equal to the desired system output $y_d$:\n",
    "$$\\lim_{t\\to\\infty}y(t) \\overset{!}{=} y_d$$\n",
    "\n",
    "In the s-Domain this corresponds to:\n",
    "$$\\lim_{s\\to0}Y(s) \\overset{!}{=} Y_d$$\n",
    "(An intuition: If $s=0$, the derivatives are equal to zero, which means the system is in steady state)\n",
    "\n",
    "$$Y(0)=Y_d = - C(- A +BK)^{-1}(B V Y_d)$$\n",
    "\n",
    "Solving for V results in:\n",
    "$$V = [C(A - BK)^{-1}B]^{-1}$$ "
   ]
  },
  {
   "cell_type": "markdown",
   "metadata": {},
   "source": [
    "By setting $C$, the output is defined as $y=x_0$ (position of the cart)."
   ]
  },
  {
   "cell_type": "code",
   "execution_count": 53,
   "metadata": {},
   "outputs": [],
   "source": [
    "C = np.array([1, 0, 0, 0])"
   ]
  },
  {
   "cell_type": "markdown",
   "metadata": {},
   "source": [
    "Finally the feedforward filter $V$ is computed:"
   ]
  },
  {
   "cell_type": "code",
   "execution_count": 54,
   "metadata": {},
   "outputs": [
    {
     "data": {
      "text/plain": [
       "array([ 10.])"
      ]
     },
     "execution_count": 54,
     "metadata": {},
     "output_type": "execute_result"
    }
   ],
   "source": [
    "V = ((C.dot(np.linalg.inv((A-B.dot(K))))).dot(B))**(-1)\n",
    "V"
   ]
  },
  {
   "cell_type": "markdown",
   "metadata": {},
   "source": [
    "The function of the control system (feedback and feedforward control) is defined:"
   ]
  },
  {
   "cell_type": "code",
   "execution_count": 55,
   "metadata": {},
   "outputs": [],
   "source": [
    "def ffODE(t, x, yd):\n",
    "    '''Nonlinear system of equations dx/dt = f(x,u) = f(x,-K*x) = f(x)'''\n",
    "    u = -K.dot(x) - V*yd # define the control law (feedback / feedforward)\n",
    "    return dx_func(*x, u).T[0]"
   ]
  },
  {
   "cell_type": "code",
   "execution_count": 56,
   "metadata": {},
   "outputs": [],
   "source": [
    "sol = sci.integrate.solve_ivp(lambda t, x: ffODE(t, x, yd=2), (t0, tf), x0, t_eval=tt)"
   ]
  },
  {
   "cell_type": "code",
   "execution_count": 57,
   "metadata": {},
   "outputs": [],
   "source": [
    "xt = sol.y.T"
   ]
  },
  {
   "cell_type": "code",
   "execution_count": 58,
   "metadata": {},
   "outputs": [
    {
     "data": {
      "image/png": "[encoded data removed]",
      "text/plain": [
       "<matplotlib.figure.Figure at 0x115b29278>"
      ]
     },
     "metadata": {},
     "output_type": "display_data"
    },
    {
     "data": {
      "image/png": "[encoded data removed]",
      "text/plain": [
       "<matplotlib.figure.Figure at 0x115decb38>"
      ]
     },
     "metadata": {},
     "output_type": "display_data"
    }
   ],
   "source": [
    "cartPolePlot(xt)"
   ]
  },
  {
   "cell_type": "code",
   "execution_count": 59,
   "metadata": {},
   "outputs": [
    {
     "data": {
      "text/html": [
       "<video width=\"432\" height=\"288\" controls autoplay loop>\n",
       "  <source type=\"video/mp4\" src=\"data:video/mp4;base64,AAAAHGZ0eXBNNFYgAAACAGlzb21pc28yYXZjMQAAAAhmcmVlAABUmG1kYXQAAAKuBgX//6rcRem9\n",
       "5tlIt5Ys2CDZI+7veDI2NCAtIGNvcmUgMTQ4IHIyNzk1IGFhYTlhYTggLSBILjI2NC9NUEVHLTQg\n",
       "QVZDIGNvZGVjIC0gQ29weWxlZnQgMjAwMy0yMDE3IC0gaHR0cDovL3d3dy52aWRlb2xhbi5vcmcv\n",
       "eDI2NC5odG1sIC0gb3B0aW9uczogY2FiYWM9MSByZWY9MyBkZWJsb2NrPTE6MDowIGFuYWx5c2U9\n",
       "MHgzOjB4MTEzIG1lPWhleCBzdWJtZT03IHBzeT0xIHBzeV9yZD0xLjAwOjAuMDAgbWl4ZWRfcmVm\n",
       "PTEgbWVfcmFuZ2U9MTYgY2hyb21hX21lPTEgdHJlbGxpcz0xIDh4OGRjdD0xIGNxbT0wIGRlYWR6\n",
       "b25lPTIxLDExIGZhc3RfcHNraXA9MSBjaHJvbWFfcXBfb2Zmc2V0PS0yIHRocmVhZHM9NiBsb29r\n",
       "YWhlYWRfdGhyZWFkcz0xIHNsaWNlZF90aHJlYWRzPTAgbnI9MCBkZWNpbWF0ZT0xIGludGVybGFj\n",
       "ZWQ9MCBibHVyYXlfY29tcGF0PTAgY29uc3RyYWluZWRfaW50cmE9MCBiZnJhbWVzPTMgYl9weXJh\n",
       "bWlkPTIgYl9hZGFwdD0xIGJfYmlhcz0wIGRpcmVjdD0xIHdlaWdodGI9MSBvcGVuX2dvcD0wIHdl\n",
       "aWdodHA9MiBrZXlpbnQ9MjUwIGtleWludF9taW49MjUgc2NlbmVjdXQ9NDAgaW50cmFfcmVmcmVz\n",
       "aD0wIHJjX2xvb2thaGVhZD00MCByYz1jcmYgbWJ0cmVlPTEgY3JmPTIzLjAgcWNvbXA9MC42MCBx\n",
       "cG1pbj0wIHFwbWF4PTY5IHFwc3RlcD00IGlwX3JhdGlvPTEuNDAgYXE9MToxLjAwAIAAAA0qZYiE\n",
       "ADf//vbw/gU2O5jQlxHN6J0zH78VuLo0N73OAAADAAA33OZE/sqTBubAAALgAAnhEVeG/kZHT7MB\n",
       "Rc1m75m+10Aeb2I5L98h2MGW4GNUoQo6i2Czm/JVWBf+KYDJThSzQJzC0VtrMIMXvmzoZ1tMuO9e\n",
       "YsbbyDj7eG/VhLVT6yPESitYDMrYylv0eUzXSjMO3zGYZWkc07hq+MHkOmg2KTAaK8cDim5fsVOk\n",
       "jVfZUWa2QHtm/Ic4fe8l8yd2ZB/lC2yyFvLVBKm/42I+bkYTw7RfOEu0Ht5vuuC9fS+lMy0/v403\n",
       "6oHX/wRXmkvv8W+8WizuO1OKR2hCJF/N4rbJqxaVj5ey+WtQtH/Po3FS0JjC8uqukEhGsjl6YpgM\n",
       "svk0CUqn29zyf4iyXadSfzS969awvkqLwEjWlLimzcwcj7dEXQKlzRyKpWjD19BPgUggbrSzKTLK\n",
       "E/9CzP4AsJES8zwtb8g782RM4+UWbOuaa0m+ZtJDOfzHEdxZIOMCd+RYL4qh2HjwKfy4jhcAv56U\n",
       "TeY5gZU1Ra2vqhuS9Da8/GfIubkXP/ja/Rz9EmXq6+LKnWs7LuppVRy0Yzdx/fRw7z9N2F3diHnb\n",
       "mmQ1YWOsv9YnMC15qMK6IalhaVtWbuugTo930IxOiuS078tXdfa8VwiBiD56rCsu4ckXY3ZX6z56\n",
       "8gw0U3rRMtmpFvlUeK1FmjbY0xLDnY28WHzVSsZeGmy6KCpo+W5v7Uo6QZ3lRCaZeCO1guSam2Ej\n",
       "yfqOYhClijvrYLMtwsYAXKFwpJASzTPu4MrnKiaolzSfvGIdUKAj4+FeQLpZMy31zPSQk9ZF66KG\n",
       "RRCqs+Pp6B2h1/jaLQiQXWj527jr4BdUwI5y/P1MWUsTAU3+wgBl1ogeulsoOS70SFSfzBrLLZiC\n",
       "o/NCoNNdtdiWvu4ft1xz3kFMsLd9TVH3JosWMLH8Slwb4mtvwD0+9LjqPBEAK3rTxCe3ZapwcDhn\n",
       "oraFJKWO/QZgF5w1g+AcsPz0i56D3HBa79JWpErzB6pJPVRMLNJ0kki5jV3hFm7drZd9ro+mp7L0\n",
       "cghuv/23kkiRhdccmaf6CGxuSv/JPAlWyjsHq5JlHWuIxYNCauYQcjqs/tHbexv3u/mq/Sj6jnv1\n",
       "V2jQyAt40r4JiDn0rDCzCJqpIWMLEYz7qbvLLsmtxk7mIOT/5ajnqDNdzuZAVggj6N7XBg3FGTi0\n",
       "3+BXjHkDzqj86apC4wklL6mh9UO17Qj9Yd7bZLVQ3gWpfPkZPiAg1yghTOtfzcE8n3M6YfmDY30W\n",
       "arpJ/cv+wJEYFxzDzbL53ZvMc7iL+fkb/NzUm60/sNovprqATOA2d2u0tFVcveKrIJ3yxyiNUWGD\n",
       "NrJDMCLaCMGDHoiFSTZBTToynYzjWR/G5YirYOyZk027LrF0XEs4FWD3YG1wfF6iUYVuOQyAWT7D\n",
       "HFn7KCgSg0CSrwrgEWy0yBOL3gmr061T3+gjeMibCSJ7/RAA1kmbNAgIgOoYMeTp6ghc2oG9f8Fe\n",
       "Xcz35KnsL74tNqkWBjFca21BXnI11T8np7JJIhJupGRWzJVwhDPSpnDxUOhbCgm4HKrMwUs8/jcd\n",
       "3y9Qa2BRCA14xNfjcVbKARJ0839u4x98t7bbgMMQl9VG87BujjM27I4y3dVJf84D5/kucySbz10q\n",
       "ll/vCHR10BxVbkbvvvSi11NBvTXUu609GlPbKEkM7SODJylmY5PlOHMaWpT9tT7o00CFPF5nRG7I\n",
       "eYtgrBs2WLBaHbIVlyoxFa4QCaMdQSDDxvchx4Bvbxnk9FJ0T35GOk3vIzqgFpj5ztyt00QzA1gI\n",
       "PAWnOQwlRjjTxWWLjsJorRCVc5YyTkdNKbJUh5hlCCs+izscWUGoAMBwjE58gofTTi+N4jMzpgob\n",
       "tt+NJj3T1h5UxkE0O4bL0rLm17ahkQmTp/JU8ukMB2w3QKq649pWM9bP/qy1yAjKZdTSh4AzNsNB\n",
       "kEbU4/3E+83DVOxy6hlEpGY1S8phSfditqSTWgMEU16xeLgB1HL0UHXyMpRHQYhMe9+z4Nf+MIT3\n",
       "IWpaEeiP/OK2mSh/OHwuQVpQ/Ms8aCMgAffDQzvgO/UF9hBQA/J+bUsW1SyDgucL0hu/z+UgAwBk\n",
       "+fQgZPhsXXYXBc13TyO5MP6doMzWF21xJlmiJh15W65GcFgozmjNHqAYWiHHKVQsfC56NngRrNL9\n",
       "V1ulUtpoQBB1Y47J0oUWL136YcxkXe0BVpOGVU80w0v3Xdru562h7xUauBwTZVzlEFD5z+AJsG5b\n",
       "C9pBJ+ENBkfmsSE+xqjBSURBLEyhL5A3+RZGQvuRbCRrlLsSG7Rny2CyB1wJNCJ1zo2ou/oBK+tD\n",
       "2phJgQUYeCWNJj1Jfc7HZz7TvlQ1mpGW7GEGFP8QBqAToj/9Kz/MdxBTpmdSDiK4yHerDr5PKT9p\n",
       "2EtrIDpDN4eif+PTM9zFfd8Q2dzaYdSm2OK3Q3X1zKjteNTlhGdnqsoPyzM9LpXKUmP91ZZRP8I6\n",
       "soUy+tIlc59+oUa8bFnQsh6ILgL8sWArJtNOBnZLIHMfqJKpKem8jiATiIuCuWqJYuvDhXoCulLW\n",
       "gxJP8HoLdcVPeqSkjsp0JVhK523vE8BTU41ErRGigbiZS6jq/hWZaKnTMdMcyYAFz+zg2yp+eOBB\n",
       "S5ydpoM5hjJDnl15IEhyPQiDnei6PdGg/nJwWf/Te7f81pMbeo7f95V0GQKwWhNXLkHqtwHPPhrI\n",
       "vQKRJx6nEVRnyYDjdE1rTyjvv+w22Gr1RhMMvAoisOzBEuw7aM3Die/lWPELEjUqVoT/gzStXqAF\n",
       "jQDz8iXDmE2ynKbklTAwo57/NQkzKFwrYWI238n3XRU7rICJ/oPiW2wD9ifHnd3t7xRD2lgMi7S4\n",
       "rmreoApps4ZKJxujZ5T7rpE5Zhensdmw9Rh4GotoHV0zYJlA6dhGfZLInY8NXYqQxLbRwmzKN+A/\n",
       "hE87sV7SkE5cWLXW22YbzJMwZOdo5TFY56uUZZXQ/TObGe8GeYMRCzsBHeQsCiComlqtskddu3ZT\n",
       "bwhaSYs4POnCLTDAGHQo+AayoQYnFQ51vdRkwcMX69cKBzCPp6ouMJWsP+/unTPZi4HooUfgDYeN\n",
       "dt8BW1H2bJ7L7hyfDQsGTTLkTsk9CwOMBjyplaQD8duElCf7FSLRDMhoLK7u48uRZTdPb/G4AT0V\n",
       "C3X4A6ySOJjQ8pc8UmpR/wqtfzx9dzJLYM+zpBCMQxd+Y3D45P8mAwWH50W/DAhcSh5R1rjCJK1A\n",
       "pfeNauVCmR/+DqveNKJyU0m5EEGvkCbfO6VbUUxDfEZwRYtpLzUjZkTzpC6BpO/+1iC6jjiofyTg\n",
       "jB2JQtkEPqq4FWqj0bxlk1mPMi/+74+lBJDf3Nf2/Rt7yT48/GHfeQP1iY2PKUhz1ETVK2nhW9IL\n",
       "qO0geD5CeEfsNRF8/t7IGy9mVAJUG1YkU/5VfA0SWqMNI2O/f86ckQ+WtRKuAqWQoTWWiiAmOIFs\n",
       "BHWNWKWjX1Y9RU9ZnhNGWRdCQx4SOFdjCKV/T6A4KJ4Ww3ukMp7qjEkYShxNyTm6LjKLQYVqNe/3\n",
       "e3rg9ateJs41cnGqvvokLzwHHYr1/L3ZwE7Sp+O1vlpb3vefa/E/rondLweKwqRXTqOCLnXSLgs9\n",
       "KXzT3LXk8lPyJfdpnYKQENwd1J1DbWIfhHYChCL6jaFwtyP2ySUbFknTTbEpH8VdflwD5SSGB09e\n",
       "CQPXLOXU6BsfvbavoH4lrRdNB8vyUPZrll9xhMHgGbxc/+arHznMolF/EPmfX3LFFUBZ0qsBjsk8\n",
       "lK3HdRUL3YdcjgLZieer7luAENGfHrC3ZfQA/uAZEI1TM28uy9r4hCjQNr3lV47IQReY9P8aFMtE\n",
       "4CQplfTn9wi7RIz5mMyYRkEaBFZDxHmMo1utbfa/Lhn/2M4BpUpxtMDWf7Yhp1sH08F1eAalJbB+\n",
       "NvD7MoK2JZDt9mKMvh3zEDnY6gO6KIrmImybsj21GOYfX1ULEzZg7sd1a48EZsZhC++GPdW98+e7\n",
       "Hx5stkMsJEKReS1WO0DRlJiyZhWTTrtMr0oWMtbSIMUAGxGVPKPV7kXoOA7SMoEmggAxuEXrjRWv\n",
       "odx1x7/hRVZoWZcIbeAI7AGSYO4zxua4YmHjqJ0sc4Txpy7BKHsTjb4hXisry4FnZ2OD1f7fJG6R\n",
       "ECTSMvcMclDNIZT3RTK6/T5w5bJRvyIKafn0YOm1ZibWya7F5AeNuWGGmcrR578gmaXOH4JqzaHG\n",
       "mffeXAfXWUzJhA9B4H6cTAxi+fnYRkhkWawjHbftwmBIcTcVg1NRmeFQsw8jwf4S6fEeMK0zpYYC\n",
       "sm4fR/Lm3X/97BGDqReoACqaZPbUabhKdHOvvo8t9mfUscwNDtgmj1tUvWu8FTjpxzTEO6TxY1Ng\n",
       "FQOAXyKGoiUSP4kyIrGsVdbpEFV4av4mnYwQWVfd9DZbbBJJxyE4N0UGbTlX8DulCl464ArgAAAD\n",
       "AAAE7QAAATVBmiNsQ3/+p4QANfcXICfAs1+PwOM2TQwZMXfW/+/Ks1GdSh3OyN/NmDlqXiGkTRge\n",
       "S+XCzOkB/zD+wOOVHvNc8mkImA4FJ4szYRKt1ja7hqTFg9itiV7tPZzkA55YFcpN75PIcHZCr5X7\n",
       "9kvfm2lHk4sRubp49DUQsgQTYqzfsnM3VMrn2sn4RkRax9I+ek3h0vgJSJyZNKpy2rQ18H8QkjV+\n",
       "xgbVLHCS9MSfCk+LzpOe/hphUB3kMkn8fq1hMJo0GElOhV9xA7yi65LMNK0mhPK6HLeOu0QiUL4U\n",
       "YKk81IoNaQ6PefAAnHtD0W9IuQAV1WR59pHWQPxUH9y7wtDHkx69qMEJq96gK6icsLwrpO3HKCx0\n",
       "atqY3B4xgNpW68UAarpf2KCvvdK0wbkmlMk9RK/ADQgAAABYQZ5BeIV/ACj5DIgPm72Q7SdNpl1/\n",
       "xqhAB9or9neTjeHkAbBlDhyQC0YhD8SfVIdmTcMyE+Omar9k/J1VawGXU1DTGUILH2yV7Gu5BN8P\n",
       "4vDvPxZs1lwLKQAAAD4BnmJqQr8AKO0T90nNLhS8vRGII1gV5mq8ipbuIBzbrxDe5nOGo0AJLnLK\n",
       "4tZDflA3I/5nCjSmwdI+rHAS8AAAAKlBmmRJqEFomUwId//+qZYAGUlkUAFwHc/oXA8E7P4Oq1oY\n",
       "L4oejPuxa05jqSCgt8r0NI05CrgTAihztH6+yTE+7LXCfpEgMbeZUWvgRCqC7NpfQVze7Vvg28gv\n",
       "Tjsa4EnMHYdwbVvX1tyQIHNS2kd6MPMVl0de+9SrxbIwJcR2UCrEz8oZMXeR8psB3p1Lyp/cGj1+\n",
       "NYL5BWc7ZteWYRVbEFUgFXp2zqHVAAAAp0GaiEnhClJlMCHf/qmWABlJZFABECUGe93ZOiHZuFQU\n",
       "tq7mpdCzDCXrYIvoXZuBKfxji68yrm0+KruTTMAM3y5lNRIGWn9iV2y3z3r77qXj+tjjlvbaH+fC\n",
       "z8on5rYqtWp+L6x+Kud1mK6kwSjyJC4plnkCWqoDkDYAzmZaX42rHnZ/1MkGls8A03kzSgpqLdfA\n",
       "hCuZGp5NnPF6dUt9Zqi0xqPRudxZAAAAe0GepkU0TC//AB20viLhLq5rVv/inETYfFpkAH2bDz59\n",
       "Nr50nZzgvcWm5nD8BYjTVhH0XIYnsjvYoeDIvQ2Wc4j6cuFQcf4hQ0NJgfWyTXBpO9Ny3yd90uLo\n",
       "O/Qzl+OA0q1I4xr95kmQnpPduBXsn32cB5IN5c6idGAEPQAAAEQBnsV0Qr8AI65sUJO95y3SiPwj\n",
       "0AG0UlFMi/6oNAe/I/oS+f6MIOhDa+xOHDp5yvA4BRQbR8q71mqA5I8SbTfw+gDugQAAAEcBnsdq\n",
       "Qr8AKO0T+W/6S5Ns8TTB10AAEQDAyjm+qTUT3RWasxznySVigamX7n9iv3ue+U6JicN7EJtUmV0r\n",
       "mNjxC6afJpIWUAAAANBBmspJqEFomUwU8O/+qZYAGUlkUAE5JSkdW+bEpLMxreKSUFg8ifULJtjj\n",
       "TDDFwbfJCH7W7t6IrXAZd00yvQqwbECn+6B8agJ9Sku1G/cmS5uKgNB/yaYyUc+r9VvyVAkdm+SR\n",
       "3cAXuT/bse11FVV5l6Kdl+7+6LE2FYf6C34g+dj/dTNGd3PTHHQ1QmcsKv9yGm6OWiV90rml4FKg\n",
       "g9lNo/y7J14FsTyik9hVoLtVzvqEpSX6LM/QAGLMJBvAsDUPjZO7UD240FlABsV5WHxYAAAAQQGe\n",
       "6WpCvwAo7WBLXlKpWSTcXer7v+EB+iSWVoAN2HazEj1gIbf7xSwkrq+0tuCN4bt1CYtdWWlye5iL\n",
       "Me//AHdBAAAA10Ga7knhClJlMCHf/qmWABlJZFABN18+QbO4lTcY89Km0kxvAhy9FrGi0fiP63Li\n",
       "K9A1msChzu5Kei2wR3/NvlzRKS+2NfhJ+opf9DnXAFgnO2ISNxFqem+RzyOpiTVpzdp3zmHecnv6\n",
       "vB/vWUzJfp0iHNJ1Uuk+Z4decNFsBgHPFdOildGp0bPZQMTLURAWOG2sX/FToIQjCA0djtqlnOAt\n",
       "ETPv2Vx4E3oO5Rh8LZYA8luVnmzZS12wYn/csmOa39+Mj8cMYKqDLFM6ova/ljlk+W/Iq9TAAAAA\n",
       "ZEGfDEU0TC//AB2hbOmwAt49cKX0R8qnSRSrNC07Kis/X/4N898bFnbWbviBHMZSwQnZmK4qr9Qc\n",
       "LsU2vLf7YrSg58SxDMuRiQeUnXgMQW//NVyeY4wgPRot6wEVw0Vmz5BkAVsAAAA9AZ8rdEK/ACj5\n",
       "DKsf8Q37YTsota1VlCHfFRC/8tlRIEldigB9uaGtRojR2gqMEABxw7We8IoQ2Pmv084C2wAAAEMB\n",
       "ny1qQr8AKPYPHzBo/pmBpiiOPOhABCdXAwD6EXDYv8dG8o12SuarcuVG9/QllOPUSHqOb+MlgTho\n",
       "yEgRLNu18AVtAAAAm0GbMkmoQWiZTAh3//6plgAZWbjtAA7S6AVIAPitT7VDQ3x8pMBeKAeM5wt4\n",
       "SjTP9xVg+7KKMvXtnBAzVLXZ/7vDxb+Pd7Co0FKZPJDkUqIZen3/ym61km50HDZhbh9zSwB3IVUm\n",
       "nbJc+3MuF/mJ/RsWBwS9GCD1kyldZujv1DwQ5PlQ/UulBwT10Xbrrsp7NqHt49seuQ4//R15AAAA\n",
       "NkGfUEURLC//AB20y8UdGpFdzr6ncCBBoAAtee5E3gqLn8I7d+pf4zgdcaHdDpOaY06Vz6EhUwAA\n",
       "AEMBn290Qr8AI66dS946e3DfYAM8KtN9wOIuJ8oryRWTRnDswQYrCEkOlwqlBfKBgq7jiO6/a6N9\n",
       "j49n69VwFqYPSAJuAAAAJwGfcWpCvwAo7WApI0xXuwim44tW5eEsW1s5lWeUAgL32uTc6QDKgQAA\n",
       "AJpBm3VJqEFsmUwId//+qZYAGVgr3lQAS6BVIiflb6p4ah5Pkj3e3yv+CX2rZvnp9j1TvugnMAPg\n",
       "rZStNn8zuKsFize5aqf9ydlgAlHorvnM/UA0IIVvXIdDIacnO7k9bHejN9ZTs9UgUffLePmu5sah\n",
       "QEPm/+GkldB+dSRnwNXA7ArM3GVXUlt9HBd6C9uDuuFYh3tD/ItRiikkAAAAK0Gfk0UVLCv/ACjt\n",
       "E/mXnZWgjEGlbIgreuOzPPn+1mZJ2pbqh+Vfy9OVCPgAAAAuAZ+0akK/ACO7FffmOeZ5UgNAB9MZ\n",
       "45XNsDAmJfGPGxeV+ObU8o6YlwzGj5wCpwAAANNBm7lJqEFsmUwIb//+p4QAM4KNBw4BpY/M/HUr\n",
       "pvKf5HXmN9Usg1pws2r1hYWML3OZ5qj4vFSJqur66/tQc7Zc7LL11cgqn5UWRmiqQXeWH3p4zawY\n",
       "U3CD2T3ffEHPy+vdJIE1I1Im1WiBgBd70EKOu8PgJA6wHepNyhzD8gdEY5sPEwVE8AmggY8EMImT\n",
       "oap0R0xFq14kEUaHFYRMCLU1CtWpdA/7PTv9v8t16lEi0BOqsuhxJn6Vq9EqvWFpr/Wfv/TMhSCh\n",
       "t4SnZ/gS+kADfiBbAAAAbUGf10UVLC//AB5ktrfw0ALdYNkqaeCHLTzZLuGP6jBdwMmbyrCKkg6y\n",
       "GuT7hNA3QHkwI9nL377mci6Y8Ly4+/JaUDB2l13zXV/vzg0YC6m1z3Yt7d5pVEfucQcBlAkR1K+r\n",
       "xjXkSyr3TiDMCbkAAABBAZ/2dEK/ACjpbH2pax/tbczfQDwFKLgBAMZbULnGLLosKQqYRysfd0R/\n",
       "DeYrStsXpJtillUWThUpEnjMeSk2IekAAAAvAZ/4akK/ACoNE/PL1kP0BeEUKJdA/MK0WwbPngv8\n",
       "SJ/22QB/b1VC6Uz1X9T0BDwAAACZQZv7SahBbJlMFEw3//6nhAAyJv+/bJADaIVeZM9RUsZXeEJN\n",
       "6v9rLTaDnt0+out8Y4t5H5udpbwu7WowBsJYxqE4EqOott6w1WEG8r8GmfDgMsjYYf+wJh/PPzSj\n",
       "lKpXlrTy5kV2Eq6FpPYfJz10lNyB6/U9gmhNgHeaVQUgCA/IffsWyeposRHPl8zv2sZXfpKfeRoN\n",
       "CWqBAAAAMAGeGmpCvwAo9e5pwsjSdP9BJqFGrg0/2aeG2pjqV2EsTsAv54YtzBNsgUniI6AdMAAA\n",
       "ALRBmh1J4QpSZTBSw7/+qZYAGUlkUAHCR4q9zibP931CAVSpuuxwdmf7njUpQAmABF/K9DRzRAnc\n",
       "8zSOeL3i/XvY9s9j96h3oVYkHVR9T5hA4itRG2dJOshK/RASd37PMcZ+QlbulPeLnqLjO8gqnkIp\n",
       "+bqiEjRZG1dlypYEdUmiRmDg5rOsKTuDus1Qm26O4CikdoLm1F3Hj1nENuXQDdUTsN64PmhnBsLp\n",
       "YVCpGuVBxe1qGTEAAAAlAZ48akK/ACj1/iNFBRRXWv/YsrqnJQzoJh3nmMLefGwYO4MoIQAAAJRB\n",
       "miFJ4Q6JlMCG//6nhAAyMcfgBLPZZUFC66TJdSPnmqm0vV9NZ34ug2nezEF1B254RX/h8pZBlfYP\n",
       "JtB0xxUAzG0gzdOv/wsrG+zoWiCvlht/YSrkZd4o/AM6n04AGfxkGfF+ENRnT4EaPuSyHHn1C+uc\n",
       "QJoWtE2SKiUbtPb9pprO7M03IcSQu/dwOK4ICOWRSwcCAAAATkGeX0UVPC//AB20vh6oVl0buNwg\n",
       "AgFsfK75RS1FtA1X2KMxvsK1d3oML1U+ZyGTS2cNiL0uQN3JDy6IQYrqFKLtmxkO8sLuPfxrQUwW\n",
       "UAAAACwBnn50Qr8ACKo12aKf32WHVDCn9nxrLwAHFFNil1X6qTbjQvQq0hx9z5tjQQAAAEEBnmBq\n",
       "Qr8AKO0Ty8Odba3k0doANoYbjCdKPixYtm59lHmb+82UswI9A/WhqjXrACy5rnrlGhbapqKb7bfA\n",
       "5Lg7oAAAAJNBmmJJqEFomUwId//+qZYAGUU9zzgWoALquSYd8a9cnXz9YCnAjcCgmjjbtpC2BNd9\n",
       "NeAar8F1520gILsW3177b9LkmgdVqtb6w+77ElOAste8f3m/2jK8CBDsvw4WOjcFB2KFScYJPKmp\n",
       "OGtrVXtn3AK9MgoQL1cIDIurvMxkEVlD5CnhhtxIN4rBvhmObu7TKKEAAAB8QZqGSeEKUmUwIb/+\n",
       "p4QAMjbBIADje8zlanXOtCjANdfWH25e1nfzP1vv5qcc6dJIOtcc8+2dkkgQ7RGQ7lM9+vPBFYpU\n",
       "ojWUekGfmyrX6Vff0IpHPhgWvfHxNWLwCwxHXUF+DqSji86D7LRpK6V5zPiqZRqXDCUkHMG8wAAA\n",
       "AD5BnqRFNEwv/wAdtL4eqFZcsKkq7GNrbULpROWavdhaS8X0AJScQPGwrihcfYXHM5n1yhpncl81\n",
       "Bv9hfFQR8QAAADgBnsN0Qr8ACG17umwgBCeQ736FvnzuOeZYpe9S5G58dRkV43efYW7pZE2/m/PJ\n",
       "QVJaP1WK7/vlIQAAAEMBnsVqQr8AKO0Ty8OdW3du4AM8QdPDtPIRHruUQtReWeXrV7VYvCmDvePr\n",
       "Lpdmfp0TgkaC8zje37ri5bTrC971/YKDAAAAfEGayEmoQWiZTBTw7/6plgAZT2Bv9ABdVy8KZGds\n",
       "Uzy46tcxo5mNei+q0WS4vXNlKHDlzroptwEzfYyK+liJXdDGIPMmalGlS9fD7TrLXSXwP8FHQefz\n",
       "ziAb0H4GCyVHvrKK1pqMCIhsbPCZXGIKFao2goHfFz5aUXZCtPkAAAAnAZ7nakK/ACjtO2gj5kI/\n",
       "oACH1LtNrOI3fFrvXa3jI5yWjQMmHYekAAAAkUGa7EnhClJlMCG//qeEADJOku5/gBaa0F05w24F\n",
       "D9x6ATnwF7LTH3rCHs7rbqqWMej20hNkZjJ41Nz+e04zS6V0QJMeP5X3fenn+GQxKVDxJf19FQuN\n",
       "KI8IOBeavyiNix0I5VBobI9JVobW346LMQKXC1n0+nkUW/rzI2Buw7qgq/+qLEKNPq/23UaOddsb\n",
       "u2oAAAB6QZ8KRTRML/8AHVQfAwNWAC4xOi8ge96GPRvFy+UQFd+Hvr8E/IpnhI7Jmdo6GQnr5nLY\n",
       "JIaJ32Bbh+TZDW813IzJBoHjq4DE7B9myYoSPQJ+0rxOSuizgbIFDcb1G4iLPnXznVUIhl3FSyir\n",
       "F19ReJdp2F7EgmUgS8EAAAAoAZ8pdEK/ACj5I8FdsZ7z1ABtIqQDGegmae1e9RWSuTmOeltk58hJ\n",
       "wAAAAEEBnytqQr8AKPXx0cRXaI75E65ecyoCgAav7779vtlVucfD31xZFCsAmj8aexHjPViBYBy0\n",
       "AAWiKS4IP3i8Oi4b0AAAAJxBmy9JqEFomUwIb//+p4QAMkO2yQAt4ZvtrBIkPYtj0LG3B6hxpeBi\n",
       "QkpNdAog6Hy720YvAnTyRsM15VvPAROKTx+FUEvZ78Wx08/WeYJZskgVo3VzL80IsDiXqkXzzq6N\n",
       "9dveAsrIxn2Pie0Wd2gFoJ3mxXzlET1Hl8/NNxgfA0yy4CKR7ivMshQubqbYZqEM5XMnFmhOS7ac\n",
       "WmEAAAA1QZ9NRREsK/8AKPXkRgSsR+YQaML6kYAPCeXUySBwevTFCkW78JUn/SBdAQC2UFl/5lew\n",
       "j4EAAABFAZ9uakK/ACj17l81DLMFN4V4FoAQoo53JAPKGbrXquAuEn098e7efMTPYxe3PGuZS5Wm\n",
       "vYIqrEwyjAw4JrYAWRPPY2HzAAAAnUGbcUmoQWyZTBRMO//+qZYAGelC0AawPdigA5v7M3M+G04o\n",
       "aNNEFw8fvWgtoMnFwbCqMSdLTipr5F34YpPlLgJR18VdNO/IkxgxbIR7IBajZDvXB0QvLvfRY3NG\n",
       "Vz3TrrKvDom/eGZYcd6wLcImX2Rb6H6q9TVClNKYk+qC3fR427CS71c3iR75NUjmmBhQ2NbqQg0W\n",
       "tOoOclv7PHgAAAApAZ+QakK/ACoV7lRzLlb4z9pCQQGf4C19NZESKLJ54QK5sR5nSOZyfQQAAACP\n",
       "QZuUSeEKUmUwId/+qZYAGUlkUAFygc6jOPGfpi9sOI5CoZJiKsBxU5JeQWDZ4d8Rlxryxa+8mjCl\n",
       "vg74ebMOVSoD8hPaYyD2+jN79fbrENr5ROaI6/I9Q44CJ+njBtzDXh5wYOkCYlS9klV1ZGARo+1o\n",
       "WjZQ+j7M2X2vouE+vN9YgARheIJYE/5wUFpl8y8AAABMQZ+yRTRMK/8AKPXuXzUMsy+QwDjdAAEm\n",
       "17jho0hQBLT5QD4EZVE4dkoQ2g4bRFAB5izOkl2/FJBeq7Ft6R+cd6X0sHrksK/qsg86CAAAACcB\n",
       "n9NqQr8AKPXuXzUMszrSFviSx5QuNQQmL5lTtuplOap6sLcA6CAAAACRQZvYSahBaJlMCG///qeE\n",
       "ADIxx+AEqjSR8RVYobavzgheArk3QeIxmuXvl4QGVe5L1mmlKFTbl9x5s5zbLfDs7U87CQEc9Iey\n",
       "QicsBtxkrz00/eK513Hj8VKHxV4OP/MumOhDTq8tLkSkeNh2KdMJ3Zr0dJ//uXv5bS19H5kQ7M1/\n",
       "wN28a3qJw9T7DgbdMF29YQAAADNBn/ZFESwv/wAdr4089D/toYACICICULS1Etg9Y+VImJ/u4J23\n",
       "4ztNR78sycvvj+DxwIAAAAAjAZ4VdEK/ACj5I8FVsYIwHxg3rOkXv07Bu9sZLwH+xv+p4PkAAAAc\n",
       "AZ4XakK/AAfDoJKZsRN1yp3mLBce+HVYXWaEsQAAAKJBmhtJqEFsmUwIb//+p4QAMjgpkABwkTOV\n",
       "BlxkMbGJokIjb0m4ulgWmEBZ8Pi/UpghDegrj1dn/pFHeAqZfPa1jPLJdFZSPmtyHyMdt2rtC+KG\n",
       "5SUfp4ZK2b85rJy7/I6Ra+P3kHnTTUBUYeirfF7/5/xncBRlo5Nk+1kF+SroELfEyF+O2zPPB5fK\n",
       "iSt6+nfx6L4d8v9kXB5Ah6uuhd59imcAAABQQZ45RRUsK/8AKPahEAN0HFAF4fafbyiqRGD7wXHP\n",
       "6/CCqi9EU2ePn6bmS4YV5qmtyV4DCKPkKgVPdNya80M1zx+bqEEWTiMUpGkn9u2gR8EAAAAnAZ5a\n",
       "akK/ACj1/iM/xsYHeo+18vF2kWr0oPbxG0F08IJVFpc/N2d0AAAAT0GaXEmoQWyZTAh3//6plgAE\n",
       "5/YyrfeLfLO6IF+4safqKmk8OqTwIrTD6OuDwm/P7p+4h486QCINbGAmzwPn+SFH9OsoxGi6Mubh\n",
       "OxJFT60AAACQQZpgSeEKUmUwIb/+p4QAMjHH4AWfTuwp7vfqTYgP7IZqoW5Id6ml0EFdvOdqZKBG\n",
       "HQMZKuRkfpuk2CZiF/OXMXMW9DSEa4yilPXlux0sWwwnG7AragNcVNY/PIivlvyTVhA/cAhajwQP\n",
       "X3PaWEk9/8sCIq5hI4xrSU5tr3g8eH+MN2qBe+vE/QDcX8hVzi6bAAAASkGenkU0TC//AB2XGr1Y\n",
       "ALqPXCO5300pFC199ekNFSYiy7Jji+w37HJJKc3Yiz/32b0nw+yDRDrB8OGGBEa2jYwMbzgBz+Mq\n",
       "gH+AAAAAIQGevXRCvwAo+SO+Io84AS0PO11yz6Eewx9TRpoUYoYDugAAACgBnr9qQr8AKPX+Iz4M\n",
       "un5S+BAAcYAN2E99ktUKu3T3phIwz+cgbKCBAAAANUGaokmoQWiZTBTw7/6plgAEwJt/9ACDapTs\n",
       "veQIZ7qFKSFRnbqw5rCGltrTLsnX4NcrfFtAAAAAQgGewWpCvwAHmWRu4ADNd3u3+enpAXBEgdCf\n",
       "fTIOZDhnemhZyCkok2mle4I9TZRJLxnolYD3AZVt3+yCFEL+KA0vTwAAAHlBmsZJ4QpSZTAhv/6n\n",
       "hAAyZ49cgBt8LXlWP+3kChyvPWhkNECsOlUjH4wRpw+/OMWVjN64PgXPhuneR3oFYamcQxr+8Lm3\n",
       "txt3hN+W/Pj0NDySeZHxXiRf5fcel6VceX3Y/jqih0hK4zucCKDiLRggtdlXhYmRY5fAAAAAd0Ge\n",
       "5EU0TC//AB3EqQAXGFaZLjR6DBN5JVlpik3KeVJ1bn0e4f8n9s1oGSgy08rqspqHgwKVnBkZUvTx\n",
       "885h2uWGFy0SoLrmIRXpuwXFtnVgX68fwSbqpy+V/eK5uZmVXZd142R5HZ3Uhf3ivLq7MkC1a94R\n",
       "w5vRAAAAOQGfA3RCvwAo6YUFAhepB+GreTSSwAmrus9E00lpfQ7PU1tUN8zHKHLSaeHlkFxEihjw\n",
       "8M7/UCHHZwAAACMBnwVqQr8AKO0Tx9ctp3PuR7337kj9QAkQW0lNMjXKZ8BJwQAAAE1BmwdJqEFo\n",
       "mUwId//+qZYABMfpZqZ8vjAC4pneb46lUkmHC/0NoxSAmeUVj4fwp/5wYDWAbzE89rVfMczYFnUL\n",
       "k+IkUMH75yWGIzXv3QAAALRBmytJ4QpSZTAh3/6plgAZ6ULQBuEMSuREf8/jhRf+lZ1FtNUjCZkK\n",
       "45hWhjYtqY+SM039nqwQqaxFw3w6mjS0VjPhI0CWHJ8Y/Hijfdnn4d3lZn951ed6EzJcnZ07FatK\n",
       "/fHiBSvcmKwzOjXBuso++GIjpD6SYZyQ3EUpLXIFicJRIj+6ERaNgGTBJiRodSd2N5NrTLXHHdC4\n",
       "TAQi8DwgHLxv/wHfYnn9raThy3IOah+4geAAAABQQZ9JRTRML/8AHmS1IOuSACWbIygkG9XjFWQb\n",
       "HU453uNhr7kqF2RoUSn9QJk/jWr2xsRjGIO66q05hpsg3pfreZ5t71QkZc/4+1aP7JWc48AAAAA4\n",
       "AZ9odEK/ACjpbGswXaAyagaWABD892o8n8tVCTrA553RTwGDq+67bzISplUvMR4xux7tfUTLzbEA\n",
       "AAAyAZ9qakK/ACoNE5LSc2xF3cTgAzxCZcIqH8gY0OqDgAeH3NSD1aDBKY+Y8b7LftvAm44AAACC\n",
       "QZtvSahBaJlMCHf//qmWABlUEOMAFpxdxg7oj7UkzYdZeszKCBBkoDg7n5LvTcLpoBaAGtyD7p8X\n",
       "IP2ougVUFb5QEzrAV3q6fvHZZBvZH8BL9DOG7xGny7VOOnLrDE+SVC0VzX3VW8js/0WphuB4GxIc\n",
       "B58OuWrsqNSkeUrb3ucq2AAAAEpBn41FESwv/wAdsBKwAkjTv4r7JPV9Zrggy2/SPk9SumViFtyx\n",
       "V1EfFTBGtwXMrRfXFd7BpK9V6B2BfFcQhG4gPqk8tIP+gvYr1wAAAC8Bn6x0Qr8AKPkjviKM+NTM\n",
       "AGeGZ2hrZTSO1VmqPffiuQDkECWuNPKehn+pDwcggQAAAC4Bn65qQr8AKPX+Iz1DzMq1gAzsqzo/\n",
       "zE9ZoSnGdJLSLogh5GCfS560On85wAd1AAAAaEGbs0moQWyZTAh3//6plgAZSWRQATsmJdnx/5Mv\n",
       "N2Fcpke1bPZDJlyQMDxK0zpybJT9LHHW3ntMResKw92qihT97wQ33Ky4En6Xi9q0acZ53J5XOZqM\n",
       "e0RI/BNkmEFxwHbicIFLHpU4AAAAQ0Gf0UUVLC//AB20vh6oVlsa9wyRswEt3Yx4WHgA1xUg5amY\n",
       "q+ZbHAfnQ9DizYRPjjtDuU0Z2CbUii0jDZzv74aBjegAAABAAZ/wdEK/AAdt2z9oANpEsyJOhgSk\n",
       "Wa4E7Yare0N+0maZSf+qNNh2XB3faqdCVUWEyJV8p6+s6gQ3t/05Woz6cQAAADoBn/JqQr8AKO0T\n",
       "y8Oc+KLB4MI4ueAD8C72arXJfuSWpAJQaID1F3FNIZtK5gZbGb+dBHReoH/riuGBAAAAbEGb90mo\n",
       "QWyZTAh3//6plgAZUawqAC2Uw5+TMq5PHL94rsoX8PN2KR3fXxAeOms00j7dhwr0BrRBWASpxRq/\n",
       "FvNZ4KZtqrZGf/HaUyOfNEOiHnzdo019qkazB/Ln0vStq+H94WT6pMDbA5RKnAAAAHlBnhVFFSwv\n",
       "/wAdxKkAHB4GFVDcbrgxbBjV0t+XfKNGqQOQC74SWH3Z7IXLAGYQFRwv+D0V0Ei4hHCLs6zsL22x\n",
       "baSPhYbxaIVP7p/LUdnHnpyKlELIxeT6xSumjFjBzmKLgjao+73n2ELiDubI9CeSi2MLf/GJsDAh\n",
       "AAAAIgGeNHRCvwAo6YUE/7rKgkDRuAFai0lJqzvVdymn30baTAgAAAAcAZ42akK/ACj17l81DK5k\n",
       "3ZN7QVdN6RJs7aQGpQAAAIhBmjtJqEFsmUwId//+qZYAGWS6dQATklKRzT6GGgYLDAAnvq8stNLv\n",
       "7e5IHAM3yPt1hy0HZ0svlBZgcJTzi8HmeMlLKZdLxsU59lZj36OlVB9C/7tWWq+eKdA6jO7QIzE9\n",
       "MQUfeNieAO4HeKbQQ1T1ZYYjEodK3+ut/cYZdmzTlVZ7n/oHcPpBAAAAOUGeWUUVLC//AB2vjTzt\n",
       "rcfw7ABD6skoVexBEvns7yG1yi6g0ip7uy16hXSfsWoaFEzVghl+lD5hZQAAAD0Bnnh0Qr8AKPkj\n",
       "wUex3IR2ACBC+YMNF+CGO6v7Xuv8sl4VhaCLa/03TM+MfmGydizG7Wl3pc/NIL7QpgQ9AAAAJwGe\n",
       "empCvwADoVVZiQEcBzdUAC8lx4FRG+oAOeQGYGc9m/98fNwSwAAAAG9Bmn9JqEFsmUwId//+qZYA\n",
       "GUx6CgAuUBHiW7ra6Zu2fywZVVv3tJy09LpOQp2xSBCNZ7DrQ8qHY+LLC9wXaN4nztl7EYnGh++H\n",
       "u93c3QjJw2O0rHrk+XV12RZ1YVhr4fkHX3SiNAHJla95l/Zr6cEAAABtQZ6dRRUsL/8AHcSpABcY\n",
       "eUMBNBtKHFczKhtQ5p+YAIWwMypeT4HImxzspKF4BkZZ3/N4U5bLQBqV9LQnOYiVOWo6rm7eM8l0\n",
       "vQdqjsLawlKx7S4wNvsHwcztJsZlSTMkOubidQCr3r/uBwQXEQAAADgBnrx0Qr8AKOmFBNS8HvH+\n",
       "XIAOTrWGQobTjCyKU7GKbUjvCGXGqWYBGwkhZpPr/nwvmnf975wGpAAAADYBnr5qQr8AKO0Ty8Ob\n",
       "deFLABywNO/npWJBXa17o1m8HQp0LeNzUOWKem4s+yuFCcvGPydmBLwAAACyQZqjSahBbJlMCHf/\n",
       "/qmWABn2yXPpaAWYL1Th0jze3Levm02aZwLuXT/DNaOq5X28PezZ9EjXK4tNXjorZVbCjc6+NgUT\n",
       "lulKWE7vVU2kjuIJ8oI1GGVpsSdS/1ZSXcqj0FxGqONkHqYg0cEYpRXIwuP1prUC/sEJmcHCtyPR\n",
       "nG8AiAbUmcDoZfrW34IEsq0lJBrF8c0Vytjq4xxpDo2v83W/3J829LyKQDVIlebdV3DUFwAAAGZB\n",
       "nsFFFSwv/wAeZLUg65IAJaFiwqadBtvkunifilsAMb1fcro7+qOjSJQzXwZbOXX0gkRHlLp1Fz6/\n",
       "peZkrXIfmllwmjFRJ4pK0KLhJweN1B/PrKG4p1KIKNlXog8OoN4917CAS8AAAAAoAZ7gdEK/ACj5\n",
       "DIgPjVy6jnOUwgA2ySwXmMI2oBBdnCQDAu/5PwAtoQAAABoBnuJqQr8AKhXuVHMuVvSynLMVi8uk\n",
       "cMP+cAAAAI5BmuZJqEFsmUwId//+qZYAGUlkUAFx0cOy1DHJuu765RHu5TB33BzzGuo6FJEAHO6G\n",
       "ayxPhrAAjj8sSlspM2lsoGlXPYcE6juhDntjMKrw+kKcoAPI/GaE2SsLaCtjgK1pRX/DoTl83TUq\n",
       "CkUFPDjVed35ChaR/MC+l7f3ykj+A8J4tHX5LF8TIjFV/xXxAAAAIEGfBEUVLCv/ACj1/iM8MS0X\n",
       "Hgs8DgFaHvKr8m1avndBAAAAFwGfJWpCvwAo9e5fNZNpcwVUpneYcsN7AAAAgkGbKkmoQWyZTAh3\n",
       "//6plgAZUawqACGLG1LvfzThJYACGa/lqsolBKrEYt0IlAr4mvhW905f3C5x5Qb25yzj784+RWUP\n",
       "tB0mjmSHi107XMhH7l27JcYNnXT+0QGOPzNafGLaBx4GHkwbDub+GrEiRMFGFIQRjUMkMnCqJNSB\n",
       "xbEShcEAAAA/QZ9IRRUsL/8AHa+NPO3hdAATr9sS7fiPN/wgdi7XwOeo3H8tXe/Hq2Pi9iU7g2sr\n",
       "uoOiyQbS4uM67BV4ZG9AAAAAIgGfZ3RCvwAo+SPBSbKY6gACGWCMDA92k0d6yq/SheGQN6AAAAAg\n",
       "AZ9pakK/AAOLXqLWjVeAC26KzQCGsDpwQf7/87VpsaEAAAB7QZtuSahBbJlMCHf//qmWABlMegoA\n",
       "IcSlVUizzqNiWxieg4dJUEM1Jm9Ruv96wKY4PI3S/snzXKEA3ZHA7Atvc7+akt8NgyCoyP8A+Fbk\n",
       "6yvDbXFJc8R80096XbGLxzf5gR4E141gNZ8+8lI8I4HpYtXxru7B65nWzzCgAAAAR0GfjEUVLC//\n",
       "AB21FdgBbpPZ2mIYRlqXRQ8vVSpzouuLB7Ncpw647psisKeUxGBc3RAdTM7wrA7RyAuxMmW9Svx5\n",
       "1OB2UiZcAAAAFAGfq3RCvwAo6WxrMF0O96w/TopvAAAAJwGfrWpCvwAo7TtnUOJ7tQKAC+VkBUcE\n",
       "pggHKiww9jYUU1GSCaEZcQAAAHhBm7JJqEFsmUwId//+qZYAGUlkUAENohsXVzON7n8LtnDc5YF0\n",
       "2CBARU8vuUXjUPtrruIKW6ZbBHf82zwVwOpfluM+0VwJzxowTY8D6xI0yIAvP77FO9+oQ9DJMSK1\n",
       "B9179BO/7BisTC1GI5+pBzpd3riVOh+3Nr8AAAAwQZ/QRRUsL/8AHaFs6bAC3j1wm1Pr8yB/mhNU\n",
       "/riPbJdKmGz2AuDIpDJw7w1mxN5SAAAAFAGf73RCvwAo+QyID40ROxNpBFtqAAAAFwGf8WpCvwAo\n",
       "9f4jEe6TB80SwSO60H3HAAAAbUGb9kmoQWyZTAh3//6plgAZWCb7QAO0ufMVGCgl/NRLzgmXj9Ko\n",
       "mQgV+JtDpPBUv9lJy2+9Zi+l2ewgmEWYW7oUH6RY+5xPxu8P0w15If9LWPBRA9eovs21VexrFCpH\n",
       "sSTda1HKQnGFpg2pNfcAAAAdQZ4URRUsL/8AHbTExVtnCBAAJwXOTciU2XugufAAAAAPAZ4zdEK/\n",
       "AABXrc3gkEuBAAAAGAGeNWpCvwAo7TtnUTymhZw4l2uaUpPdjQAAAJtBmjpJqEFsmUwId//+qZYA\n",
       "GUlkUAE3dO74ggKqzXd6cflhPWE+pZdjeR/y6/m4LWrLi+Dv3n4ZGOxoBC1ElJLzyRVZ+ayjsCpX\n",
       "i2Zx5kE1e0nTZQ4w6Gir2+X+ByCAk1580/1CkU2/xP/A/hTlILwX7Ruq0xJaqh2vu7Fffm9orZMg\n",
       "+XjkWZ+xxeq8KQx3bJeoSLiLQ/ah84hoGQAAAGhBnlhFFSwv/wAdxKkAHG55dbzDHANKOT87ysi0\n",
       "7NEu1XDctKo8VjCj1ReJB0cIzpc34QlW6KObh9TA4srA+i0oefuhISR2b5Zi97xVvwyYweSEUpXr\n",
       "HxzDccELG+PcZNfg30FZt+Hh3QAAACABnnd0Qr8AKOmFBNQkqv85Y/qg5hBv4lBRtpcjZwAj4AAA\n",
       "ABUBnnlqQr8AKPX+IzrxKz4FR1aYEsEAAACqQZp+SahBbJlMCHf//qmWABnk2Nr9AE60z4TWY1cn\n",
       "fGKJQ0VdDXMP3Z8AT4wQeRU5HG8PUWwWPJ7NgrAZZei/8c1NAB79XtFy+tO5OcUV9JEEFPxmfp51\n",
       "6cywyFA3mJzhxDayFCutL8YzqVKnOHQ3/b1YoMMzkkfCTCeXonKrHm/qWwkCdzaoGlfj7Of1qd1r\n",
       "aPswqmww+8z2DuKaBBbC2GAZabxncXjp44AAAAAXQZ6cRRUsL/8AHl968BXLsOvzjBrmKEEAAAAT\n",
       "AZ67dEK/ACoZDIgPjRDWFFyc5wAAAA8Bnr1qQr8AAFisK+/KDiAAAACHQZqiSahBbJlMCHf//qmW\n",
       "ABlJZFABcoCQNEPdEmcsmJ/eXjub+1BOrdi5eGaiOPSVcDmokgrQz0sEhDLbSr9DU+I45cBrCHQT\n",
       "M6qWohrd5d9lRYY4ErbNvp5mlgJeuWtNIQzOl6T4L92/hOy9vBJHArNnEuoY1C/75375KpDGzW9x\n",
       "UI0WHw5xAAAATUGewEUVLC//AB1U9MYAK8SIB1ZW52dYpxGZRJlzfl/sdG4FH5W8ca9s/E++Piw9\n",
       "XX5ushVwu7UcZ1JH7ALjDYj0nuey/7GFlH8RfkGpAAAAHQGe/3RCvwAo6WxrMF1SKpIQAaJbeAv+\n",
       "uYPQgLKAAAAAFwGe4WpCvwAo7TtnBIsIGhsvaQdTGKCBAAAAfkGa5kmoQWyZTAh3//6plgAZTHoK\n",
       "ACcktKutVhY898VpU6ezr9GfExzJa88SiAXiodXQtrHouQNDEbWAoBvDmBw14sdKwh6cVfVLZQ6z\n",
       "zVIWBOJ+aVldps2tHtfmNZlEB9ML7Nzn8nuMuaQm+q476WPnrjrcjXJ4riC7wlPc4gAAADRBnwRF\n",
       "FSwv/wAdtRXYAW6SwZLAKrbrBPLx4hO4+ukjkQ6tBaT532Vjmt1lwdpy2nFA1jnxAAAAFgGfI3RC\n",
       "vwAo+QyID41azgwhwyxTOUkAAAAVAZ8lakK/ACj1/iMXuPShiPdZYOfBAAAAbEGbKkmoQWyZTAh3\n",
       "//6plgAZS7CYAHzdcHER8tjT6BzuLnEKfFifS/6jLr6FHHOqYTieOwBQDYrKHI638R196rqqse4S\n",
       "ImDZ8HGORAVqF/qZjlLtQKtPBWz0h3vAPAi0WXjf8uBFSdbm+TaPjwAAABdBn0hFFSwv/wAdtL4e\n",
       "qFZPE2PrWjQ8lAAAABIBn2d0Qr8AAc/fV3W5/jRxFCAAAAATAZ9pakK/ACjtE8vDmiKzgmyc5wAA\n",
       "AKxBm25JqEFsmUwId//+qZYAGVNqkoALpL6ys310gvnxzuCRxFhwCPE6XgxgOp2FLGzu6hkWFR5W\n",
       "LgFHQR2BTvnUmS4Du2UcvB5MrMRJwfgzCB/S/9maLCq8xBMlscnV0FGbVt8xfq1c0/fhgPuH6Hm/\n",
       "JisWXgu6aH35cmzmIm7fq/TXi4dkrHebX+s4XHiAJGyXbLNSNSkXZzhBXRl3op2REfLXZFgGcgLy\n",
       "92gYAAAAQUGfjEUVLC//AB3EqQAcHgYTVdJXSoCMYbneNEWcf0G3Q3QN6Vt2YS7R2tzv8ln+pqQG\n",
       "3znHucMDTofYaN3DfzLgAAAAFAGfq3RCvwAo6YUEwJH9Q+mFR92NAAAAFwGfrWpCvwAo9f4jGAYa\n",
       "7VmKZ0tE+RlxAAAAf0GbskmoQWyZTAh3//6plgAZWCb7QAXKF4BTtweOJi6N6NczAqkvECslbN4c\n",
       "YOJ4WCLLq0eMYNzB58+7pGD6nlQFLdfxkJMQH+IEUzzokBGntJ+w+A/8zTFbm7pv411lUQllqbT1\n",
       "7AsKts5F7hnpHXgBw2iuSoKXvpJRltQpV4EAAAAXQZ/QRRUsL/8AHa968BXLsSvzjBrmKEAAAAAT\n",
       "AZ/vdEK/ACj5DIgPjRFWFFyc5gAAABEBn/FqQr8AAcUDdt0kj6R/wQAAAJpBm/ZJqEFsmUwId//+\n",
       "qZYAGfJ5dQBBEtK5Cov/sGHF+hH05rbFPbkp84HP0dHxxgq+aZZYYvh5iwcjAwtFPDs5I2/fm+6V\n",
       "n+fXQoia3AecNaaKi/KInSZ8P3NSirWnyoG9L6d/rKr109lUQzBE5kglhrv7Ad5d/yBblSavhtNE\n",
       "rXdI1qG3/VwIzblf8aHqjyAr7j4mi7wqUaVeAAAAPEGeFEUVLC//AB5ktSviGgBbmnE4cYAiC+xZ\n",
       "m6MZ2fXYs/LxN+Qujz8xuNx+ZSxq6wLwJjLhqCqNIBCpuAAAABYBnjN0Qr8AKOlsazBdLQ/nlCko\n",
       "vfKRAAAAFQGeNWpCvwAqDROS0nNrbH7fu7EYoQAAAHhBmjpJqEFsmUwId//+qZYAGUlkUAHCRO45\n",
       "ziW3l8PykWJ2Rd1HGxJ25rVK3e0EreQ5GQ+gJmVsgcE0jYnEymT/4qiPreEiZr7fP0q5/jCyuTx+\n",
       "PhF2miDBmhNJDny4oLf5k/3YYs4pWHaq8ihEmebFQRJ62JxKXAkAAAA/QZ5YRRUsL/8AHVoYWAC6\n",
       "Ikk9OzXROfIM1mL1qfUqKBuV/RcEIO9/eMQLT5AngtchZqNLb/e7Qm9c1Mp0Kjj5AAAAFAGed3RC\n",
       "vwAo+QyID40ROxNpBFtqAAAAEwGeeWpCvwAo9f4jDjo4Dvktx8EAAABiQZp+SahBbJlMCHf//qmW\n",
       "ABlJZFABOyWpSBBZ0Wu3v5G4cNvmeEjVsEX0MNitAJHhqjtgrjttubTS1YtVCO65OARz+T8dt70o\n",
       "ka+G1thHxKM6klo6GB/xurr4Hw5MQ7ljc4gAAAAbQZ6cRRUsL/8AHbS+HqhWUYHe6ndQRPlt9nPh\n",
       "AAAADwGeu3RCvwAAWJM6l7oOIQAAABMBnr1qQr8AKO0Ty8OaIrOCbJzmAAAAY0GaokmoQWyZTAh3\n",
       "//6plgAZSWRQAWyg2vi9dwZrhtRNNm/XLN28Ym/4QhJuzbsRjbGhEI5ljfs9zBOFHEbIU/98R+Ec\n",
       "S4OAbFWkBe6cGxFjGkweDZi5v4IUvVU5hF+LMg5z4AAAAFVBnsBFFSwv/wAdxKkAHB4UJhbLZQh3\n",
       "todnp+/Z4B828jfaE42VsHD7vk1hSzO/nwN0cF+0lBf0lyj6ESXgS8Qc9u7E2ocxlqDE21zczpt6\n",
       "0URC04+BAAAAFAGe/3RCvwAo6YUE1VivI6TaLQOfAAAAFAGe4WpCvwAo9f4h/YZGsyO4yIoRAAAA\n",
       "dEGa5kmoQWyZTAh3//6plgAZSWRQATklpV9LwXzSxS0CwIFgrp+3ptDP3xixSdBarXC2b7/jB5C4\n",
       "Xeyduakf7i86eHllGskypBv3ePRWfSySnXJ5qKc+OffhAzNnSQNDEzhRSgQm53vAo/1sdanLEp+B\n",
       "ZTb0AAAAGUGfBEUVLC//AB2vjTzD0fkOj1LsWrZj8b0AAAAVAZ8jdEK/ACj5I8EH7BS117v1/EO7\n",
       "AAAADwGfJWpCvwAAWKwr78oOIQAAAG9BmypJqEFsmUwId//+qZYAGVUIuoAJySzqPr2XvuqNExB1\n",
       "7SwsSIx/xVwUmDDUoBBgmOfoT4N6vw2EfP9l7YmdDIdBCwk67QwRd+ns19enSUAIJ8z7CK0Vw2A0\n",
       "Ibz4zjBzNikYaC96dW8ar237W6EAAABKQZ9IRRUsL/8AHcSpABcYVpkuNHoME3klWWmNhUu/COlm\n",
       "uHRGCCpMT1U0V0FSVbl1cMWxvlVWSks/YgqVKe6WorBkE1Z0IjrifnAAAAAUAZ9ndEK/ACjphQTA\n",
       "kf1D6YVH3Y0AAAAUAZ9pakK/ACjtE8vDmiJQ/urxHbkAAACgQZtuSahBbJlMCHf//qmWABnx5gYz\n",
       "6ANjMSuQ6+ZqBHAweSCr957ZDYc/BH/yK+2kflH1/Y6qywQ1/VFq6RS+9HR/UGadiDqgHX9hG7X+\n",
       "74PDEJ1Kz84xy/SS7yVADcF1mSgtFveESg2m8VTNCHjPkM/THPv2qkLi8neCI8fT2v2ldnJbQ3tz\n",
       "X3k544/gfjSHfoZ4tT/6If597fsY0zNqYAAAAEFBn4xFFSwv/wAeZLUr4hoAW5pxOHGAIgvsWZvP\n",
       "JnYu0KG5KPWQsj2LBu0+8onq6ydyu8UHh2Or9zPceOw6j4AtoAAAABkBn6t0Qr8AKPkMiA+OczhJ\n",
       "1mbxlybrQN6BAAAAFgGfrWpCvwAqFe5Ucy5W9GIdHqiVcfEAAABtQZuySahBbJlMCHf//qmWABlJ\n",
       "ZFABOSMBUeRUzgeiW6i7v9Ipk8IkB6dXjgXaVByw0LzLF3v7WMH3qxVipM4/XDyN0+v/CxhJgZUf\n",
       "2/qOzNeZfInRUMxE7EriEwOe7SLJkRrfs6EX369q+pvOWQAAABtBn9BFFSwv/wAdtL4eqFZUq7SL\n",
       "rRehWr9L84AAAAARAZ/vdEK/AAHE4DtqYP+BTuAAAAATAZ/xakK/ACjtE8vDmiKzgmyc5wAAAFdB\n",
       "m/ZJqEFsmUwId//+qZYAGUlkUAEQJIMD12H/LzFxIBEsBKZTcaxd8qT0FYWPCMsYB6JdaR+0sre8\n",
       "4zKfWCa8smYG1MbgSvabXi0fdcbwBBqWl1oQNboAAABEQZ4URRUsL/8AHY1lzWAGx6BDd7ub/EnL\n",
       "jc+R3ICIgJiI/V7Ki4KIcDuyiwzJGHTLr9rtrHjIt1Vqrfi6O3PpdLbq/cYAAAAVAZ4zdEK/ACjp\n",
       "hQS2r76M4naTsenBAAAAFQGeNWpCvwAo9e5fNQyCJ2JtS+ecwAAAAF9BmjpJqEFsmUwId//+qZYA\n",
       "GVQQ4wAPzlqucCzn8kpn0CXOGqw/YQhPYv51g6HDHv91IKCV836xBJcQn4ZsvhoWi4PbhhTs3Tk4\n",
       "ZISHF3VO1fgL/Zhu2X1bbgU71Oy2gQAAABVBnlhFFSwv/wAdr408oLa25hiBcfEAAAASAZ53dEK/\n",
       "ACj5I8DQHlJoU8lAAAAADwGeeWpCvwAAWKwr78oOIQAAAHFBmn5JqEFsmUwId//+qZYAGUlkUAFy\n",
       "gZzCgeuotDS67fPAxlfPQ+w3Xht6gGcldOrfvWrpA+3nKsIEdLx/0hCqWkTep9ELTQzWttY0Qgq4\n",
       "KR2WQaC1X1+Dw/MziHFsFzPx3Fv4Ttbuhka1a/bzRqagYAAAADNBnpxFFSwv/wAdqmZMIAJUo6dv\n",
       "YKeJecpgKrTrZpzTupeIUIKdpIrjCiIDEgMvvjNC/uMAAAAWAZ67dEK/ACjphQJxmtuoTpildSTX\n",
       "5wAAABIBnr1qQr8AKO07ZsLZl2sctx8AAABbQZqiSahBbJlMCHf//qmWABlLsJgAlUWPZPld66xP\n",
       "4EjphVvHel/4FYz+ewtBehkJUtQZXAUBHA9qXsMpJoJbc1/HonzcMXZzNetmaKUDOHrSikohm6eA\n",
       "VHx5YAAAAElBnsBFFSwv/wAdxKkAFxhWmS40ezF13KxpmoutWiKHEzHLgLDBBUkLJk2CuRUk127e\n",
       "eAMHuLaOkJosp8ioyI5h9t6u8VowQbspAAAAFAGe/3RCvwAo+SJcd7F2+bUqm4+AAAAAFQGe4WpC\n",
       "vwAo9e5fNQyCJ2JtS+ecwQAAAE5BmuZJqEFsmUwId//+qZYAGUlkUAEQCMv0LTJhhqgMM3ldDCI1\n",
       "O/4hl4Y2/MXQTlixoVyl8uMC0FQer9I7BgF7yxti7RLOwB91zyDlw+4AAAAXQZ8ERRUsL/8AHbS+\n",
       "HqhWTxNj61o0PJUAAAAPAZ8jdEK/AABYkzqXug4hAAAAEwGfJWpCvwAo7RPLw5ois4JsnOcAAACi\n",
       "QZsqSahBbJlMCHf//qmWABnyeXUAWYL1ThAh4fuAkYwBjW2Kf/r/CWmxohShJDC5qI1b/Jr0KoBs\n",
       "CA8LROak4fChTBaQFCxjNzuK1KKzqmXOgWX7Q/tfhb8rcIOMUD12hemI7Cx/JfEfLdBjVZrCXpaB\n",
       "8JvJwxKdFlKDmHIs890ynDmtCMNZVIWO3h44ctWomJa7HTxeXf25/Xj+OdKEMdwpAAAARkGfSEUV\n",
       "LC//AB5fRZEyACy56S4L1JNEf1Mn2zE2LXfd+zQyaWX4FBL3eTsmx+0uL58oR1HdkXqiNPmhTTeW\n",
       "H7LK1uqPncYAAAAYAZ9ndEK/ACoJbFCMkqJZ1o2LpP/N7M8pAAAAEwGfaWpCvwAo9f4jDjo4Dvkt\n",
       "x8EAAABNQZtuSahBbJlMCHf//qmWABlJZFABOKYQr2XHnhpYVEKEX/a3KbgP4Q9JgPEjnSdQRcuD\n",
       "tKmBM+93XaiXe1FLBH2zDZna7SEeY5ccG9AAAAAXQZ+MRRUsL/8AHa+NPOtSLvZMxbEv6cAAAAAS\n",
       "AZ+rdEK/ACj5I8DQHlJoU8lBAAAADwGfrWpCvwAAWKwr78oOIQAAAGhBm7JJqEFsmUwId//+qZYA\n",
       "GUx6CgAnJKVc4HntpD56zzoEG8/U9hqa5MJHJimf9dyiTjfcy8VHV0Q02TT37MlH0Ur3ZI9Ik8Gv\n",
       "vZq7pPgs1LXexHV6dsUyJoD7/SPI0QdTrI/HjCeDKwAAAD5Bn9BFFSwv/wAdtRXYAW6VboWG74JE\n",
       "rBGg34J/ht9CTkVm332dLAibIkjBgezqPNTHz1b5Gpe3beuN+movJQAAABQBn+90Qr8AKOlsazBd\n",
       "DvesP06KbgAAABIBn/FqQr8AKO07ZsLZl2sctx8AAABjQZv2SahBbJlMCHf//qmWABlJZFABNpyX\n",
       "tHGCrJ/ZQ3EMsk5/RKQ8O2Zcxd9Yl72EfM+ZiaRjFYRxVI82wR3/NwCx01wUb0suaEOePa4fTdor\n",
       "c5lbI4dwsCMcvpkyToU8ombgAAAALkGeFEUVLC//AB2hbOmwAt49cJyW7QotQ1KzcwZDe7jJHOYN\n",
       "IdDXqhbU5JrDc+AAAAAUAZ4zdEK/ACj5DIgPjRE7E2kEW2sAAAATAZ41akK/ACj1/iMOOjgO+S3H\n",
       "wAAAAFdBmjpJqEFsmUwId//+qZYAGVkSiUAF8tthWb7PnxzZDVgeHwCyS8moYE5m8L3qlLPF3Tm7\n",
       "l7EVvSOSbG0K1zA3xpmVWsdCIFLiNvQKPBvGCGN52YZLstsAAAAXQZ5YRRUsL/8AHbTExVrUy58p\n",
       "uLXA7GkAAAAPAZ53dEK/AABYkzqXug4gAAAAEgGeeWpCvwAo7TtmwwK1OgnZQQAAAFdBmn5JqEFs\n",
       "mUwId//+qZYAGUlkUAE5I9CPA0i0b3rmTlMPP7mq2OhL70f3t+jsthnFVaZ8NFHf4KuarZ6qR5DZ\n",
       "oeLfYCA/1nRUI/UqMi7lT83NMmaw7MAAAABBQZ6cRRUsL/8AHVNnps3iwAcY0TV0kGCKzmxpWGY/\n",
       "aN3YxcfLxZqnHI8S6rQG4f17/xCSj/xLpSiCzoJejzG/5SEAAAAVAZ67dEK/ACjphQTUI+uilK1d\n",
       "+H/nAAAAEwGevWpCvwAo9f4jDjo4Dvktx8AAAABsQZqiSahBbJlMCHf//qmWABnpQtADpXN5mD/l\n",
       "/UbJPSm1K8Zb/q8hk/n7A765m3kH4DRDGyblnqLfM6x6+O6FH6akmbgN2GuJ8isT7whspmw1sJbc\n",
       "VZBTWL7z1XgrXHtrEEef3AESuULowOmAAAAAF0GewEUVLC//AB5fevAVy7Dr84wa5ihBAAAAEwGe\n",
       "/3RCvwAqGQyID40Q1hRcnOYAAAAPAZ7hakK/AABYrCvvyg4hAAAAaUGa5kmoQWyZTAh3//6plgAZ\n",
       "SWRQATkjL0Bcg+1JNKcdFAZ4jRo18PaeEHPo4kUAhrdvJ8WoCFBuuewpZDu7aSDD2bAXXuOl2AuF\n",
       "7d5G5soGaioj5cV/zJwReo5jTdPmb+fH8c8rmN9z4AAAADtBnwRFFSwv/wAdsESwAtU3jrORlyH0\n",
       "YVpEpqr56ciyxO4d5yW9pbzV39epLmQ/Qgoc3JLIm9cK6fddlQAAABcBnyN0Qr8AKOlsazBdUB9o\n",
       "K5HDBQRlwQAAABIBnyVqQr8AKO07ZsLZl2sctx8AAABnQZsqSahBbJlMCHf//qmWABlaCOX0AEnX\n",
       "RCf2hWnP0EvWKHbxeYqPIWbDCxxE80V7KNTB/wo37mhBvgXifnnOIrbk3416alEPQlg61cDBlhBh\n",
       "+c7JowZBe/iUu6E16JWobL4m4v4m4QAAADFBn0hFFSwv/wAdtRXYAW6Vbi0EZ+gazOqx7zEYRlRn\n",
       "SRyec6PR/cQaeYo8pvh2q8lAAAAAFAGfZ3RCvwAo+QyID40ROxNpBFtqAAAAEwGfaWpCvwAo9f4j\n",
       "Djo4Dvktx8EAAABFQZtuSahBbJlMCHf//qmWABlLsJgAfMKkZfvXRdf015i9ZlnVQ4kcN/44E1zp\n",
       "7A12xkbBErgUA2KgKrDgnN1a+8R1ywlYAAAAF0GfjEUVLC//AB20vh6oVk8TY+taNDyUAAAADwGf\n",
       "q3RCvwAAWJM6l7oOIQAAABMBn61qQr8AKO0Ty8OaIrOCbJznAAAAVUGbskmoQWyZTAhv//6nhAAy\n",
       "RZUsgBbhEjMafXFx9c/xPsKoeWmBQSaBk3huMy5PExVUL9nRJfMNmOwRXLdOW/smoGTKEMlktByv\n",
       "8FqaiCFLrfrIFtEAAABCQZ/QRRUsL/8AHcSpABweBhVG6+NiWXJGuZURYt+YNQ/55MDCyDkCtmrz\n",
       "SnGEETjGXPR5s4NZJCeqqwZA/2+BoRQgAAAAEwGf73RCvwAo6YUEsLZl2oQeKEAAAAATAZ/xakK/\n",
       "ACj1/iMOOjgO+S3HwQAAAENBm/ZJqEFsmUwIZ//+nhAAxEte9eAArPLSvVUhl6JrwZ1X5wU+JUxp\n",
       "6TwQhovucBTj0LPWlANW0Q18esBQmPr5wO6AAAAAFkGeFEUVLC//AB2vjTqjXeZf8wikdlAAAAAT\n",
       "AZ4zdEK/ACj5DIgPjRFWFFyc5wAAAA8BnjVqQr8AAFisK+/KDiAAAAB/QZo5SahBbJlMCFf//jhA\n",
       "AxA7IXmgAPxWuroA8/aYZScaGmoYvIwzVuA76pFfHbZqh5JJxTVFzlxBBqlovU9Wku5nvxPInCzw\n",
       "XInT7hHvudgS1gmNfxfTkwQ4d4d6ES0lcq28HgT7871sMvVOTNLqfH0E1G/7ST2sAmzywb4cWQAA\n",
       "AD1BnldFFSwr/wAqFe7GeAG6CTgtjHjgzQXYO5gj01YJAskhOIJms3lBgKUI6vSwuC6wbHXR1rgW\n",
       "L6afvo7dAAAAFgGeeGpCvwAqFe5Ucy5W9GIdHqiVcfAAAA6ubW9vdgAAAGxtdmhkAAAAAAAAAAAA\n",
       "AAAAAAAD6AAAJxAAAQAAAQAAAAAAAAAAAAAAAAEAAAAAAAAAAAAAAAAAAAABAAAAAAAAAAAAAAAA\n",
       "AABAAAAAAAAAAAAAAAAAAAAAAAAAAAAAAAAAAAAAAAAAAgAADdh0cmFrAAAAXHRraGQAAAADAAAA\n",
       "AAAAAAAAAAABAAAAAAAAJxAAAAAAAAAAAAAAAAAAAAAAAAEAAAAAAAAAAAAAAAAAAAABAAAAAAAA\n",
       "AAAAAAAAAABAAAAAAbAAAAEgAAAAAAAkZWR0cwAAABxlbHN0AAAAAAAAAAEAACcQAAAEAAABAAAA\n",
       "AA1QbWRpYQAAACBtZGhkAAAAAAAAAAAAAAAAAAAyAAAB9ABVxAAAAAAALWhkbHIAAAAAAAAAAHZp\n",
       "ZGUAAAAAAAAAAAAAAABWaWRlb0hhbmRsZXIAAAAM+21pbmYAAAAUdm1oZAAAAAEAAAAAAAAAAAAA\n",
       "ACRkaW5mAAAAHGRyZWYAAAAAAAAAAQAAAAx1cmwgAAAAAQAADLtzdGJsAAAAs3N0c2QAAAAAAAAA\n",
       "AQAAAKNhdmMxAAAAAAAAAAEAAAAAAAAAAAAAAAAAAAAAAbABIABIAAAASAAAAAAAAAABAAAAAAAA\n",
       "AAAAAAAAAAAAAAAAAAAAAAAAAAAAAAAAAAAAGP//AAAAMWF2Y0MBZAAV/+EAGGdkABWs2UGwloQA\n",
       "AAMABAAAAwDIPFi2WAEABmjr48siwAAAABx1dWlka2hA8l8kT8W6OaUbzwMj8wAAAAAAAAAYc3R0\n",
       "cwAAAAAAAAABAAAA+gAAAgAAAAAUc3RzcwAAAAAAAAABAAAAAQAAB6hjdHRzAAAAAAAAAPMAAAAB\n",
       "AAAEAAAAAAEAAAgAAAAAAgAAAgAAAAABAAAEAAAAAAEAAAoAAAAAAQAABAAAAAABAAAAAAAAAAEA\n",
       "AAIAAAAAAQAABgAAAAABAAACAAAAAAEAAAoAAAAAAQAABAAAAAABAAAAAAAAAAEAAAIAAAAAAQAA\n",
       "CgAAAAABAAAEAAAAAAEAAAAAAAAAAQAAAgAAAAABAAAIAAAAAAIAAAIAAAAAAQAACgAAAAABAAAE\n",
       "AAAAAAEAAAAAAAAAAQAAAgAAAAABAAAGAAAAAAEAAAIAAAAAAQAABgAAAAABAAACAAAAAAEAAAoA\n",
       "AAAAAQAABAAAAAABAAAAAAAAAAEAAAIAAAAAAQAABAAAAAABAAAKAAAAAAEAAAQAAAAAAQAAAAAA\n",
       "AAABAAACAAAAAAEAAAYAAAAAAQAAAgAAAAABAAAKAAAAAAEAAAQAAAAAAQAAAAAAAAABAAACAAAA\n",
       "AAEAAAgAAAAAAgAAAgAAAAABAAAGAAAAAAEAAAIAAAAAAQAACAAAAAACAAACAAAAAAEAAAoAAAAA\n",
       "AQAABAAAAAABAAAAAAAAAAEAAAIAAAAAAQAACAAAAAACAAACAAAAAAEAAAQAAAAAAQAACgAAAAAB\n",
       "AAAEAAAAAAEAAAAAAAAAAQAAAgAAAAABAAAGAAAAAAEAAAIAAAAAAQAACgAAAAABAAAEAAAAAAEA\n",
       "AAAAAAAAAQAAAgAAAAABAAAEAAAAAAEAAAoAAAAAAQAABAAAAAABAAAAAAAAAAEAAAIAAAAAAQAA\n",
       "CgAAAAABAAAEAAAAAAEAAAAAAAAAAQAAAgAAAAABAAAKAAAAAAEAAAQAAAAAAQAAAAAAAAABAAAC\n",
       "AAAAAAEAAAoAAAAAAQAABAAAAAABAAAAAAAAAAEAAAIAAAAAAQAACgAAAAABAAAEAAAAAAEAAAAA\n",
       "AAAAAQAAAgAAAAABAAAKAAAAAAEAAAQAAAAAAQAAAAAAAAABAAACAAAAAAEAAAoAAAAAAQAABAAA\n",
       "AAABAAAAAAAAAAEAAAIAAAAAAQAACAAAAAACAAACAAAAAAEAAAoAAAAAAQAABAAAAAABAAAAAAAA\n",
       "AAEAAAIAAAAAAQAACgAAAAABAAAEAAAAAAEAAAAAAAAAAQAAAgAAAAABAAAKAAAAAAEAAAQAAAAA\n",
       "AQAAAAAAAAABAAACAAAAAAEAAAoAAAAAAQAABAAAAAABAAAAAAAAAAEAAAIAAAAAAQAACgAAAAAB\n",
       "AAAEAAAAAAEAAAAAAAAAAQAAAgAAAAABAAAKAAAAAAEAAAQAAAAAAQAAAAAAAAABAAACAAAAAAEA\n",
       "AAoAAAAAAQAABAAAAAABAAAAAAAAAAEAAAIAAAAAAQAACgAAAAABAAAEAAAAAAEAAAAAAAAAAQAA\n",
       "AgAAAAABAAAKAAAAAAEAAAQAAAAAAQAAAAAAAAABAAACAAAAAAEAAAoAAAAAAQAABAAAAAABAAAA\n",
       "AAAAAAEAAAIAAAAAAQAACgAAAAABAAAEAAAAAAEAAAAAAAAAAQAAAgAAAAABAAAKAAAAAAEAAAQA\n",
       "AAAAAQAAAAAAAAABAAACAAAAAAEAAAoAAAAAAQAABAAAAAABAAAAAAAAAAEAAAIAAAAAAQAACgAA\n",
       "AAABAAAEAAAAAAEAAAAAAAAAAQAAAgAAAAABAAAKAAAAAAEAAAQAAAAAAQAAAAAAAAABAAACAAAA\n",
       "AAEAAAoAAAAAAQAABAAAAAABAAAAAAAAAAEAAAIAAAAAAQAACgAAAAABAAAEAAAAAAEAAAAAAAAA\n",
       "AQAAAgAAAAABAAAKAAAAAAEAAAQAAAAAAQAAAAAAAAABAAACAAAAAAEAAAoAAAAAAQAABAAAAAAB\n",
       "AAAAAAAAAAEAAAIAAAAAAQAACgAAAAABAAAEAAAAAAEAAAAAAAAAAQAAAgAAAAABAAAKAAAAAAEA\n",
       "AAQAAAAAAQAAAAAAAAABAAACAAAAAAEAAAoAAAAAAQAABAAAAAABAAAAAAAAAAEAAAIAAAAAAQAA\n",
       "CgAAAAABAAAEAAAAAAEAAAAAAAAAAQAAAgAAAAABAAAKAAAAAAEAAAQAAAAAAQAAAAAAAAABAAAC\n",
       "AAAAAAEAAAoAAAAAAQAABAAAAAABAAAAAAAAAAEAAAIAAAAAAQAACgAAAAABAAAEAAAAAAEAAAAA\n",
       "AAAAAQAAAgAAAAABAAAKAAAAAAEAAAQAAAAAAQAAAAAAAAABAAACAAAAAAEAAAoAAAAAAQAABAAA\n",
       "AAABAAAAAAAAAAEAAAIAAAAAAQAACgAAAAABAAAEAAAAAAEAAAAAAAAAAQAAAgAAAAABAAAKAAAA\n",
       "AAEAAAQAAAAAAQAAAAAAAAABAAACAAAAAAEAAAoAAAAAAQAABAAAAAABAAAAAAAAAAEAAAIAAAAA\n",
       "AQAACgAAAAABAAAEAAAAAAEAAAAAAAAAAQAAAgAAAAABAAAKAAAAAAEAAAQAAAAAAQAAAAAAAAAB\n",
       "AAACAAAAAAEAAAoAAAAAAQAABAAAAAABAAAAAAAAAAEAAAIAAAAAAQAACgAAAAABAAAEAAAAAAEA\n",
       "AAAAAAAAAQAAAgAAAAABAAAKAAAAAAEAAAQAAAAAAQAAAAAAAAABAAACAAAAAAEAAAgAAAAAAgAA\n",
       "AgAAAAAcc3RzYwAAAAAAAAABAAAAAQAAAPoAAAABAAAD/HN0c3oAAAAAAAAAAAAAAPoAAA/gAAAB\n",
       "OQAAAFwAAABCAAAArQAAAKsAAAB/AAAASAAAAEsAAADUAAAARQAAANsAAABoAAAAQQAAAEcAAACf\n",
       "AAAAOgAAAEcAAAArAAAAngAAAC8AAAAyAAAA1wAAAHEAAABFAAAAMwAAAJ0AAAA0AAAAuAAAACkA\n",
       "AACYAAAAUgAAADAAAABFAAAAlwAAAIAAAABCAAAAPAAAAEcAAACAAAAAKwAAAJUAAAB+AAAALAAA\n",
       "AEUAAACgAAAAOQAAAEkAAAChAAAALQAAAJMAAABQAAAAKwAAAJUAAAA3AAAAJwAAACAAAACmAAAA\n",
       "VAAAACsAAABTAAAAlAAAAE4AAAAlAAAALAAAADkAAABGAAAAfQAAAHsAAAA9AAAAJwAAAFEAAAC4\n",
       "AAAAVAAAADwAAAA2AAAAhgAAAE4AAAAzAAAAMgAAAGwAAABHAAAARAAAAD4AAABwAAAAfQAAACYA\n",
       "AAAgAAAAjAAAAD0AAABBAAAAKwAAAHMAAABxAAAAPAAAADoAAAC2AAAAagAAACwAAAAeAAAAkgAA\n",
       "ACQAAAAbAAAAhgAAAEMAAAAmAAAAJAAAAH8AAABLAAAAGAAAACsAAAB8AAAANAAAABgAAAAbAAAA\n",
       "cQAAACEAAAATAAAAHAAAAJ8AAABsAAAAJAAAABkAAACuAAAAGwAAABcAAAATAAAAiwAAAFEAAAAh\n",
       "AAAAGwAAAIIAAAA4AAAAGgAAABkAAABwAAAAGwAAABYAAAAXAAAAsAAAAEUAAAAYAAAAGwAAAIMA\n",
       "AAAbAAAAFwAAABUAAACeAAAAQAAAABoAAAAZAAAAfAAAAEMAAAAYAAAAFwAAAGYAAAAfAAAAEwAA\n",
       "ABcAAABnAAAAWQAAABgAAAAYAAAAeAAAAB0AAAAZAAAAEwAAAHMAAABOAAAAGAAAABgAAACkAAAA\n",
       "RQAAAB0AAAAaAAAAcQAAAB8AAAAVAAAAFwAAAFsAAABIAAAAGQAAABkAAABjAAAAGQAAABYAAAAT\n",
       "AAAAdQAAADcAAAAaAAAAFgAAAF8AAABNAAAAGAAAABkAAABSAAAAGwAAABMAAAAXAAAApgAAAEoA\n",
       "AAAcAAAAFwAAAFEAAAAbAAAAFgAAABMAAABsAAAAQgAAABgAAAAWAAAAZwAAADIAAAAYAAAAFwAA\n",
       "AFsAAAAbAAAAEwAAABYAAABbAAAARQAAABkAAAAXAAAAcAAAABsAAAAXAAAAEwAAAG0AAAA/AAAA\n",
       "GwAAABYAAABrAAAANQAAABgAAAAXAAAASQAAABsAAAATAAAAFwAAAFkAAABGAAAAFwAAABcAAABH\n",
       "AAAAGgAAABcAAAATAAAAgwAAAEEAAAAaAAAAFHN0Y28AAAAAAAAAAQAAACwAAABidWR0YQAAAFpt\n",
       "ZXRhAAAAAAAAACFoZGxyAAAAAAAAAABtZGlyYXBwbAAAAAAAAAAAAAAAAC1pbHN0AAAAJal0b28A\n",
       "AAAdZGF0YQAAAAEAAAAATGF2ZjU3LjgzLjEwMA==\n",
       "\">\n",
       "  Your browser does not support the video tag.\n",
       "</video>"
      ],
      "text/plain": [
       "<matplotlib.animation.FuncAnimation at 0x116578780>"
      ]
     },
     "execution_count": 59,
     "metadata": {},
     "output_type": "execute_result"
    },
    {
     "data": {
      "image/png": "[encoded data removed]",
      "text/plain": [
       "<matplotlib.figure.Figure at 0x116594128>"
      ]
     },
     "metadata": {},
     "output_type": "display_data"
    }
   ],
   "source": [
    "cartPoleAnimation(xt)"
   ]
  },
  {
   "cell_type": "markdown",
   "metadata": {},
   "source": [
    "# C code export"
   ]
  },
  {
   "cell_type": "markdown",
   "metadata": {},
   "source": [
    "It is possible, to export SymPy expressions to a variety of other programming languages, for example C, C++, Fortran and JavaScript."
   ]
  },
  {
   "cell_type": "markdown",
   "metadata": {},
   "source": [
    "---\n",
    "For a more detailed insight into code generation with sympy, have a look at the following tutorial:\n",
    "https://www.sympy.org/scipy-2017-codegen-tutorial/"
   ]
  },
  {
   "cell_type": "markdown",
   "metadata": {},
   "source": [
    "## System dynamics"
   ]
  },
  {
   "cell_type": "markdown",
   "metadata": {},
   "source": [
    "The easiest way to convert an expression to C code is, to call the `ccode()`-printer:"
   ]
  },
  {
   "cell_type": "code",
   "execution_count": 98,
   "metadata": {},
   "outputs": [
    {
     "data": {
      "text/plain": [
       "'// Not supported in C:\\n// ImmutableDenseMatrix\\nMatrix([\\n[                                                                                                                                                                   x3],\\n[                                                                                                                                                                   x4],\\n[(-0.10424957*u + 0.010424957*x3 + 0.01606162700033*x4**2*sin(x2) - 0.154069*(-0.006588*x4 + 1.51141689*sin(x2))*cos(x2))/(0.023737256761*cos(x2)**2 - 0.385546184731)],\\n[                    (0.0243644004*x4 + 0.154069*(-u + 0.1*x3 + 0.154069*x4**2*sin(x2))*cos(x2) - 5.589673084287*sin(x2))/(0.023737256761*cos(x2)**2 - 0.385546184731)]])'"
      ]
     },
     "execution_count": 98,
     "metadata": {},
     "output_type": "execute_result"
    }
   ],
   "source": [
    "sp.ccode(dx_t_with_symbols)"
   ]
  },
  {
   "cell_type": "markdown",
   "metadata": {},
   "source": [
    "Because the `ccode()`-printer does not support SymPy matrices, an array expression has to be defined, to which the values of the SymPy expression are assigned to. In the case of the pendulums ODE, this is a 4 by 1 matrix symbol:"
   ]
  },
  {
   "cell_type": "code",
   "execution_count": 103,
   "metadata": {},
   "outputs": [],
   "source": [
    "dx_t_ccode = sp.MatrixSymbol('dx_t_ccode', 4, 1)"
   ]
  },
  {
   "cell_type": "code",
   "execution_count": 106,
   "metadata": {},
   "outputs": [
    {
     "data": {
      "image/png": "[encoded data removed]",
      "text/latex": [
       "$$dx_{t ccode}$$"
      ],
      "text/plain": [
       "dx_t_ccode"
      ]
     },
     "execution_count": 106,
     "metadata": {},
     "output_type": "execute_result"
    }
   ],
   "source": [
    "dx_t_ccode"
   ]
  },
  {
   "cell_type": "markdown",
   "metadata": {},
   "source": [
    "Now the `ccode()`-printer is called again, but with the argument `assign_to`: "
   ]
  },
  {
   "cell_type": "code",
   "execution_count": 102,
   "metadata": {},
   "outputs": [
    {
     "data": {
      "text/plain": [
       "'dx_t_ccode[0] = x3;\\ndx_t_ccode[1] = x4;\\ndx_t_ccode[2] = (-0.10424957*u + 0.010424957*x3 + 0.016061627000330002*pow(x4, 2)*sin(x2) - 0.15406900000000001*(-0.0065880000000000001*x4 + 1.5114168900000002*sin(x2))*cos(x2))/(0.023737256760999997*pow(cos(x2), 2) - 0.38554618473099994);\\ndx_t_ccode[3] = (0.0243644004*x4 + 0.15406900000000001*(-u + 0.10000000000000001*x3 + 0.15406900000000001*pow(x4, 2)*sin(x2))*cos(x2) - 5.589673084286999*sin(x2))/(0.023737256760999997*pow(cos(x2), 2) - 0.38554618473099994);'"
      ]
     },
     "execution_count": 102,
     "metadata": {},
     "output_type": "execute_result"
    }
   ],
   "source": [
    "sp.ccode(dx_t_with_symbols, assign_to=dx_t_ccode)"
   ]
  },
  {
   "cell_type": "markdown",
   "metadata": {},
   "source": [
    "This code can now be copied to a C code function, to simulate the system dynamics."
   ]
  },
  {
   "cell_type": "markdown",
   "metadata": {},
   "source": [
    "___"
   ]
  },
  {
   "cell_type": "markdown",
   "metadata": {},
   "source": [
    "## Control law\n",
    "To compute control signal, that could be run on the real system, we export the control signal expression $u = -K x - V y_d$ to C code. At first a symbolic expression of the desired output $y_d$ is introduced."
   ]
  },
  {
   "cell_type": "code",
   "execution_count": 113,
   "metadata": {},
   "outputs": [],
   "source": [
    "yd = sp.Symbol('yd')"
   ]
  },
  {
   "cell_type": "markdown",
   "metadata": {},
   "source": [
    "After that, the control law is converted to C code."
   ]
  },
  {
   "cell_type": "code",
   "execution_count": 117,
   "metadata": {},
   "outputs": [
    {
     "data": {
      "text/plain": [
       "'[10.0*x1 - 157.766220417435*x2 + 18.7463849197588*x3 - 41.635377052761*x4 - 10.0*yd]'"
      ]
     },
     "execution_count": 117,
     "metadata": {},
     "output_type": "execute_result"
    }
   ],
   "source": [
    "sp.ccode(-K.dot(xx) - V*yd)"
   ]
  }
 ],
 "metadata": {
  "kernelspec": {
   "display_name": "Python 3",
   "language": "python",
   "name": "python3"
  },
  "language_info": {
   "codemirror_mode": {
    "name": "ipython",
    "version": 3
   },
   "file_extension": ".py",
   "mimetype": "text/x-python",
   "name": "python",
   "nbconvert_exporter": "python",
   "pygments_lexer": "ipython3",
   "version": "3.6.3"
  }
 },
 "nbformat": 4,
 "nbformat_minor": 2
}