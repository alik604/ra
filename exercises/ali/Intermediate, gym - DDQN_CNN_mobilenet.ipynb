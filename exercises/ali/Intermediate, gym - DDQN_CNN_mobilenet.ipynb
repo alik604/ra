{
 "cells": [
  {
   "cell_type": "markdown",
   "metadata": {},
   "source": [
    "# Double Deep Q Learning\n",
    "> by Khizr Ali Pardhan | Alik604\n",
    "\n",
    "[video](https://www.youtube.com/watch?v=RfNxXlO6BiA) | [Code](https://github.com/philtabor/Youtube-Code-Repository/blob/master/ReinforcementLearning/DeepQLearning/torch_deep_q_model.py), [Code 2nd file](https://github.com/philtabor/Youtube-Code-Repository/blob/master/ReinforcementLearning/DeepQLearning/main_torch_dqn_space_invaders.py) | [Code](https://github.com/BhavanJ/pytorch-spaceinvaders-/blob/master/Space_invaders_BJ.py) that I didnt use, but might be a good backup source\n",
    "\n",
    "### done\n",
    "* Steal some samplecode\n",
    "    - why reimplement the wheel? \n",
    "* [skim a paper](http://cs231n.stanford.edu/reports/2016/pdfs/106_Report.pdf) to feel smart | Recurrent Deep Q-Learning for PAC-MAN\n",
    "\n",
    "[source](https://medium.com/analytics-vidhya/introduction-to-double-deep-q-learning-ddqn-473833cf1a70) \n",
    "\n",
    "\n",
    "\n",
    "\n",
    "In Double Deep Q Learning, the agent uses two neural networks to learn and predict what action to take at every step. \n",
    "\n",
    "One network, referred to as the Q network or the online network, is used to predict what to do when the agent encounters a new state. \n",
    "\n",
    "It takes in the state as input and outputs Q values for the possible actions that could be taken. \n",
    "\n",
    "the online network takes **a few frames**, *i think*, (observation) and **outputs a vector of N Q values**, one for the value of moving left in the current state, and one for the value of moving right in the current state.\n",
    "\n",
    "The agent will choose the action that has the higher corresponding Q value output by the online network. **like a argmax** \n",
    "\n",
    "Double DQNs handles the problem of the overestimation of Q-values.\n",
    "\n",
    "The solution is: when we compute the Q target, we tend to use 2 networks to decouple the action selected from the target Q value generation. \n",
    "\n",
    "We:\n",
    "* use our DQN network to select what is the best action required for the succeeding state (the action with the very best Q value).\n",
    "* use our target network to calculate the target Q value of taking that action at the next state.\n",
    "* Deep Q Network — selecting the best action a with maximum Q-value of next state.\n",
    "* Target Network — calculating the estimated Q-value with action a selected above.\n",
    "\n",
    "Therefore, Double Deep Q Network helps us reduce the overestimation of Q values and helps us train quicker and have more steady learning."
   ]
  },
  {
   "cell_type": "markdown",
   "metadata": {},
   "source": [
    "### Note\n",
    "\n",
    "I used a unfrozen pretrained `mobilenet_v2`. Its slow :(\n",
    "\n",
    "This change is reversable, you just have to swap-comment some lines\n",
    "\n",
    "Be sure to change `agent.EPSILON` to `agent.EPS_END`, the latter is by default 0.05\n",
    "\n",
    "To make Parallel\n",
    "https://www.reddit.com/r/MachineLearning/comments/8aimei/d_what_is_the_right_way_to_parallelize_rollouts/\n",
    "https://twitter.com/brandondamos/status/982699290492571654"
   ]
  },
  {
   "cell_type": "code",
   "execution_count": 3,
   "metadata": {},
   "outputs": [],
   "source": [
    "import utils \n",
    "import time \n",
    "import pickle\n",
    "\n",
    "import torch as T\n",
    "import torch.nn as nn\n",
    "import torch.nn.functional as F\n",
    "import torch.optim as optim\n",
    "import numpy as np\n",
    "\n",
    "import matplotlib.pyplot as plt\n",
    "\n",
    "import gym\n",
    "from gym import wrappers"
   ]
  },
  {
   "cell_type": "code",
   "execution_count": 4,
   "metadata": {},
   "outputs": [],
   "source": [
    "# from https://raw.githubusercontent.com/philtabor/Youtube-Code-Repository/master/ReinforcementLearning/DeepQLearning/torch_deep_q_model.py  \n",
    "# video https://www.youtube.com/watch?v=RfNxXlO6BiA\n",
    "class DeepQNetwork(nn.Module):\n",
    "    def __init__(self, ALPHA):\n",
    "        super(DeepQNetwork, self).__init__()\n",
    "#         #self.conv1 = nn.Conv2d(3, 32, 8, stride=4, padding=1)\n",
    "#         self.conv1 = nn.Conv2d(1, 64, 8, stride=4, padding=1)\n",
    "#         self.conv2 = nn.Conv2d(64, 128, 4, stride=2)\n",
    "#         self.conv3 = nn.Conv2d(128, 256, 3)\n",
    "#         #self.fc1 = nn.Linear(128*23*16, 512)\n",
    "#         self.fc1 = nn.Linear(256*19*8, 512)\n",
    "#         self.fc2 = nn.Linear(512, 6)\n",
    "#         #self.optimizer = optim.SGD(self.parameters(), lr=self.ALPHA, momentum=0.9)\n",
    "\n",
    "\n",
    "\n",
    "        import torchvision.models as models\n",
    "        mobilenet = models.mobilenet_v2(pretrained=True)\n",
    "        \n",
    "        # features is Sequence object, it is full of Conv and related layers. We don't touch that\n",
    "        # classifier is Sequence object with a nn.Dropout object at the first index\n",
    "        # and a nn.Linear object at the second/last index\n",
    "        num_ftrs = mobilenet.classifier[-1].in_features\n",
    "        # replace nn.Linear\n",
    "        mobilenet.classifier[-1] = nn.Linear(num_ftrs, 6)\n",
    "\n",
    "#         t_in = T.randn(64, 3, 256, 256)\n",
    "#         print(\"MobileNet v2:\", mobilenet.classifier, mobilenet(t_in).shape, sep=\"\\n\", end=\"\\n\\n\")\n",
    "\n",
    "\n",
    "\n",
    "        self.mobilenet = mobilenet\n",
    "        self.optimizer = optim.RMSprop(self.parameters(), lr=ALPHA)\n",
    "        self.loss = nn.MSELoss()\n",
    "        self.device = T.device('cuda:0' if T.cuda.is_available() else 'cpu')\n",
    "        self.to(self.device)\n",
    "        print(f'Device: {self.device}')\n",
    "\n",
    "    def forward(self, observation):\n",
    "        observation = T.Tensor(observation).to(self.device)\n",
    "        #observation = observation.view(-1, 3, 210, 160) #.to(self.device)\n",
    "        observation = observation.view(-1, 3, 185, 95)\n",
    "        return self.mobilenet(observation)\n",
    "#         observation = observation.view(-1, 1, 185, 95)\n",
    "#         observation = F.relu(self.conv1(observation))\n",
    "#         observation = F.relu(self.conv2(observation))\n",
    "#         observation = F.relu(self.conv3(observation))\n",
    "#         #observation = observation.view(-1, 128*23*16).to(self.device)\n",
    "#         observation = observation.view(-1, 256*19*8)\n",
    "#         observation = F.relu(self.fc1(observation))\n",
    "#         actions = self.fc2(observation)\n",
    "#        return actions"
   ]
  },
  {
   "cell_type": "code",
   "execution_count": 5,
   "metadata": {},
   "outputs": [],
   "source": [
    "class Agent(object):\n",
    "    def __init__(self, gamma, epsilon, alpha,\n",
    "                 maxMemorySize, epsEnd=0.05,\n",
    "                 replace=10000, actionSpace=[0,1,2,3,4,5]):\n",
    "        self.GAMMA = gamma\n",
    "        self.EPSILON = epsilon\n",
    "        self.EPS_END = epsEnd\n",
    "        self.ALPHA = alpha\n",
    "        self.actionSpace = actionSpace\n",
    "        self.memSize = maxMemorySize\n",
    "        self.steps = 0\n",
    "        self.learn_step_counter = 0\n",
    "        self.memory = []\n",
    "        self.memCntr = 0\n",
    "        self.replace_target_cnt = replace\n",
    "        self.Q_eval = DeepQNetwork(alpha)\n",
    "        self.Q_next = DeepQNetwork(alpha)\n",
    "\n",
    "    def storeTransition(self, state, action, reward, state_):\n",
    "        if self.memCntr < self.memSize:\n",
    "            self.memory.append([state, action, reward, state_])\n",
    "        else:\n",
    "            self.memory[self.memCntr%self.memSize] = [state, action, reward, state_]\n",
    "        self.memCntr += 1\n",
    "\n",
    "    def chooseAction(self, observation):\n",
    "        rand = np.random.random()\n",
    "        actions = self.Q_eval.forward(observation)\n",
    "        if rand < 1 - self.EPSILON:\n",
    "            action = T.argmax(actions[1]).item()\n",
    "        else:\n",
    "            action = np.random.choice(self.actionSpace)\n",
    "        self.steps += 1\n",
    "        return action\n",
    "\n",
    "    def learn(self, batch_size):\n",
    "        self.Q_eval.optimizer.zero_grad()\n",
    "        if self.replace_target_cnt is not None and \\\n",
    "           self.learn_step_counter % self.replace_target_cnt == 0:\n",
    "            self.Q_next.load_state_dict(self.Q_eval.state_dict())\n",
    "\n",
    "        if self.memCntr+batch_size < self.memSize:\n",
    "            memStart = int(np.random.choice(range(self.memCntr)))\n",
    "        else:\n",
    "            memStart = int(np.random.choice(range(self.memSize-batch_size-1)))\n",
    "        miniBatch=self.memory[memStart:memStart+batch_size]\n",
    "        memory = np.array(miniBatch)\n",
    "\n",
    "        # convert to list because memory is an array of numpy objects\n",
    "#         print(memory[:,0][:] == memory[:,0])\n",
    "\n",
    "        rewards = T.Tensor(list(memory[:,2])).to(self.Q_eval.device)\n",
    "        indices = np.arange(batch_size)\n",
    "        \n",
    "        # I can double train the below, if i send `memory` all at once\n",
    "        \n",
    "        Qnext = self.Q_next.forward(list(memory[:,3][:])).to(self.Q_eval.device)\n",
    "        maxA = T.argmax(Qnext, dim=1).to(self.Q_eval.device)      \n",
    "        \n",
    "        Qpred = self.Q_eval.forward(list(memory[:,0][:])).to(self.Q_eval.device)\n",
    "        Qtarget = Qpred.clone()        \n",
    "        Qtarget[indices,maxA] = rewards + self.GAMMA*T.max(Qnext[1])\n",
    "\n",
    "        #Qpred.requires_grad_()\n",
    "        loss = self.Q_eval.loss(Qtarget, Qpred).to(self.Q_eval.device)\n",
    "        loss.backward()\n",
    "        self.Q_eval.optimizer.step()\n",
    "        self.learn_step_counter += 1\n",
    "        \n",
    "        \n",
    "        if self.steps > 500:\n",
    "            if self.EPSILON - 1e-4 > self.EPS_END:\n",
    "                self.EPSILON -= 1e-4\n",
    "            else:\n",
    "                self.EPSILON = self.EPS_END        \n",
    "        \n",
    "        \n",
    "            \n",
    "#if self.iter_cntr % self.replace_target == 0:\n",
    "#    self.Q_next.load_state_dict(self.Q_eval.state_dict())\n",
    "                \n",
    "\n",
    "# This isn't my code. IDK why we dont optimize Q_next, however, I trust the author (youtube: machine learning with Phil). \n",
    "# This was because the two networks are different... IDK how to update the Q_next network"
   ]
  },
  {
   "cell_type": "code",
   "execution_count": 6,
   "metadata": {},
   "outputs": [
    {
     "name": "stdout",
     "output_type": "stream",
     "text": [
      "6\n",
      "Box(0, 255, (210, 160, 3), uint8)\n"
     ]
    },
    {
     "data": {
      "text/plain": [
       "(210, 160, 3)"
      ]
     },
     "execution_count": 6,
     "metadata": {},
     "output_type": "execute_result"
    }
   ],
   "source": [
    "# env = gym.make('CarRacing-v0')\n",
    "# env= gym.make('Pong-v0')\n",
    "env = gym.make('SpaceInvaders-v0')\n",
    "\n",
    "print(env.action_space.n)\n",
    "print(env.observation_space)\n",
    "# print(env.unwrapped.get_action_meanings())\n",
    "# help(env.unwrapped)\n",
    "\n",
    "env.reset().shape"
   ]
  },
  {
   "cell_type": "code",
   "execution_count": 32,
   "metadata": {},
   "outputs": [
    {
     "name": "stdout",
     "output_type": "stream",
     "text": [
      "Device: cuda:0\n",
      "Device: cuda:0\n",
      "done initializing memory\n",
      "starting game  1 epsilon: 1.5000\n"
     ]
    },
    {
     "name": "stderr",
     "output_type": "stream",
     "text": [
      "C:\\Users\\kali\\AppData\\Roaming\\Python\\Python37\\site-packages\\ipykernel_launcher.py:47: VisibleDeprecationWarning: Creating an ndarray from ragged nested sequences (which is a list-or-tuple of lists-or-tuples-or ndarrays with different lengths or shapes) is deprecated. If you meant to do this, you must specify 'dtype=object' when creating the ndarray\n"
     ]
    },
    {
     "name": "stdout",
     "output_type": "stream",
     "text": [
      "score: 75.0\n",
      "starting game  2 epsilon: 1.5000\n",
      "score: 150.0\n",
      "starting game  3 epsilon: 1.5000\n",
      "score: 195.0\n",
      "starting game  4 epsilon: 1.4397\n",
      "score: 195.0\n",
      "starting game  5 epsilon: 1.3366\n",
      "score: 35.0\n",
      "starting game  6 epsilon: 1.2869\n",
      "score: 60.0\n",
      "Time taken: 4570.4892\n"
     ]
    }
   ],
   "source": [
    "start = time.time() # i7 4790k & RTX 3070, 70mins \n",
    "time.sleep(3)\n",
    "\n",
    "env = gym.make('SpaceInvaders-v0')\n",
    "agent = Agent(gamma=0.95, epsilon=1.0*1.0, \n",
    "              alpha=0.003, maxMemorySize=5000,\n",
    "              replace=None)\n",
    "while agent.memCntr < agent.memSize:\n",
    "    observation = env.reset()\n",
    "    done = False\n",
    "    while not done:\n",
    "        # 0 no action, 1 fire, 2 move right, 3 move left, 4 move right fire, 5 move left fire\n",
    "        action = env.action_space.sample()\n",
    "        observation_, reward, done, info = env.step(action)\n",
    "        if done and info['ale.lives'] == 0:\n",
    "            reward = -100\n",
    "#         agent.storeTransition(np.mean(observation[15:200,30:125], axis=2), action, reward,\n",
    "#                             np.mean(observation_[15:200,30:125], axis=2))\n",
    "        agent.storeTransition(observation[15:200,30:125], action, reward,\n",
    "                            observation_[15:200,30:125])\n",
    "        observation = observation_\n",
    "print('done initializing memory')\n",
    "\n",
    "best_score = 200 # yes, this is weird\n",
    "scores = []\n",
    "epsHistory = []\n",
    "numGames = 6\n",
    "batch_size=25 # 32\n",
    "# uncomment the line below to record every episode.\n",
    "# env = wrappers.Monitor(env, \"tmp/space-invaders-1\", video_callable=lambda episode_id: True, force=True)\n",
    "for i in range(numGames):\n",
    "    print('starting game ', i+1, 'epsilon: %.4f' % agent.EPSILON)\n",
    "    epsHistory.append(agent.EPSILON)\n",
    "    done = False\n",
    "    observation = env.reset()\n",
    "    frames = [observation[15:200, 30:125]] #[np.sum(observation[15:200, 30:125], axis=2)]\n",
    "    score = 0\n",
    "    lastAction = 0\n",
    "    while not done:\n",
    "        if len(frames) == 3:\n",
    "            action = agent.chooseAction(frames)\n",
    "            frames = []\n",
    "        else:\n",
    "            action = lastAction\n",
    "        observation_, reward, done, info = env.step(action)\n",
    "        score += reward\n",
    "#         frames.append(np.sum(observation_[15:200, 30:125], axis=2))\n",
    "        frames.append(observation_[15:200, 30:125])\n",
    "\n",
    "        if done and info['ale.lives'] == 0:\n",
    "            reward = -100\n",
    "#         agent.storeTransition(np.mean(observation[15:200, 30:125], axis=2), action, reward,\n",
    "#                               np.mean(observation_[15:200, 30:125], axis=2))\n",
    "        agent.storeTransition(observation[15:200, 30:125], action, reward,\n",
    "                              observation_[15:200, 30:125])\n",
    "        observation = observation_\n",
    "        agent.learn(batch_size)\n",
    "        lastAction = action\n",
    "        #env.render()\n",
    "        \n",
    "    scores.append(score)\n",
    "    print('score:',score)\n",
    "    if score > best_score:\n",
    "        best_score = score\n",
    "        pickle.dump(agent, open(f'checkpoint_top_score{score}.p', \"wb\" ))   \n",
    "        \n",
    "x = [i+1 for i in range(numGames)]\n",
    "fileName = f'{str(numGames)} Games Gamma {str(agent.GAMMA)} Alpha {str(agent.ALPHA)} Memory {str(agent.memSize)}.png'\n",
    "\n",
    "\n",
    "end = time.time()\n",
    "print(f'Time taken: {(end - start):.4f}')\n",
    "\n",
    "\n",
    "## Batch since 32. cart pole. eps_dec=5e-4*1.5\n",
    "# 31, 35 sec for CUDA, 80 steps.                             max 10-moving-average, 204"
   ]
  },
  {
   "cell_type": "code",
   "execution_count": 9,
   "metadata": {},
   "outputs": [
    {
     "name": "stdout",
     "output_type": "stream",
     "text": [
      "Score is:105.0\n"
     ]
    }
   ],
   "source": [
    "# utils.plotLearning(np.arange(len(scores)), scores[:], epsHistory, fileName)\n",
    "def bench(N=1):\n",
    "    for i in range(N):\n",
    "        done = False\n",
    "        score=0\n",
    "        observation = env.reset()\n",
    "        while not done:\n",
    "\n",
    "            done = False\n",
    "            observation = env.reset()\n",
    "            frames = [observation[15:200,30:125]]\n",
    "            score = 0\n",
    "            lastAction = 0\n",
    "            while not done:\n",
    "                if len(frames) == 3:\n",
    "                    action = agent.chooseAction(frames)\n",
    "                    frames = []\n",
    "                else:\n",
    "                    action = lastAction\n",
    "                observation_, reward, done, info = env.step(action)\n",
    "                score += reward\n",
    "                frames.append(observation_[15:200,30:125])\n",
    "                if done and info['ale.lives'] == 0:\n",
    "                    reward = -100\n",
    "        #         agent.storeTransition(np.mean(observation[15:200,30:125], axis=2), action, reward,\n",
    "        #                               np.mean(observation_[15:200,30:125], axis=2))\n",
    "                observation = observation_\n",
    "        #         agent.learn(batch_size)\n",
    "                lastAction = action\n",
    "                env.render()\n",
    "        env.close()\n",
    "        print(f'Score is:{score}')\n",
    "bench(N=1)"
   ]
  },
  {
   "cell_type": "code",
   "execution_count": null,
   "metadata": {},
   "outputs": [],
   "source": [
    "def train_more(n_games=50):\n",
    "    for i in range(n_games):\n",
    "        print('starting game ', i+1, 'epsilon: %.4f' % agent.EPSILON)\n",
    "        epsHistory.append(agent.EPSILON)\n",
    "        done = False\n",
    "        observation = env.reset()\n",
    "        frames = [observation[15:200, 30:125]] #[np.sum(observation[15:200, 30:125], axis=2)]\n",
    "        score = 0\n",
    "        lastAction = 0\n",
    "        while not done:\n",
    "            if len(frames) == 3:\n",
    "                action = agent.chooseAction(frames)\n",
    "                frames = []\n",
    "            else:\n",
    "                action = lastAction\n",
    "            observation_, reward, done, info = env.step(action)\n",
    "            score += reward\n",
    "            frames.append(observation_[15:200, 30:125])\n",
    "\n",
    "            if done and info['ale.lives'] == 0:\n",
    "                reward = -100\n",
    "\n",
    "            agent.storeTransition(observation[15:200, 30:125], action, reward,\n",
    "                                  observation_[15:200, 30:125])\n",
    "            observation = observation_\n",
    "            agent.learn(32)\n",
    "            lastAction = action\n",
    "\n",
    "        scores.append(score)\n",
    "        print('score:', score)\n",
    " \n",
    "    pickle.dump(agent, open(f'checkpoint_sapaceInvaders_mobilenet_top_score_{score}_epoch{len(scores)}.p', \"wb\" ))   \n",
    "            \n",
    "train_more(n_games=6)"
   ]
  },
  {
   "cell_type": "code",
   "execution_count": 7,
   "metadata": {},
   "outputs": [],
   "source": [
    "import pickle\n",
    "# pickle.dump(agent, open(f'checkpoint_top_score_{scores[-1]}.p', \"wb\" ))\n",
    "\n",
    "# agent = pickle.load(open(\"checkpoint_sapaceInvaders_mobilenet_top_score_130.0_epoch35.p\",'rb'))"
   ]
  },
  {
   "cell_type": "code",
   "execution_count": 8,
   "metadata": {},
   "outputs": [
    {
     "data": {
      "text/plain": [
       "0.0"
      ]
     },
     "execution_count": 8,
     "metadata": {},
     "output_type": "execute_result"
    }
   ],
   "source": [
    "agent.EPSILON = 0.0 # 0.2 #0.75\n",
    "agent.EPSILON"
   ]
  },
  {
   "cell_type": "code",
   "execution_count": 89,
   "metadata": {},
   "outputs": [
    {
     "data": {
      "text/plain": [
       "[<matplotlib.lines.Line2D at 0x28064acbe88>]"
      ]
     },
     "execution_count": 89,
     "metadata": {},
     "output_type": "execute_result"
    },
    {
     "data": {
      "image/png": "[encoded data removed]",
      "text/plain": [
       "<Figure size 432x288 with 1 Axes>"
      ]
     },
     "metadata": {
      "needs_background": "light"
     },
     "output_type": "display_data"
    }
   ],
   "source": [
    "plt.plot(scores)"
   ]
  },
  {
   "cell_type": "code",
   "execution_count": 108,
   "metadata": {},
   "outputs": [],
   "source": [
    "env.close()"
   ]
  },
  {
   "cell_type": "code",
   "execution_count": null,
   "metadata": {},
   "outputs": [],
   "source": []
  },
  {
   "cell_type": "code",
   "execution_count": 33,
   "metadata": {},
   "outputs": [],
   "source": [
    "pickle.dump(agent, open(f'checkpoint_spaceInvader_mobilenet_foobar.p', \"wb\" ))  "
   ]
  },
  {
   "cell_type": "code",
   "execution_count": null,
   "metadata": {},
   "outputs": [],
   "source": []
  }
 ],
 "metadata": {
  "kernelspec": {
   "display_name": "Python 3",
   "language": "python",
   "name": "python3"
  },
  "language_info": {
   "codemirror_mode": {
    "name": "ipython",
    "version": 3
   },
   "file_extension": ".py",
   "mimetype": "text/x-python",
   "name": "python",
   "nbconvert_exporter": "python",
   "pygments_lexer": "ipython3",
   "version": "3.7.9"
  }
 },
 "nbformat": 4,
 "nbformat_minor": 4
}
